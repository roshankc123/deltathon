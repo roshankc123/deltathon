{
 "cells": [
  {
   "cell_type": "code",
   "execution_count": null,
   "id": "e72e240b",
   "metadata": {},
   "outputs": [],
   "source": [
    "soils = {\n",
    "    \"Clay Soil\": {\n",
    "        \"composition\": \"high in clay particles, low in sand and organic matter, making the soil dense and heavy. It has the ability to retain moisture well but can easily become waterlogged and compacted if not managed properly. \",\n",
    "        \"description\": \"Clay soil is typically found in cooler, wetter regions and is known for its ability to hold nutrients well, but can be difficult to work with due to its density and tendency to become compacted. It is best suited for crops that prefer moist soil and can handle heavy soil, such as root vegetables.\"\n",
    "    },\n",
    "    \"Red Soil\": {\n",
    "        \"composition\": \"high in iron and aluminum, low in organic matter and nutrients. This soil is known for its poor drainage and is commonly found in tropical and subtropical regions.\",\n",
    "        \"description\": \"Red soil is typically found in regions with high temperatures and rainfall. It is generally less fertile than other soil types and can be challenging to grow crops in. However, with proper management, it can be used to grow crops such as rice, cotton, and sugarcane.\"\n",
    "    },\n",
    "    \"Sandy Soil\": {\n",
    "        \"composition\": \"high in sand particles, low in clay and organic matter. This soil has good drainage and is dry and warm.\",\n",
    "        \"description\": \"Sandy soil is typically found in warmer regions, and is known for its good drainage and aeration. However, it can be difficult to retain moisture and nutrients in this type of soil. Crops that are well-suited for sandy soil include strawberries, tomatoes, and peppers.\"\n",
    "    },\n",
    "    \"Loamy Soil\": {\n",
    "        \"composition\": \"balanced mix of sand, clay, and organic matter. This soil has good drainage and moisture retention, making it fertile and easy to work with.\",\n",
    "        \"description\": \"Loamy soil is considered the most ideal soil type for growing a wide variety of crops. It is a well-balanced soil, with the right amount of sand, clay, and organic matter, making it easy to work with and providing good drainage and moisture retention. Crops that thrive in loamy soil include vegetables, fruits, and flowers.\"\n",
    "    },\n",
    "    \"Black Soil\": {\n",
    "        \"composition\": \"high in organic matter and clay, rich in nutrients. This soil has good water-holding capacity, which makes it suitable for agriculture.\",\n",
    "        \"description\": \"Black soil is also known as 'black cotton soil' because it is ideal for growing cotton. It is typically found in regions with high temperatures and low rainfall. The soil is rich in nutrients and has good water-holding capacity, making it well-suited for growing a wide variety of crops, including wheat, sugarcane, and soybeans.\"\n",
    "    }\n",
    "}\n"
   ]
  },
  {
   "cell_type": "code",
   "execution_count": 1,
   "id": "9a2cfb3d",
   "metadata": {},
   "outputs": [],
   "source": [
    "soil_types = ['Clay Soil','Red Soil', 'Sandy Soil','Loamy Soil','Black Soil']"
   ]
  },
  {
   "cell_type": "code",
   "execution_count": null,
   "id": "60979caf",
   "metadata": {},
   "outputs": [],
   "source": []
  }
 ],
 "metadata": {
  "kernelspec": {
   "display_name": "Python 3 (ipykernel)",
   "language": "python",
   "name": "python3"
  },
  "language_info": {
   "codemirror_mode": {
    "name": "ipython",
    "version": 3
   },
   "file_extension": ".py",
   "mimetype": "text/x-python",
   "name": "python",
   "nbconvert_exporter": "python",
   "pygments_lexer": "ipython3",
   "version": "3.9.12"
  }
 },
 "nbformat": 4,
 "nbformat_minor": 5
}
