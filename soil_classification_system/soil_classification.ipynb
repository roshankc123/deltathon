{
  "nbformat": 4,
  "nbformat_minor": 0,
  "metadata": {
    "colab": {
      "provenance": []
    },
    "kernelspec": {
      "name": "python3",
      "display_name": "Python 3"
    },
    "language_info": {
      "name": "python"
    },
    "accelerator": "GPU",
    "gpuClass": "standard",
    "widgets": {
      "application/vnd.jupyter.widget-state+json": {
        "96e72483949645af8e022511a8f8efb2": {
          "model_module": "@jupyter-widgets/controls",
          "model_name": "HBoxModel",
          "model_module_version": "1.5.0",
          "state": {
            "_dom_classes": [],
            "_model_module": "@jupyter-widgets/controls",
            "_model_module_version": "1.5.0",
            "_model_name": "HBoxModel",
            "_view_count": null,
            "_view_module": "@jupyter-widgets/controls",
            "_view_module_version": "1.5.0",
            "_view_name": "HBoxView",
            "box_style": "",
            "children": [
              "IPY_MODEL_d1f7ffc153034421ad899527d8870047",
              "IPY_MODEL_37425cf8b9f64e6798c7d71c4a21eef9",
              "IPY_MODEL_c7355cc8b6c0416682f0e2c38b894e65"
            ],
            "layout": "IPY_MODEL_3859922dfb20483c946eff6e74412957"
          }
        },
        "d1f7ffc153034421ad899527d8870047": {
          "model_module": "@jupyter-widgets/controls",
          "model_name": "HTMLModel",
          "model_module_version": "1.5.0",
          "state": {
            "_dom_classes": [],
            "_model_module": "@jupyter-widgets/controls",
            "_model_module_version": "1.5.0",
            "_model_name": "HTMLModel",
            "_view_count": null,
            "_view_module": "@jupyter-widgets/controls",
            "_view_module_version": "1.5.0",
            "_view_name": "HTMLView",
            "description": "",
            "description_tooltip": null,
            "layout": "IPY_MODEL_20efa65600a04d4db8e8061dcabd068d",
            "placeholder": "​",
            "style": "IPY_MODEL_7b978c59a913473a884d8e171a5fcd1a",
            "value": "100%"
          }
        },
        "37425cf8b9f64e6798c7d71c4a21eef9": {
          "model_module": "@jupyter-widgets/controls",
          "model_name": "FloatProgressModel",
          "model_module_version": "1.5.0",
          "state": {
            "_dom_classes": [],
            "_model_module": "@jupyter-widgets/controls",
            "_model_module_version": "1.5.0",
            "_model_name": "FloatProgressModel",
            "_view_count": null,
            "_view_module": "@jupyter-widgets/controls",
            "_view_module_version": "1.5.0",
            "_view_name": "ProgressView",
            "bar_style": "success",
            "description": "",
            "description_tooltip": null,
            "layout": "IPY_MODEL_7defbf296bf54fb7a4249a183ec08a8b",
            "max": 553433881,
            "min": 0,
            "orientation": "horizontal",
            "style": "IPY_MODEL_5fb78e3628e4403c82859cb25eb16566",
            "value": 553433881
          }
        },
        "c7355cc8b6c0416682f0e2c38b894e65": {
          "model_module": "@jupyter-widgets/controls",
          "model_name": "HTMLModel",
          "model_module_version": "1.5.0",
          "state": {
            "_dom_classes": [],
            "_model_module": "@jupyter-widgets/controls",
            "_model_module_version": "1.5.0",
            "_model_name": "HTMLModel",
            "_view_count": null,
            "_view_module": "@jupyter-widgets/controls",
            "_view_module_version": "1.5.0",
            "_view_name": "HTMLView",
            "description": "",
            "description_tooltip": null,
            "layout": "IPY_MODEL_f6fdb0ed059a4c30816dde22efd2b237",
            "placeholder": "​",
            "style": "IPY_MODEL_72b0b211d4d64b2999cec9919ba2d339",
            "value": " 528M/528M [00:03&lt;00:00, 147MB/s]"
          }
        },
        "3859922dfb20483c946eff6e74412957": {
          "model_module": "@jupyter-widgets/base",
          "model_name": "LayoutModel",
          "model_module_version": "1.2.0",
          "state": {
            "_model_module": "@jupyter-widgets/base",
            "_model_module_version": "1.2.0",
            "_model_name": "LayoutModel",
            "_view_count": null,
            "_view_module": "@jupyter-widgets/base",
            "_view_module_version": "1.2.0",
            "_view_name": "LayoutView",
            "align_content": null,
            "align_items": null,
            "align_self": null,
            "border": null,
            "bottom": null,
            "display": null,
            "flex": null,
            "flex_flow": null,
            "grid_area": null,
            "grid_auto_columns": null,
            "grid_auto_flow": null,
            "grid_auto_rows": null,
            "grid_column": null,
            "grid_gap": null,
            "grid_row": null,
            "grid_template_areas": null,
            "grid_template_columns": null,
            "grid_template_rows": null,
            "height": null,
            "justify_content": null,
            "justify_items": null,
            "left": null,
            "margin": null,
            "max_height": null,
            "max_width": null,
            "min_height": null,
            "min_width": null,
            "object_fit": null,
            "object_position": null,
            "order": null,
            "overflow": null,
            "overflow_x": null,
            "overflow_y": null,
            "padding": null,
            "right": null,
            "top": null,
            "visibility": null,
            "width": null
          }
        },
        "20efa65600a04d4db8e8061dcabd068d": {
          "model_module": "@jupyter-widgets/base",
          "model_name": "LayoutModel",
          "model_module_version": "1.2.0",
          "state": {
            "_model_module": "@jupyter-widgets/base",
            "_model_module_version": "1.2.0",
            "_model_name": "LayoutModel",
            "_view_count": null,
            "_view_module": "@jupyter-widgets/base",
            "_view_module_version": "1.2.0",
            "_view_name": "LayoutView",
            "align_content": null,
            "align_items": null,
            "align_self": null,
            "border": null,
            "bottom": null,
            "display": null,
            "flex": null,
            "flex_flow": null,
            "grid_area": null,
            "grid_auto_columns": null,
            "grid_auto_flow": null,
            "grid_auto_rows": null,
            "grid_column": null,
            "grid_gap": null,
            "grid_row": null,
            "grid_template_areas": null,
            "grid_template_columns": null,
            "grid_template_rows": null,
            "height": null,
            "justify_content": null,
            "justify_items": null,
            "left": null,
            "margin": null,
            "max_height": null,
            "max_width": null,
            "min_height": null,
            "min_width": null,
            "object_fit": null,
            "object_position": null,
            "order": null,
            "overflow": null,
            "overflow_x": null,
            "overflow_y": null,
            "padding": null,
            "right": null,
            "top": null,
            "visibility": null,
            "width": null
          }
        },
        "7b978c59a913473a884d8e171a5fcd1a": {
          "model_module": "@jupyter-widgets/controls",
          "model_name": "DescriptionStyleModel",
          "model_module_version": "1.5.0",
          "state": {
            "_model_module": "@jupyter-widgets/controls",
            "_model_module_version": "1.5.0",
            "_model_name": "DescriptionStyleModel",
            "_view_count": null,
            "_view_module": "@jupyter-widgets/base",
            "_view_module_version": "1.2.0",
            "_view_name": "StyleView",
            "description_width": ""
          }
        },
        "7defbf296bf54fb7a4249a183ec08a8b": {
          "model_module": "@jupyter-widgets/base",
          "model_name": "LayoutModel",
          "model_module_version": "1.2.0",
          "state": {
            "_model_module": "@jupyter-widgets/base",
            "_model_module_version": "1.2.0",
            "_model_name": "LayoutModel",
            "_view_count": null,
            "_view_module": "@jupyter-widgets/base",
            "_view_module_version": "1.2.0",
            "_view_name": "LayoutView",
            "align_content": null,
            "align_items": null,
            "align_self": null,
            "border": null,
            "bottom": null,
            "display": null,
            "flex": null,
            "flex_flow": null,
            "grid_area": null,
            "grid_auto_columns": null,
            "grid_auto_flow": null,
            "grid_auto_rows": null,
            "grid_column": null,
            "grid_gap": null,
            "grid_row": null,
            "grid_template_areas": null,
            "grid_template_columns": null,
            "grid_template_rows": null,
            "height": null,
            "justify_content": null,
            "justify_items": null,
            "left": null,
            "margin": null,
            "max_height": null,
            "max_width": null,
            "min_height": null,
            "min_width": null,
            "object_fit": null,
            "object_position": null,
            "order": null,
            "overflow": null,
            "overflow_x": null,
            "overflow_y": null,
            "padding": null,
            "right": null,
            "top": null,
            "visibility": null,
            "width": null
          }
        },
        "5fb78e3628e4403c82859cb25eb16566": {
          "model_module": "@jupyter-widgets/controls",
          "model_name": "ProgressStyleModel",
          "model_module_version": "1.5.0",
          "state": {
            "_model_module": "@jupyter-widgets/controls",
            "_model_module_version": "1.5.0",
            "_model_name": "ProgressStyleModel",
            "_view_count": null,
            "_view_module": "@jupyter-widgets/base",
            "_view_module_version": "1.2.0",
            "_view_name": "StyleView",
            "bar_color": null,
            "description_width": ""
          }
        },
        "f6fdb0ed059a4c30816dde22efd2b237": {
          "model_module": "@jupyter-widgets/base",
          "model_name": "LayoutModel",
          "model_module_version": "1.2.0",
          "state": {
            "_model_module": "@jupyter-widgets/base",
            "_model_module_version": "1.2.0",
            "_model_name": "LayoutModel",
            "_view_count": null,
            "_view_module": "@jupyter-widgets/base",
            "_view_module_version": "1.2.0",
            "_view_name": "LayoutView",
            "align_content": null,
            "align_items": null,
            "align_self": null,
            "border": null,
            "bottom": null,
            "display": null,
            "flex": null,
            "flex_flow": null,
            "grid_area": null,
            "grid_auto_columns": null,
            "grid_auto_flow": null,
            "grid_auto_rows": null,
            "grid_column": null,
            "grid_gap": null,
            "grid_row": null,
            "grid_template_areas": null,
            "grid_template_columns": null,
            "grid_template_rows": null,
            "height": null,
            "justify_content": null,
            "justify_items": null,
            "left": null,
            "margin": null,
            "max_height": null,
            "max_width": null,
            "min_height": null,
            "min_width": null,
            "object_fit": null,
            "object_position": null,
            "order": null,
            "overflow": null,
            "overflow_x": null,
            "overflow_y": null,
            "padding": null,
            "right": null,
            "top": null,
            "visibility": null,
            "width": null
          }
        },
        "72b0b211d4d64b2999cec9919ba2d339": {
          "model_module": "@jupyter-widgets/controls",
          "model_name": "DescriptionStyleModel",
          "model_module_version": "1.5.0",
          "state": {
            "_model_module": "@jupyter-widgets/controls",
            "_model_module_version": "1.5.0",
            "_model_name": "DescriptionStyleModel",
            "_view_count": null,
            "_view_module": "@jupyter-widgets/base",
            "_view_module_version": "1.2.0",
            "_view_name": "StyleView",
            "description_width": ""
          }
        }
      }
    }
  },
  "cells": [
    {
      "cell_type": "code",
      "execution_count": 1,
      "metadata": {
        "id": "NY1KFkRMhC8C"
      },
      "outputs": [],
      "source": [
        "import os\n",
        "import pandas as pd"
      ]
    },
    {
      "cell_type": "code",
      "source": [
        "org_path =  '/content/drive/MyDrive/soil'"
      ],
      "metadata": {
        "id": "oysFUA0GjVJ5"
      },
      "execution_count": 2,
      "outputs": []
    },
    {
      "cell_type": "code",
      "source": [
        "soil_name = os.listdir(org_path)"
      ],
      "metadata": {
        "id": "ISG7nST-kTFC"
      },
      "execution_count": 3,
      "outputs": []
    },
    {
      "cell_type": "code",
      "source": [
        "soil_name"
      ],
      "metadata": {
        "colab": {
          "base_uri": "https://localhost:8080/"
        },
        "id": "AGT2nhvKkXii",
        "outputId": "1568e295-5419-408f-c9a4-4e29cd378b93"
      },
      "execution_count": 4,
      "outputs": [
        {
          "output_type": "execute_result",
          "data": {
            "text/plain": [
              "['Sandy_soil', 'Loamy_soil', 'Black_soil', 'Clay_soil', 'Red_soil']"
            ]
          },
          "metadata": {},
          "execution_count": 4
        }
      ]
    },
    {
      "cell_type": "code",
      "source": [
        "path = []\n",
        "label = []"
      ],
      "metadata": {
        "id": "4gB-WO2tkmjf"
      },
      "execution_count": 5,
      "outputs": []
    },
    {
      "cell_type": "code",
      "source": [
        "for dis in soil_name:\n",
        "  for i in os.listdir(os.path.join(org_path, dis)):\n",
        "    path.append(os.path.join(org_path, dis, i))\n",
        "    label.append(dis)"
      ],
      "metadata": {
        "id": "UVeTcQ3lkqGz"
      },
      "execution_count": 6,
      "outputs": []
    },
    {
      "cell_type": "code",
      "source": [
        "df = pd.DataFrame(zip(path, label))"
      ],
      "metadata": {
        "id": "FI8WJMYQkycZ"
      },
      "execution_count": 7,
      "outputs": []
    },
    {
      "cell_type": "code",
      "source": [
        "df.columns = ['path', 'label']"
      ],
      "metadata": {
        "id": "j1mQvEKWk0jQ"
      },
      "execution_count": 8,
      "outputs": []
    },
    {
      "cell_type": "code",
      "source": [
        "df.columns = ['path', 'label']"
      ],
      "metadata": {
        "id": "FwuYg_Tsk7Or"
      },
      "execution_count": 9,
      "outputs": []
    },
    {
      "cell_type": "code",
      "source": [
        "import torchvision\n",
        "import torch\n",
        "from torch.utils.data import DataLoader, Dataset\n",
        "import torchvision.transforms as T\n",
        "import numpy as np\n",
        "from sklearn.preprocessing import LabelEncoder\n",
        "import torch.nn as nn\n",
        "from torchvision.models import vgg16\n",
        "from sklearn.model_selection import train_test_split\n",
        "import torch.nn.functional as Fun"
      ],
      "metadata": {
        "id": "uiP45PWGk8Rk"
      },
      "execution_count": 10,
      "outputs": []
    },
    {
      "cell_type": "code",
      "source": [
        "X_train, X_test, y_train, y_test = train_test_split(df.path, df.label, test_size=0.15, random_state=42)"
      ],
      "metadata": {
        "id": "5Vvrc6jRlBOt"
      },
      "execution_count": 11,
      "outputs": []
    },
    {
      "cell_type": "code",
      "source": [
        "df = pd.concat([X_train,y_train], axis=1).reset_index(drop=True)\n",
        "df_test = pd.concat([X_test,y_test], axis=1).reset_index(drop=True)"
      ],
      "metadata": {
        "id": "2LlnmkwClM7T"
      },
      "execution_count": 12,
      "outputs": []
    },
    {
      "cell_type": "code",
      "source": [
        "df.label.value_counts()"
      ],
      "metadata": {
        "colab": {
          "base_uri": "https://localhost:8080/"
        },
        "id": "qZHarNRRlPDd",
        "outputId": "1c9f61bc-c175-4915-97df-0cf2f9c6e2c7"
      },
      "execution_count": 13,
      "outputs": [
        {
          "output_type": "execute_result",
          "data": {
            "text/plain": [
              "Black_soil    80\n",
              "Loamy_soil    79\n",
              "Red_soil      75\n",
              "Sandy_soil    72\n",
              "Clay_soil     69\n",
              "Name: label, dtype: int64"
            ]
          },
          "metadata": {},
          "execution_count": 13
        }
      ]
    },
    {
      "cell_type": "code",
      "source": [
        "df_test.label.value_counts()"
      ],
      "metadata": {
        "colab": {
          "base_uri": "https://localhost:8080/"
        },
        "id": "pH9zLJDilQ9l",
        "outputId": "c8a13656-38a1-4a99-eb9f-16137b8514c9"
      },
      "execution_count": 14,
      "outputs": [
        {
          "output_type": "execute_result",
          "data": {
            "text/plain": [
              "Sandy_soil    19\n",
              "Red_soil      16\n",
              "Clay_soil     12\n",
              "Loamy_soil    11\n",
              "Black_soil     9\n",
              "Name: label, dtype: int64"
            ]
          },
          "metadata": {},
          "execution_count": 14
        }
      ]
    },
    {
      "cell_type": "code",
      "source": [
        "lb = LabelEncoder()\n",
        "df_test.label =  lb.fit_transform(df_test.label)\n",
        "df.label =  lb.fit_transform(df.label)\n",
        "dict(zip(lb.classes_, lb.transform(lb.classes_)))"
      ],
      "metadata": {
        "colab": {
          "base_uri": "https://localhost:8080/"
        },
        "id": "iAu7feF8lSiN",
        "outputId": "013e3ae7-9061-42da-cf04-02250f6e95ce"
      },
      "execution_count": 15,
      "outputs": [
        {
          "output_type": "execute_result",
          "data": {
            "text/plain": [
              "{'Black_soil': 0,\n",
              " 'Clay_soil': 1,\n",
              " 'Loamy_soil': 2,\n",
              " 'Red_soil': 3,\n",
              " 'Sandy_soil': 4}"
            ]
          },
          "metadata": {},
          "execution_count": 15
        }
      ]
    },
    {
      "cell_type": "code",
      "source": [
        "potato_classes = dict(zip(lb.classes_, lb.transform(lb.classes_)))\n",
        "potato_classes"
      ],
      "metadata": {
        "colab": {
          "base_uri": "https://localhost:8080/"
        },
        "id": "5mS-i45ulU_n",
        "outputId": "fa8af086-b069-4852-bda7-3ba78ae8a48c"
      },
      "execution_count": 16,
      "outputs": [
        {
          "output_type": "execute_result",
          "data": {
            "text/plain": [
              "{'Black_soil': 0,\n",
              " 'Clay_soil': 1,\n",
              " 'Loamy_soil': 2,\n",
              " 'Red_soil': 3,\n",
              " 'Sandy_soil': 4}"
            ]
          },
          "metadata": {},
          "execution_count": 16
        }
      ]
    },
    {
      "cell_type": "code",
      "source": [
        "device = 'cuda' if torch.cuda.is_available() else 'cpu'\n",
        "print(device)"
      ],
      "metadata": {
        "colab": {
          "base_uri": "https://localhost:8080/"
        },
        "id": "O-eZ2vOplW5U",
        "outputId": "9384db26-8713-4a14-b988-1295a866cba1"
      },
      "execution_count": 17,
      "outputs": [
        {
          "output_type": "stream",
          "name": "stdout",
          "text": [
            "cuda\n"
          ]
        }
      ]
    },
    {
      "cell_type": "code",
      "source": [
        "class SoilDataset(Dataset):\n",
        "    def __init__(self, df):\n",
        "        self.fpath = df.path\n",
        "        self.label = df.label\n",
        "        self.transforms = T.Compose(\n",
        "        [T.ToTensor(),\n",
        "        T.Normalize(mean=[0.485,\n",
        "           0.456, 0.406],std=[0.229, 0.224, 0.225])]\n",
        "        )\n",
        "    def __len__(self):\n",
        "        return len(self.fpath)\n",
        "    \n",
        "    def __getitem__(self,ix):\n",
        "        f = self.fpath[ix]\n",
        "        label = self.label[ix]\n",
        "        im = cv2.imread(f)\n",
        "        im = cv2.resize(im, (224,224))\n",
        "        # im = cv2.cvtColor(im, cv2.COLOR_BGR2RGB)\n",
        "        im = self.transforms(im)\n",
        "        \n",
        "        return torch.tensor(im,dtype=torch.float).to(device), torch.tensor(label, dtype=torch.float).long().to(device)"
      ],
      "metadata": {
        "id": "emEgxnAalcZo"
      },
      "execution_count": 18,
      "outputs": []
    },
    {
      "cell_type": "code",
      "source": [
        "def get_model():\n",
        "    model = torchvision.models.vgg16(pretrained=True)\n",
        "    for param in model.features.parameters():\n",
        "                   param.requires_grad = False\n",
        "    model.avgpool = model.avgpool = nn.AdaptiveAvgPool2d(output_size=(1,1))\n",
        "    model.classifier = nn.Sequential(nn.Flatten(),\n",
        "                                   nn.Linear(512, 128),\n",
        "                                   nn.ReLU(),\n",
        "                                   nn.Dropout(0.2),\n",
        "                                   nn.Linear(128, 5),\n",
        "                                   nn.Softmax())\n",
        "    model = model.to(device)\n",
        "    loss_fn = nn.CrossEntropyLoss()\n",
        "    optimizer = torch.optim.Adam(model.parameters(), lr=1e-3)\n",
        "    return model, loss_fn, optimizer"
      ],
      "metadata": {
        "id": "1P5eu2k3ljVl"
      },
      "execution_count": 19,
      "outputs": []
    },
    {
      "cell_type": "code",
      "source": [
        "model, loss_fn, optimizer = get_model()\n",
        "from torchsummary import summary"
      ],
      "metadata": {
        "colab": {
          "base_uri": "https://localhost:8080/",
          "height": 161,
          "referenced_widgets": [
            "96e72483949645af8e022511a8f8efb2",
            "d1f7ffc153034421ad899527d8870047",
            "37425cf8b9f64e6798c7d71c4a21eef9",
            "c7355cc8b6c0416682f0e2c38b894e65",
            "3859922dfb20483c946eff6e74412957",
            "20efa65600a04d4db8e8061dcabd068d",
            "7b978c59a913473a884d8e171a5fcd1a",
            "7defbf296bf54fb7a4249a183ec08a8b",
            "5fb78e3628e4403c82859cb25eb16566",
            "f6fdb0ed059a4c30816dde22efd2b237",
            "72b0b211d4d64b2999cec9919ba2d339"
          ]
        },
        "id": "Vd6APcnAlmwt",
        "outputId": "fbc4f355-09c9-4025-f96b-e530722b1140"
      },
      "execution_count": 20,
      "outputs": [
        {
          "output_type": "stream",
          "name": "stderr",
          "text": [
            "/usr/local/lib/python3.8/dist-packages/torchvision/models/_utils.py:208: UserWarning: The parameter 'pretrained' is deprecated since 0.13 and may be removed in the future, please use 'weights' instead.\n",
            "  warnings.warn(\n",
            "/usr/local/lib/python3.8/dist-packages/torchvision/models/_utils.py:223: UserWarning: Arguments other than a weight enum or `None` for 'weights' are deprecated since 0.13 and may be removed in the future. The current behavior is equivalent to passing `weights=VGG16_Weights.IMAGENET1K_V1`. You can also use `weights=VGG16_Weights.DEFAULT` to get the most up-to-date weights.\n",
            "  warnings.warn(msg)\n",
            "Downloading: \"https://download.pytorch.org/models/vgg16-397923af.pth\" to /root/.cache/torch/hub/checkpoints/vgg16-397923af.pth\n"
          ]
        },
        {
          "output_type": "display_data",
          "data": {
            "text/plain": [
              "  0%|          | 0.00/528M [00:00<?, ?B/s]"
            ],
            "application/vnd.jupyter.widget-view+json": {
              "version_major": 2,
              "version_minor": 0,
              "model_id": "96e72483949645af8e022511a8f8efb2"
            }
          },
          "metadata": {}
        }
      ]
    },
    {
      "cell_type": "code",
      "source": [
        "model"
      ],
      "metadata": {
        "colab": {
          "base_uri": "https://localhost:8080/"
        },
        "id": "7EC4A7T8lqpR",
        "outputId": "4f0b1e29-4545-40f7-9f31-f69082d8b2a0"
      },
      "execution_count": 21,
      "outputs": [
        {
          "output_type": "execute_result",
          "data": {
            "text/plain": [
              "VGG(\n",
              "  (features): Sequential(\n",
              "    (0): Conv2d(3, 64, kernel_size=(3, 3), stride=(1, 1), padding=(1, 1))\n",
              "    (1): ReLU(inplace=True)\n",
              "    (2): Conv2d(64, 64, kernel_size=(3, 3), stride=(1, 1), padding=(1, 1))\n",
              "    (3): ReLU(inplace=True)\n",
              "    (4): MaxPool2d(kernel_size=2, stride=2, padding=0, dilation=1, ceil_mode=False)\n",
              "    (5): Conv2d(64, 128, kernel_size=(3, 3), stride=(1, 1), padding=(1, 1))\n",
              "    (6): ReLU(inplace=True)\n",
              "    (7): Conv2d(128, 128, kernel_size=(3, 3), stride=(1, 1), padding=(1, 1))\n",
              "    (8): ReLU(inplace=True)\n",
              "    (9): MaxPool2d(kernel_size=2, stride=2, padding=0, dilation=1, ceil_mode=False)\n",
              "    (10): Conv2d(128, 256, kernel_size=(3, 3), stride=(1, 1), padding=(1, 1))\n",
              "    (11): ReLU(inplace=True)\n",
              "    (12): Conv2d(256, 256, kernel_size=(3, 3), stride=(1, 1), padding=(1, 1))\n",
              "    (13): ReLU(inplace=True)\n",
              "    (14): Conv2d(256, 256, kernel_size=(3, 3), stride=(1, 1), padding=(1, 1))\n",
              "    (15): ReLU(inplace=True)\n",
              "    (16): MaxPool2d(kernel_size=2, stride=2, padding=0, dilation=1, ceil_mode=False)\n",
              "    (17): Conv2d(256, 512, kernel_size=(3, 3), stride=(1, 1), padding=(1, 1))\n",
              "    (18): ReLU(inplace=True)\n",
              "    (19): Conv2d(512, 512, kernel_size=(3, 3), stride=(1, 1), padding=(1, 1))\n",
              "    (20): ReLU(inplace=True)\n",
              "    (21): Conv2d(512, 512, kernel_size=(3, 3), stride=(1, 1), padding=(1, 1))\n",
              "    (22): ReLU(inplace=True)\n",
              "    (23): MaxPool2d(kernel_size=2, stride=2, padding=0, dilation=1, ceil_mode=False)\n",
              "    (24): Conv2d(512, 512, kernel_size=(3, 3), stride=(1, 1), padding=(1, 1))\n",
              "    (25): ReLU(inplace=True)\n",
              "    (26): Conv2d(512, 512, kernel_size=(3, 3), stride=(1, 1), padding=(1, 1))\n",
              "    (27): ReLU(inplace=True)\n",
              "    (28): Conv2d(512, 512, kernel_size=(3, 3), stride=(1, 1), padding=(1, 1))\n",
              "    (29): ReLU(inplace=True)\n",
              "    (30): MaxPool2d(kernel_size=2, stride=2, padding=0, dilation=1, ceil_mode=False)\n",
              "  )\n",
              "  (avgpool): AdaptiveAvgPool2d(output_size=(1, 1))\n",
              "  (classifier): Sequential(\n",
              "    (0): Flatten(start_dim=1, end_dim=-1)\n",
              "    (1): Linear(in_features=512, out_features=128, bias=True)\n",
              "    (2): ReLU()\n",
              "    (3): Dropout(p=0.2, inplace=False)\n",
              "    (4): Linear(in_features=128, out_features=5, bias=True)\n",
              "    (5): Softmax(dim=None)\n",
              "  )\n",
              ")"
            ]
          },
          "metadata": {},
          "execution_count": 21
        }
      ]
    },
    {
      "cell_type": "code",
      "source": [
        "def get_data():\n",
        "    train = SoilDataset(df)\n",
        "    test = SoilDataset(df_test)\n",
        "    trn_dl = DataLoader(train, batch_size=16,shuffle=True, drop_last=True)\n",
        "    test_dl = DataLoader(test, batch_size=16, shuffle=True, drop_last=True)\n",
        "    return trn_dl, test_dl"
      ],
      "metadata": {
        "id": "yR5QItvclyxe"
      },
      "execution_count": 22,
      "outputs": []
    },
    {
      "cell_type": "code",
      "source": [
        "def train_batch(x, y, model, loss_fn, opt):\n",
        "    model.train()\n",
        "    prediction = model(x)\n",
        "    batch_loss = loss_fn(prediction, y)\n",
        "    batch_loss.backward()\n",
        "    optimizer.step()\n",
        "    optimizer.zero_grad()\n",
        "    return batch_loss.item()"
      ],
      "metadata": {
        "id": "u94riMCel6AA"
      },
      "execution_count": 23,
      "outputs": []
    },
    {
      "cell_type": "code",
      "source": [
        "@torch.no_grad()\n",
        "def accuracy(x, y, model):\n",
        "    model.eval()\n",
        "    pred = model(x)\n",
        "    _, is_correct = torch.max(pred.data,1)\n",
        "    acc_all = (is_correct==y).detach().cpu().numpy()\n",
        "    return acc_all"
      ],
      "metadata": {
        "id": "XnXRPd_0l_fn"
      },
      "execution_count": 24,
      "outputs": []
    },
    {
      "cell_type": "code",
      "source": [
        "@torch.no_grad()\n",
        "def val_loss_trn(x, y, model, loss_fn):\n",
        "  prediction = model(x)\n",
        "  val_loss = loss_fn(prediction, y)\n",
        "  return val_loss.item()"
      ],
      "metadata": {
        "id": "qOdJ2BlWmBfH"
      },
      "execution_count": 25,
      "outputs": []
    },
    {
      "cell_type": "code",
      "source": [
        "trn_ldr, test_ldr = get_data()\n"
      ],
      "metadata": {
        "id": "-lVY9FHEmEX7"
      },
      "execution_count": 26,
      "outputs": []
    },
    {
      "cell_type": "code",
      "source": [
        "import cv2"
      ],
      "metadata": {
        "id": "rIXSAub6mP8c"
      },
      "execution_count": 27,
      "outputs": []
    },
    {
      "cell_type": "code",
      "source": [
        "train_loss = []\n",
        "train_accuracies= []\n",
        "val_loss = [] \n",
        "val_accuracies = []\n",
        "\n",
        "for i in range(20):\n",
        "    print(f'Epoch: _________*****{i}*****_______')\n",
        "    train_epoch_losses, train_epoch_accuracies = [], []\n",
        "    val_epoch_accuracies, val_epoch_losses = [], []\n",
        "\n",
        "\n",
        "\n",
        "    for ix, batch in (enumerate(iter(trn_ldr))):\n",
        "        \n",
        "        x, y = batch\n",
        "        # x = x.permute(0, 3,1,2)\n",
        "        train_epoch_losses.append(train_batch(x, y, model, loss_fn, optimizer))\n",
        "    train_epoch_loss = np.array(train_epoch_losses).mean()\n",
        "    print(f'Epoch: _________*****{i} Training Loss : {train_epoch_loss} *****_______')\n",
        "\n",
        "\n",
        "\n",
        "    for ix, batch in (enumerate(iter(trn_ldr))):\n",
        "        x, y = batch\n",
        "        # x = x.permute(0, 3,1,2)\n",
        "        train_epoch_accuracies.append(sum(accuracy(x, y, model)) / len(y))\n",
        "    train_epoch_accuracy = np.array(train_epoch_accuracies).mean()\n",
        "    print(f'Epoch: _________*****{i} Training Accuracy: {train_epoch_accuracy} *****_______')\n",
        "\n",
        "\n",
        "    for ix, batch in (enumerate(iter(test_ldr))):\n",
        "        x, y = batch\n",
        "        # x = x.permute(0, 3,1,2)\n",
        "        val_epoch_losses.append(val_loss_trn(x, y, model, loss_fn))\n",
        "    val_epoch_loss = np.array(val_epoch_losses).mean()\n",
        "    print(f'Epoch: _________*****{i} Validation Loss : {val_epoch_loss} *****_______')\n",
        "\n",
        "    for ix, batch in (enumerate(iter(test_ldr))):\n",
        "        x, y = batch\n",
        "        # x = x.permute(0, 3,1,2)\n",
        "        val_epoch_accuracies.append(sum(accuracy(x, y, model)) / len(y))\n",
        "    val_epoch_accuracy = np.array(val_epoch_accuracies).mean()\n",
        "    print(f'Epoch: _________*****{i} Validation Accuracy. {val_epoch_accuracy} *****_______')\n",
        "    print('\\n')\n",
        "\n",
        "    train_loss.append(train_epoch_loss)\n",
        "    train_accuracies.append(train_epoch_accuracy)\n",
        "    val_accuracies.append(val_epoch_accuracy)\n",
        "    val_loss.append(val_epoch_loss)"
      ],
      "metadata": {
        "colab": {
          "base_uri": "https://localhost:8080/"
        },
        "id": "G7G3A5MtmFdk",
        "outputId": "ef173aa2-c908-40ce-f830-79a2e49cda27"
      },
      "execution_count": 28,
      "outputs": [
        {
          "output_type": "stream",
          "name": "stdout",
          "text": [
            "Epoch: _________*****0*****_______\n"
          ]
        },
        {
          "output_type": "stream",
          "name": "stderr",
          "text": [
            "<ipython-input-18-73c877ca0024>:21: UserWarning: To copy construct from a tensor, it is recommended to use sourceTensor.clone().detach() or sourceTensor.clone().detach().requires_grad_(True), rather than torch.tensor(sourceTensor).\n",
            "  return torch.tensor(im,dtype=torch.float).to(device), torch.tensor(label, dtype=torch.float).long().to(device)\n",
            "/usr/local/lib/python3.8/dist-packages/torch/nn/modules/container.py:204: UserWarning: Implicit dimension choice for softmax has been deprecated. Change the call to include dim=X as an argument.\n",
            "  input = module(input)\n"
          ]
        },
        {
          "output_type": "stream",
          "name": "stdout",
          "text": [
            "Epoch: _________*****0 Training Loss : 1.6005148887634277 *****_______\n",
            "Epoch: _________*****0 Training Accuracy: 0.3804347826086957 *****_______\n",
            "Epoch: _________*****0 Validation Loss : 1.576924741268158 *****_______\n",
            "Epoch: _________*****0 Validation Accuracy. 0.296875 *****_______\n",
            "\n",
            "\n",
            "Epoch: _________*****1*****_______\n",
            "Epoch: _________*****1 Training Loss : 1.541486760844355 *****_______\n",
            "Epoch: _________*****1 Training Accuracy: 0.48641304347826086 *****_______\n",
            "Epoch: _________*****1 Validation Loss : 1.5352149307727814 *****_______\n",
            "Epoch: _________*****1 Validation Accuracy. 0.421875 *****_______\n",
            "\n",
            "\n",
            "Epoch: _________*****2*****_______\n",
            "Epoch: _________*****2 Training Loss : 1.4807667006617007 *****_______\n",
            "Epoch: _________*****2 Training Accuracy: 0.5869565217391305 *****_______\n",
            "Epoch: _________*****2 Validation Loss : 1.4980214536190033 *****_______\n",
            "Epoch: _________*****2 Validation Accuracy. 0.46875 *****_______\n",
            "\n",
            "\n",
            "Epoch: _________*****3*****_______\n",
            "Epoch: _________*****3 Training Loss : 1.4159934417061184 *****_______\n",
            "Epoch: _________*****3 Training Accuracy: 0.6032608695652174 *****_______\n",
            "Epoch: _________*****3 Validation Loss : 1.4871726036071777 *****_______\n",
            "Epoch: _________*****3 Validation Accuracy. 0.484375 *****_______\n",
            "\n",
            "\n",
            "Epoch: _________*****4*****_______\n",
            "Epoch: _________*****4 Training Loss : 1.360370978065159 *****_______\n",
            "Epoch: _________*****4 Training Accuracy: 0.6820652173913043 *****_______\n",
            "Epoch: _________*****4 Validation Loss : 1.4193835854530334 *****_______\n",
            "Epoch: _________*****4 Validation Accuracy. 0.546875 *****_______\n",
            "\n",
            "\n",
            "Epoch: _________*****5*****_______\n",
            "Epoch: _________*****5 Training Loss : 1.3086005604785422 *****_______\n",
            "Epoch: _________*****5 Training Accuracy: 0.6902173913043478 *****_______\n",
            "Epoch: _________*****5 Validation Loss : 1.3791622817516327 *****_______\n",
            "Epoch: _________*****5 Validation Accuracy. 0.640625 *****_______\n",
            "\n",
            "\n",
            "Epoch: _________*****6*****_______\n",
            "Epoch: _________*****6 Training Loss : 1.2746351490850034 *****_______\n",
            "Epoch: _________*****6 Training Accuracy: 0.75 *****_______\n",
            "Epoch: _________*****6 Validation Loss : 1.3700772523880005 *****_______\n",
            "Epoch: _________*****6 Validation Accuracy. 0.53125 *****_______\n",
            "\n",
            "\n",
            "Epoch: _________*****7*****_______\n",
            "Epoch: _________*****7 Training Loss : 1.2500452425168909 *****_______\n",
            "Epoch: _________*****7 Training Accuracy: 0.7472826086956522 *****_______\n",
            "Epoch: _________*****7 Validation Loss : 1.3793548941612244 *****_______\n",
            "Epoch: _________*****7 Validation Accuracy. 0.53125 *****_______\n",
            "\n",
            "\n",
            "Epoch: _________*****8*****_______\n",
            "Epoch: _________*****8 Training Loss : 1.2233151923055234 *****_______\n",
            "Epoch: _________*****8 Training Accuracy: 0.7771739130434783 *****_______\n",
            "Epoch: _________*****8 Validation Loss : 1.3794827461242676 *****_______\n",
            "Epoch: _________*****8 Validation Accuracy. 0.5625 *****_______\n",
            "\n",
            "\n",
            "Epoch: _________*****9*****_______\n",
            "Epoch: _________*****9 Training Loss : 1.2015724078468655 *****_______\n",
            "Epoch: _________*****9 Training Accuracy: 0.7717391304347826 *****_______\n",
            "Epoch: _________*****9 Validation Loss : 1.3246436417102814 *****_______\n",
            "Epoch: _________*****9 Validation Accuracy. 0.640625 *****_______\n",
            "\n",
            "\n",
            "Epoch: _________*****10*****_______\n",
            "Epoch: _________*****10 Training Loss : 1.1794093277143396 *****_______\n",
            "Epoch: _________*****10 Training Accuracy: 0.8016304347826086 *****_______\n",
            "Epoch: _________*****10 Validation Loss : 1.3335885107517242 *****_______\n",
            "Epoch: _________*****10 Validation Accuracy. 0.53125 *****_______\n",
            "\n",
            "\n",
            "Epoch: _________*****11*****_______\n",
            "Epoch: _________*****11 Training Loss : 1.1598109577013098 *****_______\n",
            "Epoch: _________*****11 Training Accuracy: 0.8152173913043478 *****_______\n",
            "Epoch: _________*****11 Validation Loss : 1.3160075843334198 *****_______\n",
            "Epoch: _________*****11 Validation Accuracy. 0.5625 *****_______\n",
            "\n",
            "\n",
            "Epoch: _________*****12*****_______\n",
            "Epoch: _________*****12 Training Loss : 1.150737342627152 *****_______\n",
            "Epoch: _________*****12 Training Accuracy: 0.8233695652173914 *****_______\n",
            "Epoch: _________*****12 Validation Loss : 1.316530466079712 *****_______\n",
            "Epoch: _________*****12 Validation Accuracy. 0.59375 *****_______\n",
            "\n",
            "\n",
            "Epoch: _________*****13*****_______\n",
            "Epoch: _________*****13 Training Loss : 1.1370339315870535 *****_______\n",
            "Epoch: _________*****13 Training Accuracy: 0.8288043478260869 *****_______\n",
            "Epoch: _________*****13 Validation Loss : 1.330781489610672 *****_______\n",
            "Epoch: _________*****13 Validation Accuracy. 0.53125 *****_______\n",
            "\n",
            "\n",
            "Epoch: _________*****14*****_______\n",
            "Epoch: _________*****14 Training Loss : 1.138011660264886 *****_______\n",
            "Epoch: _________*****14 Training Accuracy: 0.8233695652173914 *****_______\n",
            "Epoch: _________*****14 Validation Loss : 1.359232246875763 *****_______\n",
            "Epoch: _________*****14 Validation Accuracy. 0.515625 *****_______\n",
            "\n",
            "\n",
            "Epoch: _________*****15*****_______\n",
            "Epoch: _________*****15 Training Loss : 1.1184411619020544 *****_______\n",
            "Epoch: _________*****15 Training Accuracy: 0.8396739130434783 *****_______\n",
            "Epoch: _________*****15 Validation Loss : 1.3178153336048126 *****_______\n",
            "Epoch: _________*****15 Validation Accuracy. 0.59375 *****_______\n",
            "\n",
            "\n",
            "Epoch: _________*****16*****_______\n",
            "Epoch: _________*****16 Training Loss : 1.1067323606947195 *****_______\n",
            "Epoch: _________*****16 Training Accuracy: 0.842391304347826 *****_______\n",
            "Epoch: _________*****16 Validation Loss : 1.3389250338077545 *****_______\n",
            "Epoch: _________*****16 Validation Accuracy. 0.515625 *****_______\n",
            "\n",
            "\n",
            "Epoch: _________*****17*****_______\n",
            "Epoch: _________*****17 Training Loss : 1.100808268008025 *****_______\n",
            "Epoch: _________*****17 Training Accuracy: 0.842391304347826 *****_______\n",
            "Epoch: _________*****17 Validation Loss : 1.3340584337711334 *****_______\n",
            "Epoch: _________*****17 Validation Accuracy. 0.5625 *****_______\n",
            "\n",
            "\n",
            "Epoch: _________*****18*****_______\n",
            "Epoch: _________*****18 Training Loss : 1.0917463198952053 *****_______\n",
            "Epoch: _________*****18 Training Accuracy: 0.8641304347826086 *****_______\n",
            "Epoch: _________*****18 Validation Loss : 1.3349845111370087 *****_______\n",
            "Epoch: _________*****18 Validation Accuracy. 0.515625 *****_______\n",
            "\n",
            "\n",
            "Epoch: _________*****19*****_______\n",
            "Epoch: _________*****19 Training Loss : 1.082928170328555 *****_______\n",
            "Epoch: _________*****19 Training Accuracy: 0.8695652173913043 *****_______\n",
            "Epoch: _________*****19 Validation Loss : 1.3551839590072632 *****_______\n",
            "Epoch: _________*****19 Validation Accuracy. 0.53125 *****_______\n",
            "\n",
            "\n"
          ]
        }
      ]
    },
    {
      "cell_type": "code",
      "source": [
        "torch.save(model.to('cpu').state_dict(), '/content/drive/MyDrive/soil.pth')"
      ],
      "metadata": {
        "id": "ytQ4iCk6mKTz"
      },
      "execution_count": 31,
      "outputs": []
    },
    {
      "cell_type": "code",
      "source": [
        "transforms = T.Compose(\n",
        "        [T.ToTensor(),\n",
        "        T.Normalize(mean=[0.485,\n",
        "           0.456, 0.406],std=[0.229, 0.224, 0.225])]\n",
        "        )\n",
        "\n",
        "    \n",
        "def read_transform(img):\n",
        "        f = img\n",
        "        im = cv2.imread(f)\n",
        "        im = cv2.resize(im, (224,224))\n",
        "        im = transforms(im)\n",
        "        return torch.tensor(im,dtype=torch.float).to(device)\n",
        "\n",
        "def get_model(no_classes):\n",
        "    model = torchvision.models.vgg16(pretrained=True)\n",
        "    for param in model.features.parameters():\n",
        "                   param.requires_grad = False\n",
        "    model.avgpool = model.avgpool = nn.AdaptiveAvgPool2d(output_size=(1,1))\n",
        "    model.classifier = nn.Sequential(nn.Flatten(),\n",
        "                                   nn.Linear(512, 128),\n",
        "                                   nn.ReLU(),\n",
        "                                   nn.Dropout(0.2),\n",
        "                                   nn.Linear(128, no_classes),\n",
        "                                   nn.Sigmoid())\n",
        "\n",
        "    return model.to(device)\n",
        "\n",
        "def load_model(model_path, classes):\n",
        "  model = get_model(classes)\n",
        "  state_dict = torch.load(model_path)\n",
        "  return model,state_dict"
      ],
      "metadata": {
        "id": "yjjQxy_JpNnr"
      },
      "execution_count": null,
      "outputs": []
    },
    {
      "cell_type": "code",
      "source": [
        "def predict(image, crop):\n",
        "  img = read_transform(image)\n",
        "  img = img.to(device)\n",
        "  model, state_dict = load_model('/content/potato.pth', 4)\n",
        "  model.load_state_dict(state_dict)\n",
        "  output = model(img.unsqueeze_(0))\n",
        "  pred, conf = output.max(-1)\n",
        "  \n",
        "  return conf.item(), pred"
      ],
      "metadata": {
        "id": "zGt9PxrzpW8G"
      },
      "execution_count": null,
      "outputs": []
    },
    {
      "cell_type": "code",
      "source": [
        "import sklearn \n",
        "print(sklearn.__version__)"
      ],
      "metadata": {
        "colab": {
          "base_uri": "https://localhost:8080/"
        },
        "id": "REl5aj1PsgnS",
        "outputId": "4e68aa48-3b09-4c7c-b283-363f2d06e224"
      },
      "execution_count": 32,
      "outputs": [
        {
          "output_type": "stream",
          "name": "stdout",
          "text": [
            "1.0.2\n"
          ]
        }
      ]
    },
    {
      "cell_type": "code",
      "source": [],
      "metadata": {
        "id": "N-EN0DKxsiWj"
      },
      "execution_count": null,
      "outputs": []
    }
  ]
}