{
 "cells": [
  {
   "cell_type": "code",
   "execution_count": 3,
   "id": "265ba169",
   "metadata": {},
   "outputs": [],
   "source": [
    "data = {'rice': 120,\n",
    " 'maize': '123',\n",
    " 'chickpea': 2,\n",
    " 'kidneybeans': 3,\n",
    " 'pigeonpeas': 4,\n",
    " 'mothbeans': 5,\n",
    " 'mungbean': 6,\n",
    " 'blackgram': 7,\n",
    " 'lentil': 8,\n",
    " 'pomegranate': 9,\n",
    " 'banana': 10,\n",
    " 'mango': 11,\n",
    " 'grapes': 12,\n",
    " 'watermelon': 13,\n",
    " 'muskmelon': 14,\n",
    " 'apple': 15,\n",
    " 'orange': 16,\n",
    " 'papaya': 17,\n",
    " 'coconut': 18,\n",
    " 'cotton': 19,\n",
    " 'jute': 20,\n",
    " 'coffee': 21}"
   ]
  },
  {
   "cell_type": "code",
   "execution_count": 4,
   "id": "3aae0d70",
   "metadata": {},
   "outputs": [],
   "source": [
    "list1 = [i for i in data]"
   ]
  },
  {
   "cell_type": "code",
   "execution_count": 5,
   "id": "4957a6d2",
   "metadata": {},
   "outputs": [
    {
     "data": {
      "text/plain": [
       "['rice',\n",
       " 'maize',\n",
       " 'chickpea',\n",
       " 'kidneybeans',\n",
       " 'pigeonpeas',\n",
       " 'mothbeans',\n",
       " 'mungbean',\n",
       " 'blackgram',\n",
       " 'lentil',\n",
       " 'pomegranate',\n",
       " 'banana',\n",
       " 'mango',\n",
       " 'grapes',\n",
       " 'watermelon',\n",
       " 'muskmelon',\n",
       " 'apple',\n",
       " 'orange',\n",
       " 'papaya',\n",
       " 'coconut',\n",
       " 'cotton',\n",
       " 'jute',\n",
       " 'coffee']"
      ]
     },
     "execution_count": 5,
     "metadata": {},
     "output_type": "execute_result"
    }
   ],
   "source": [
    "list1"
   ]
  },
  {
   "cell_type": "code",
   "execution_count": 3,
   "id": "3c8ca487",
   "metadata": {},
   "outputs": [],
   "source": [
    "crop = [{\n",
    "    'name': 'Maize',\n",
    "    'information':'it is a plant that is grown in rainy season',\n",
    "    'disease':{\n",
    "        'bibek':{\n",
    "            'symptops':'red leaf',\n",
    "            'treatment':'ammonia halde kta'\n",
    "        },\n",
    "        'rajan'\n",
    "    }\n",
    "},\n",
    "{\n",
    "    'name':'Rice',\n",
    "    'information':'it is also plant that is grown in rainy season but moisture should be very high'\n",
    "}]"
   ]
  },
  {
   "cell_type": "code",
   "execution_count": null,
   "id": "863d9906",
   "metadata": {},
   "outputs": [],
   "source": [
    "generation information, climate, monitor level"
   ]
  },
  {
   "cell_type": "code",
   "execution_count": 14,
   "id": "031a4bf1",
   "metadata": {},
   "outputs": [],
   "source": [
    "def monior(name):\n",
    "    return name"
   ]
  },
  {
   "cell_type": "code",
   "execution_count": null,
   "id": "0e89563c",
   "metadata": {},
   "outputs": [],
   "source": []
  },
  {
   "cell_type": "code",
   "execution_count": 51,
   "id": "d29ef0fa",
   "metadata": {},
   "outputs": [],
   "source": [
    "crops = {\n",
    "    'rice':\n",
    "    {\n",
    "        'name':'rice',\n",
    "        'information':\"Rice cultivation is the process of growing rice in flooded fields called paddies. It is widely grown in the south east asia.\",\n",
    "        'Climate':\"Rice requires warm temperatures, high humidity, and plenty of water to grow\"\n",
    "    },\n",
    "    'maize':\n",
    "    \n",
    "    {\n",
    "        'name': 'maize',\n",
    "        'information': 'Maize is a rich source of carbohydrates, protein, and other nutrients, and is used to make a wide variety of food products, including flour, meal, grits, and oil. It is also used to feed livestock, and its by-products, such as cornstarch, are used in many industrial products.',\n",
    "        'Climate': \"Maize is a warm-season crop that requires a long growing season and warm temperatures to reach maturity. It is typically planted in the spring and harvested in the late summer or early fall\",\n",
    "        \n",
    "    },\n",
    "    'apple':\n",
    "    {\n",
    "        'name': 'apple',\n",
    "        'information':\"The apple is a deciduous tree, generally standing 2 to 4.5 m (6 to 15 ft) tall in cultivation and up to 9 m (30 ft) in the wild. When cultivated, the size, shape and branch density are determined by rootstock selection and trimming method.\",\n",
    "        'Climate':\"Apples are grown in a variety of climates, but they require a period of cold winter dormancy in order to fruit. Apples are considered a temperate climate fruit, which means they need cool temperatures during the growing season, and cold temperatures during the winter. \",\n",
    "        \n",
    "    },\n",
    "    'orange':\n",
    "    {\n",
    "        'name':'orange',\n",
    "        'information':\" It is a flowering tree and its height in maturity can range between 16 and 50 ft. (between 5 and 15 m). Orange tree is grown mostly for its fruits, but also for its flowers and as an ornamental.It's important to mention that Orange trees require well-draining soil and adequate water supply, they are sensitive to frost and freeze damage, and they are also susceptible to pests and diseases.\",\n",
    "        'Climate':\"Oranges require a warm and humid climate to grow well. They are typically grown in regions with moderate to high temperatures, with average daily temperatures between 21-30°C and annual temperatures above freezing.\"\n",
    "    },\n",
    "}\n",
    "\n"
   ]
  },
  {
   "cell_type": "code",
   "execution_count": 45,
   "id": "78bf8a87",
   "metadata": {},
   "outputs": [
    {
     "data": {
      "text/plain": [
       "dict"
      ]
     },
     "execution_count": 45,
     "metadata": {},
     "output_type": "execute_result"
    }
   ],
   "source": [
    "type(crops['rice'])"
   ]
  },
  {
   "cell_type": "code",
   "execution_count": 54,
   "id": "8548e52a",
   "metadata": {},
   "outputs": [],
   "source": [
    "predicted_crop = 'orange' \n"
   ]
  },
  {
   "cell_type": "code",
   "execution_count": 58,
   "id": "e57fcb28",
   "metadata": {},
   "outputs": [
    {
     "name": "stdout",
     "output_type": "stream",
     "text": [
      "{'name': 'orange', 'information': \" It is a flowering tree and its height in maturity can range between 16 and 50 ft. (between 5 and 15 m). Orange tree is grown mostly for its fruits, but also for its flowers and as an ornamental.It's important to mention that Orange trees require well-draining soil and adequate water supply, they are sensitive to frost and freeze damage, and they are also susceptible to pests and diseases.\", 'Climate': 'Oranges require a warm and humid climate to grow well. They are typically grown in regions with moderate to high temperatures, with average daily temperatures between 21-30°C and annual temperatures above freezing.'}\n"
     ]
    }
   ],
   "source": [
    "for i in crops:\n",
    "    if i==predicted_crop:\n",
    "        print(crops[i])"
   ]
  },
  {
   "cell_type": "code",
   "execution_count": 56,
   "id": "b1014db7",
   "metadata": {},
   "outputs": [
    {
     "name": "stdout",
     "output_type": "stream",
     "text": [
      "rice\n",
      "maize\n",
      "apple\n",
      "orange\n"
     ]
    }
   ],
   "source": [
    "for i in crops:\n",
    "    print(i"
   ]
  },
  {
   "cell_type": "code",
   "execution_count": null,
   "id": "8aaf0d2f",
   "metadata": {},
   "outputs": [],
   "source": []
  },
  {
   "cell_type": "code",
   "execution_count": 19,
   "id": "8e9f8616",
   "metadata": {},
   "outputs": [],
   "source": [
    "fertilizar_description = {'Urea': \" Urea is a type of nitrogen fertilizer that is made from natural gas. It is a highly concentrated form of nitrogen, and is often used to supplement crops that are nitrogen-deficient. Urea is a quick-acting fertilizer, which means it is rapidly absorbed by plants, making it an effective way to quickly boost growth and yield. However, because it is a highly concentrated form of nitrogen, it must be applied in smaller quantities than other types of nitrogen fertilizers. Additionally, urea can be susceptible to volatilization, which means it can turn into a gas and be lost to the atmosphere before it has a chance to be absorbed by plants.\",\n",
    "\n",
    "'DAP':  \"(Diammonium Phosphate) is a type of fertilizer that is high in nitrogen and phosphorous. It is commonly used in agriculture to promote growth and increase crop yields. DAP contains two forms of nitrogen, one of which is quickly available to plants, and the other one which is slowly released, making it a good option for a long-term fertilization plan. DAP also contains phosphorous, which is essential for root growth and fruit development. Phosphorous also plays a role in photosynthesis, the process plants use to convert light energy into chemical energy.\",\n",
    "\n",
    "'14-35-14':\"14-35-14 is a type of fertilizer that contains 14% nitrogen, 35% phosphorous, and 14% potassium. Nitrogen promotes leaf growth, phosphorous is important for root growth and fruit development, and potassium is essential for overall plant health. This type of fertilizer is often used to promote overall plant health and increase crop yields. The NPK ratio (14-35-14) of this fertilizer is designed to provide plants with a balance of essential nutrients that are needed for healthy growth and yield.\",\n",
    "\n",
    "'28-28': \"28-28 is a type of fertilizer that contains 28% nitrogen and 28% phosphorous. It is often used to supplement crops that are nitrogen- and phosphorous-deficient. The high levels of these two nutrients in this fertilizer will help the plants to recover from nutrient deficiencies, enhance photosynthesis, and increase the yield.\",\n",
    " \n",
    "\n",
    "'17-17-17': \"17-17-17 is a type of fertilizer that contains 17% nitrogen, 17% phosphorous, and 17% potassium. It is often used as a general-purpose fertilizer to promote overall plant health and increase crop yields. The NPK ratio of 17-17-17 provides plants with a balance of essential nutrients that are needed for healthy growth and yield.\",\n",
    "\n",
    "'20-20': \" 20-20 is a type of fertilizer that contains 20% nitrogen and 20% phosphorous. It is often used to supplement crops that are nitrogen- and phosphorous-deficient. The high levels of these two nutrients in this fertilizer will help the plants to recover from nutrient deficiencies, enhance photosynthesis, and increase the yield.\",\n",
    "\n",
    "'10-26-26': \"1-26-26 is a type of fertilizer that contains 10% nitrogen, 26% phosphorous, and 26% potassium. It is often used to promote overall plant health, increase crop yields and improve the quality of fruits. The NPK ratio of 10-26-26 provides plants with a balance of essential nutrients that are needed for healthy growth and yield. The high levels of phosphorous and potassium will help the plants to produce high-quality fruits, and increase their resistance to diseases and pests.\"}"
   ]
  },
  {
   "cell_type": "code",
   "execution_count": 20,
   "id": "a98115c7",
   "metadata": {},
   "outputs": [
    {
     "data": {
      "text/plain": [
       "' Urea is a type of nitrogen fertilizer that is made from natural gas. It is a highly concentrated form of nitrogen, and is often used to supplement crops that are nitrogen-deficient. Urea is a quick-acting fertilizer, which means it is rapidly absorbed by plants, making it an effective way to quickly boost growth and yield. However, because it is a highly concentrated form of nitrogen, it must be applied in smaller quantities than other types of nitrogen fertilizers. Additionally, urea can be susceptible to volatilization, which means it can turn into a gas and be lost to the atmosphere before it has a chance to be absorbed by plants.'"
      ]
     },
     "execution_count": 20,
     "metadata": {},
     "output_type": "execute_result"
    }
   ],
   "source": [
    "predicted_fertilizer = 'Urea'\n",
    "fertilizar_description[predicted_fertilizer]\n"
   ]
  },
  {
   "cell_type": "code",
   "execution_count": null,
   "id": "801fda70",
   "metadata": {},
   "outputs": [],
   "source": []
  },
  {
   "cell_type": "code",
   "execution_count": null,
   "id": "c11a853c",
   "metadata": {},
   "outputs": [],
   "source": []
  },
  {
   "cell_type": "code",
   "execution_count": null,
   "id": "9becba7b",
   "metadata": {},
   "outputs": [],
   "source": []
  },
  {
   "cell_type": "code",
   "execution_count": null,
   "id": "8d6a2d0c",
   "metadata": {},
   "outputs": [],
   "source": [
    "fertilizer_dict = {'Urea': 0,'DAP': 1,'14-35-14': 2,'28-28': 3,'17-17-17': 4,'20-20': 5,'10-26-26': 6}"
   ]
  },
  {
   "cell_type": "code",
   "execution_count": null,
   "id": "4736d6e2",
   "metadata": {},
   "outputs": [],
   "source": []
  },
  {
   "cell_type": "code",
   "execution_count": null,
   "id": "3f161ea8",
   "metadata": {},
   "outputs": [],
   "source": []
  },
  {
   "cell_type": "code",
   "execution_count": 4,
   "id": "93bca562",
   "metadata": {},
   "outputs": [],
   "source": [
    "import pandas as pd\n"
   ]
  },
  {
   "cell_type": "code",
   "execution_count": 5,
   "id": "976050e2",
   "metadata": {},
   "outputs": [],
   "source": [
    "df = pd.read_csv('crop.csv', na_values=\"na\")"
   ]
  },
  {
   "cell_type": "code",
   "execution_count": 46,
   "id": "adaf461f",
   "metadata": {},
   "outputs": [
    {
     "data": {
      "text/html": [
       "<div>\n",
       "<style scoped>\n",
       "    .dataframe tbody tr th:only-of-type {\n",
       "        vertical-align: middle;\n",
       "    }\n",
       "\n",
       "    .dataframe tbody tr th {\n",
       "        vertical-align: top;\n",
       "    }\n",
       "\n",
       "    .dataframe thead th {\n",
       "        text-align: right;\n",
       "    }\n",
       "</style>\n",
       "<table border=\"1\" class=\"dataframe\">\n",
       "  <thead>\n",
       "    <tr style=\"text-align: right;\">\n",
       "      <th></th>\n",
       "      <th>Unnamed: 0</th>\n",
       "      <th>N</th>\n",
       "      <th>P</th>\n",
       "      <th>K</th>\n",
       "      <th>temperature</th>\n",
       "      <th>humidity</th>\n",
       "      <th>ph</th>\n",
       "      <th>rainfall</th>\n",
       "      <th>label</th>\n",
       "    </tr>\n",
       "  </thead>\n",
       "  <tbody>\n",
       "    <tr>\n",
       "      <th>0</th>\n",
       "      <td>0</td>\n",
       "      <td>90</td>\n",
       "      <td>42</td>\n",
       "      <td>43</td>\n",
       "      <td>20.879744</td>\n",
       "      <td>82.002744</td>\n",
       "      <td>6.502985</td>\n",
       "      <td>202.935536</td>\n",
       "      <td>rice</td>\n",
       "    </tr>\n",
       "    <tr>\n",
       "      <th>1</th>\n",
       "      <td>1</td>\n",
       "      <td>85</td>\n",
       "      <td>58</td>\n",
       "      <td>41</td>\n",
       "      <td>21.770462</td>\n",
       "      <td>80.319644</td>\n",
       "      <td>7.038096</td>\n",
       "      <td>226.655537</td>\n",
       "      <td>rice</td>\n",
       "    </tr>\n",
       "    <tr>\n",
       "      <th>2</th>\n",
       "      <td>2</td>\n",
       "      <td>60</td>\n",
       "      <td>55</td>\n",
       "      <td>44</td>\n",
       "      <td>23.004459</td>\n",
       "      <td>82.320763</td>\n",
       "      <td>7.840207</td>\n",
       "      <td>263.964248</td>\n",
       "      <td>rice</td>\n",
       "    </tr>\n",
       "    <tr>\n",
       "      <th>3</th>\n",
       "      <td>3</td>\n",
       "      <td>74</td>\n",
       "      <td>35</td>\n",
       "      <td>40</td>\n",
       "      <td>26.491096</td>\n",
       "      <td>80.158363</td>\n",
       "      <td>6.980401</td>\n",
       "      <td>242.864034</td>\n",
       "      <td>rice</td>\n",
       "    </tr>\n",
       "    <tr>\n",
       "      <th>4</th>\n",
       "      <td>4</td>\n",
       "      <td>78</td>\n",
       "      <td>42</td>\n",
       "      <td>42</td>\n",
       "      <td>20.130175</td>\n",
       "      <td>81.604873</td>\n",
       "      <td>7.628473</td>\n",
       "      <td>262.717340</td>\n",
       "      <td>rice</td>\n",
       "    </tr>\n",
       "  </tbody>\n",
       "</table>\n",
       "</div>"
      ],
      "text/plain": [
       "   Unnamed: 0   N   P   K  temperature   humidity        ph    rainfall label\n",
       "0           0  90  42  43    20.879744  82.002744  6.502985  202.935536  rice\n",
       "1           1  85  58  41    21.770462  80.319644  7.038096  226.655537  rice\n",
       "2           2  60  55  44    23.004459  82.320763  7.840207  263.964248  rice\n",
       "3           3  74  35  40    26.491096  80.158363  6.980401  242.864034  rice\n",
       "4           4  78  42  42    20.130175  81.604873  7.628473  262.717340  rice"
      ]
     },
     "execution_count": 46,
     "metadata": {},
     "output_type": "execute_result"
    }
   ],
   "source": [
    "df.head()"
   ]
  },
  {
   "cell_type": "code",
   "execution_count": 47,
   "id": "72c9c9ec",
   "metadata": {},
   "outputs": [
    {
     "data": {
      "text/plain": [
       "array(['rice', 'maize', 'chickpea', 'kidneybeans', 'pigeonpeas',\n",
       "       'mothbeans', 'mungbean', 'blackgram', 'lentil', 'pomegranate',\n",
       "       'banana', 'mango', 'grapes', 'watermelon', 'muskmelon', 'apple',\n",
       "       'orange', 'papaya', 'coconut', 'cotton', 'jute', 'coffee'],\n",
       "      dtype=object)"
      ]
     },
     "execution_count": 47,
     "metadata": {},
     "output_type": "execute_result"
    }
   ],
   "source": [
    "df['label'].unique()"
   ]
  },
  {
   "cell_type": "code",
   "execution_count": null,
   "id": "62a82954",
   "metadata": {},
   "outputs": [],
   "source": [
    "df['']"
   ]
  },
  {
   "cell_type": "code",
   "execution_count": null,
   "id": "46d2ff23",
   "metadata": {},
   "outputs": [],
   "source": []
  },
  {
   "cell_type": "code",
   "execution_count": null,
   "id": "0ea28987",
   "metadata": {},
   "outputs": [],
   "source": []
  },
  {
   "cell_type": "code",
   "execution_count": null,
   "id": "cdc0d6fb",
   "metadata": {},
   "outputs": [],
   "source": []
  },
  {
   "cell_type": "code",
   "execution_count": null,
   "id": "c6c4f3b3",
   "metadata": {},
   "outputs": [],
   "source": []
  },
  {
   "cell_type": "code",
   "execution_count": null,
   "id": "e597f5ee",
   "metadata": {},
   "outputs": [],
   "source": []
  },
  {
   "cell_type": "code",
   "execution_count": null,
   "id": "e272de27",
   "metadata": {},
   "outputs": [],
   "source": []
  },
  {
   "cell_type": "code",
   "execution_count": null,
   "id": "86d22709",
   "metadata": {},
   "outputs": [],
   "source": []
  },
  {
   "cell_type": "code",
   "execution_count": null,
   "id": "d3e06fca",
   "metadata": {},
   "outputs": [],
   "source": []
  }
 ],
 "metadata": {
  "kernelspec": {
   "display_name": "Python 3 (ipykernel)",
   "language": "python",
   "name": "python3"
  },
  "language_info": {
   "codemirror_mode": {
    "name": "ipython",
    "version": 3
   },
   "file_extension": ".py",
   "mimetype": "text/x-python",
   "name": "python",
   "nbconvert_exporter": "python",
   "pygments_lexer": "ipython3",
   "version": "3.9.12"
  }
 },
 "nbformat": 4,
 "nbformat_minor": 5
}
