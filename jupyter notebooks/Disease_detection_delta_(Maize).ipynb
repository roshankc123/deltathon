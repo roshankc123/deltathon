{
  "nbformat": 4,
  "nbformat_minor": 0,
  "metadata": {
    "colab": {
      "provenance": []
    },
    "kernelspec": {
      "name": "python3",
      "display_name": "Python 3"
    },
    "language_info": {
      "name": "python"
    },
    "accelerator": "GPU",
    "gpuClass": "standard",
    "widgets": {
      "application/vnd.jupyter.widget-state+json": {
        "ac799e597bb4437681da03eb663339ef": {
          "model_module": "@jupyter-widgets/controls",
          "model_name": "HBoxModel",
          "model_module_version": "1.5.0",
          "state": {
            "_dom_classes": [],
            "_model_module": "@jupyter-widgets/controls",
            "_model_module_version": "1.5.0",
            "_model_name": "HBoxModel",
            "_view_count": null,
            "_view_module": "@jupyter-widgets/controls",
            "_view_module_version": "1.5.0",
            "_view_name": "HBoxView",
            "box_style": "",
            "children": [
              "IPY_MODEL_782553ffdb2a4485a08e3c3784694b14",
              "IPY_MODEL_c6b788a63d354a8a89e3769fd53e7ffc",
              "IPY_MODEL_74bdcbff19534194befb56543a06b381"
            ],
            "layout": "IPY_MODEL_cad538a94a444ba6be0dc84ba9639f5a"
          }
        },
        "782553ffdb2a4485a08e3c3784694b14": {
          "model_module": "@jupyter-widgets/controls",
          "model_name": "HTMLModel",
          "model_module_version": "1.5.0",
          "state": {
            "_dom_classes": [],
            "_model_module": "@jupyter-widgets/controls",
            "_model_module_version": "1.5.0",
            "_model_name": "HTMLModel",
            "_view_count": null,
            "_view_module": "@jupyter-widgets/controls",
            "_view_module_version": "1.5.0",
            "_view_name": "HTMLView",
            "description": "",
            "description_tooltip": null,
            "layout": "IPY_MODEL_bd7da46450ff4751ae931325ec574812",
            "placeholder": "​",
            "style": "IPY_MODEL_2f0a19ae2fef4c02a55d8449fb90cbab",
            "value": "100%"
          }
        },
        "c6b788a63d354a8a89e3769fd53e7ffc": {
          "model_module": "@jupyter-widgets/controls",
          "model_name": "FloatProgressModel",
          "model_module_version": "1.5.0",
          "state": {
            "_dom_classes": [],
            "_model_module": "@jupyter-widgets/controls",
            "_model_module_version": "1.5.0",
            "_model_name": "FloatProgressModel",
            "_view_count": null,
            "_view_module": "@jupyter-widgets/controls",
            "_view_module_version": "1.5.0",
            "_view_name": "ProgressView",
            "bar_style": "success",
            "description": "",
            "description_tooltip": null,
            "layout": "IPY_MODEL_4b69c97dbab34f0ab843671f69021434",
            "max": 553433881,
            "min": 0,
            "orientation": "horizontal",
            "style": "IPY_MODEL_b345211d9b584e36a46dd4e15fb72208",
            "value": 553433881
          }
        },
        "74bdcbff19534194befb56543a06b381": {
          "model_module": "@jupyter-widgets/controls",
          "model_name": "HTMLModel",
          "model_module_version": "1.5.0",
          "state": {
            "_dom_classes": [],
            "_model_module": "@jupyter-widgets/controls",
            "_model_module_version": "1.5.0",
            "_model_name": "HTMLModel",
            "_view_count": null,
            "_view_module": "@jupyter-widgets/controls",
            "_view_module_version": "1.5.0",
            "_view_name": "HTMLView",
            "description": "",
            "description_tooltip": null,
            "layout": "IPY_MODEL_6d3fff16bfe84431afdf1e3aad5e54e4",
            "placeholder": "​",
            "style": "IPY_MODEL_8b3b2ace9a8444bf9524acfb83397c11",
            "value": " 528M/528M [00:02&lt;00:00, 236MB/s]"
          }
        },
        "cad538a94a444ba6be0dc84ba9639f5a": {
          "model_module": "@jupyter-widgets/base",
          "model_name": "LayoutModel",
          "model_module_version": "1.2.0",
          "state": {
            "_model_module": "@jupyter-widgets/base",
            "_model_module_version": "1.2.0",
            "_model_name": "LayoutModel",
            "_view_count": null,
            "_view_module": "@jupyter-widgets/base",
            "_view_module_version": "1.2.0",
            "_view_name": "LayoutView",
            "align_content": null,
            "align_items": null,
            "align_self": null,
            "border": null,
            "bottom": null,
            "display": null,
            "flex": null,
            "flex_flow": null,
            "grid_area": null,
            "grid_auto_columns": null,
            "grid_auto_flow": null,
            "grid_auto_rows": null,
            "grid_column": null,
            "grid_gap": null,
            "grid_row": null,
            "grid_template_areas": null,
            "grid_template_columns": null,
            "grid_template_rows": null,
            "height": null,
            "justify_content": null,
            "justify_items": null,
            "left": null,
            "margin": null,
            "max_height": null,
            "max_width": null,
            "min_height": null,
            "min_width": null,
            "object_fit": null,
            "object_position": null,
            "order": null,
            "overflow": null,
            "overflow_x": null,
            "overflow_y": null,
            "padding": null,
            "right": null,
            "top": null,
            "visibility": null,
            "width": null
          }
        },
        "bd7da46450ff4751ae931325ec574812": {
          "model_module": "@jupyter-widgets/base",
          "model_name": "LayoutModel",
          "model_module_version": "1.2.0",
          "state": {
            "_model_module": "@jupyter-widgets/base",
            "_model_module_version": "1.2.0",
            "_model_name": "LayoutModel",
            "_view_count": null,
            "_view_module": "@jupyter-widgets/base",
            "_view_module_version": "1.2.0",
            "_view_name": "LayoutView",
            "align_content": null,
            "align_items": null,
            "align_self": null,
            "border": null,
            "bottom": null,
            "display": null,
            "flex": null,
            "flex_flow": null,
            "grid_area": null,
            "grid_auto_columns": null,
            "grid_auto_flow": null,
            "grid_auto_rows": null,
            "grid_column": null,
            "grid_gap": null,
            "grid_row": null,
            "grid_template_areas": null,
            "grid_template_columns": null,
            "grid_template_rows": null,
            "height": null,
            "justify_content": null,
            "justify_items": null,
            "left": null,
            "margin": null,
            "max_height": null,
            "max_width": null,
            "min_height": null,
            "min_width": null,
            "object_fit": null,
            "object_position": null,
            "order": null,
            "overflow": null,
            "overflow_x": null,
            "overflow_y": null,
            "padding": null,
            "right": null,
            "top": null,
            "visibility": null,
            "width": null
          }
        },
        "2f0a19ae2fef4c02a55d8449fb90cbab": {
          "model_module": "@jupyter-widgets/controls",
          "model_name": "DescriptionStyleModel",
          "model_module_version": "1.5.0",
          "state": {
            "_model_module": "@jupyter-widgets/controls",
            "_model_module_version": "1.5.0",
            "_model_name": "DescriptionStyleModel",
            "_view_count": null,
            "_view_module": "@jupyter-widgets/base",
            "_view_module_version": "1.2.0",
            "_view_name": "StyleView",
            "description_width": ""
          }
        },
        "4b69c97dbab34f0ab843671f69021434": {
          "model_module": "@jupyter-widgets/base",
          "model_name": "LayoutModel",
          "model_module_version": "1.2.0",
          "state": {
            "_model_module": "@jupyter-widgets/base",
            "_model_module_version": "1.2.0",
            "_model_name": "LayoutModel",
            "_view_count": null,
            "_view_module": "@jupyter-widgets/base",
            "_view_module_version": "1.2.0",
            "_view_name": "LayoutView",
            "align_content": null,
            "align_items": null,
            "align_self": null,
            "border": null,
            "bottom": null,
            "display": null,
            "flex": null,
            "flex_flow": null,
            "grid_area": null,
            "grid_auto_columns": null,
            "grid_auto_flow": null,
            "grid_auto_rows": null,
            "grid_column": null,
            "grid_gap": null,
            "grid_row": null,
            "grid_template_areas": null,
            "grid_template_columns": null,
            "grid_template_rows": null,
            "height": null,
            "justify_content": null,
            "justify_items": null,
            "left": null,
            "margin": null,
            "max_height": null,
            "max_width": null,
            "min_height": null,
            "min_width": null,
            "object_fit": null,
            "object_position": null,
            "order": null,
            "overflow": null,
            "overflow_x": null,
            "overflow_y": null,
            "padding": null,
            "right": null,
            "top": null,
            "visibility": null,
            "width": null
          }
        },
        "b345211d9b584e36a46dd4e15fb72208": {
          "model_module": "@jupyter-widgets/controls",
          "model_name": "ProgressStyleModel",
          "model_module_version": "1.5.0",
          "state": {
            "_model_module": "@jupyter-widgets/controls",
            "_model_module_version": "1.5.0",
            "_model_name": "ProgressStyleModel",
            "_view_count": null,
            "_view_module": "@jupyter-widgets/base",
            "_view_module_version": "1.2.0",
            "_view_name": "StyleView",
            "bar_color": null,
            "description_width": ""
          }
        },
        "6d3fff16bfe84431afdf1e3aad5e54e4": {
          "model_module": "@jupyter-widgets/base",
          "model_name": "LayoutModel",
          "model_module_version": "1.2.0",
          "state": {
            "_model_module": "@jupyter-widgets/base",
            "_model_module_version": "1.2.0",
            "_model_name": "LayoutModel",
            "_view_count": null,
            "_view_module": "@jupyter-widgets/base",
            "_view_module_version": "1.2.0",
            "_view_name": "LayoutView",
            "align_content": null,
            "align_items": null,
            "align_self": null,
            "border": null,
            "bottom": null,
            "display": null,
            "flex": null,
            "flex_flow": null,
            "grid_area": null,
            "grid_auto_columns": null,
            "grid_auto_flow": null,
            "grid_auto_rows": null,
            "grid_column": null,
            "grid_gap": null,
            "grid_row": null,
            "grid_template_areas": null,
            "grid_template_columns": null,
            "grid_template_rows": null,
            "height": null,
            "justify_content": null,
            "justify_items": null,
            "left": null,
            "margin": null,
            "max_height": null,
            "max_width": null,
            "min_height": null,
            "min_width": null,
            "object_fit": null,
            "object_position": null,
            "order": null,
            "overflow": null,
            "overflow_x": null,
            "overflow_y": null,
            "padding": null,
            "right": null,
            "top": null,
            "visibility": null,
            "width": null
          }
        },
        "8b3b2ace9a8444bf9524acfb83397c11": {
          "model_module": "@jupyter-widgets/controls",
          "model_name": "DescriptionStyleModel",
          "model_module_version": "1.5.0",
          "state": {
            "_model_module": "@jupyter-widgets/controls",
            "_model_module_version": "1.5.0",
            "_model_name": "DescriptionStyleModel",
            "_view_count": null,
            "_view_module": "@jupyter-widgets/base",
            "_view_module_version": "1.2.0",
            "_view_name": "StyleView",
            "description_width": ""
          }
        }
      }
    }
  },
  "cells": [
    {
      "cell_type": "code",
      "execution_count": 1,
      "metadata": {
        "colab": {
          "base_uri": "https://localhost:8080/"
        },
        "id": "QpetB9MVpIpy",
        "outputId": "0036c3d3-c5b9-49bb-9c67-6db43672aa0a"
      },
      "outputs": [
        {
          "output_type": "stream",
          "name": "stdout",
          "text": [
            "Looking in indexes: https://pypi.org/simple, https://us-python.pkg.dev/colab-wheels/public/simple/\n",
            "Requirement already satisfied: kaggle in /usr/local/lib/python3.8/dist-packages (1.5.12)\n",
            "Requirement already satisfied: python-dateutil in /usr/local/lib/python3.8/dist-packages (from kaggle) (2.8.2)\n",
            "Requirement already satisfied: six>=1.10 in /usr/local/lib/python3.8/dist-packages (from kaggle) (1.15.0)\n",
            "Requirement already satisfied: tqdm in /usr/local/lib/python3.8/dist-packages (from kaggle) (4.64.1)\n",
            "Requirement already satisfied: requests in /usr/local/lib/python3.8/dist-packages (from kaggle) (2.25.1)\n",
            "Requirement already satisfied: urllib3 in /usr/local/lib/python3.8/dist-packages (from kaggle) (1.24.3)\n",
            "Requirement already satisfied: certifi in /usr/local/lib/python3.8/dist-packages (from kaggle) (2022.12.7)\n",
            "Requirement already satisfied: python-slugify in /usr/local/lib/python3.8/dist-packages (from kaggle) (7.0.0)\n",
            "Requirement already satisfied: text-unidecode>=1.3 in /usr/local/lib/python3.8/dist-packages (from python-slugify->kaggle) (1.3)\n",
            "Requirement already satisfied: idna<3,>=2.5 in /usr/local/lib/python3.8/dist-packages (from requests->kaggle) (2.10)\n",
            "Requirement already satisfied: chardet<5,>=3.0.2 in /usr/local/lib/python3.8/dist-packages (from requests->kaggle) (4.0.0)\n"
          ]
        }
      ],
      "source": [
        "!pip install kaggle"
      ]
    },
    {
      "cell_type": "code",
      "source": [
        "\n",
        "from google.colab import files\n",
        "files.upload()"
      ],
      "metadata": {
        "id": "LuevozmHpQWP"
      },
      "execution_count": null,
      "outputs": []
    },
    {
      "cell_type": "code",
      "source": [
        "!mkdir ~/.kaggle\n",
        "!cp kaggle.json ~/.kaggle\n",
        "!chmod 600 ~/.kaggle/kaggle.json"
      ],
      "metadata": {
        "id": "72aw8ZmspY6r"
      },
      "execution_count": 3,
      "outputs": []
    },
    {
      "cell_type": "code",
      "source": [
        "!kaggle datasets download -d vipoooool/new-plant-diseases-dataset"
      ],
      "metadata": {
        "colab": {
          "base_uri": "https://localhost:8080/"
        },
        "id": "7OdFpz9xrKN5",
        "outputId": "09a69a98-cd94-48e4-a46a-0c71a8bfceac"
      },
      "execution_count": 4,
      "outputs": [
        {
          "output_type": "stream",
          "name": "stdout",
          "text": [
            "Downloading new-plant-diseases-dataset.zip to /content\n",
            "100% 2.70G/2.70G [03:01<00:00, 16.2MB/s]\n",
            "100% 2.70G/2.70G [03:01<00:00, 16.0MB/s]\n"
          ]
        }
      ]
    },
    {
      "cell_type": "code",
      "source": [
        "%%capture\n",
        "!unzip new-plant-diseases-dataset.zip"
      ],
      "metadata": {
        "id": "-9tSpGbQsgo6"
      },
      "execution_count": 5,
      "outputs": []
    },
    {
      "cell_type": "code",
      "source": [
        "#import of the libraries\n",
        "import os\n",
        "import numpy as np\n",
        "import matplotlib.pyplot as plt\n",
        "import pandas as pd\n",
        "import glob\n",
        "import cv2"
      ],
      "metadata": {
        "id": "5xyJpDBhtnay"
      },
      "execution_count": 6,
      "outputs": []
    },
    {
      "cell_type": "code",
      "source": [
        "plants = ['Apple', 'Maize', 'Potato']"
      ],
      "metadata": {
        "id": "PSJzPYJKt36i"
      },
      "execution_count": 7,
      "outputs": []
    },
    {
      "cell_type": "code",
      "source": [
        "diseases = []"
      ],
      "metadata": {
        "id": "Xz1Z5KhbuTdh"
      },
      "execution_count": 8,
      "outputs": []
    },
    {
      "cell_type": "code",
      "source": [
        "trn_path = '/content/New Plant Diseases Dataset(Augmented)/New Plant Diseases Dataset(Augmented)/train'\n",
        "for i in os.listdir(trn_path):\n",
        "  if i.split('__')[0].split('_')[0]=='Corn':\n",
        "    diseases.append(i)"
      ],
      "metadata": {
        "id": "0xNfav2SsoGl"
      },
      "execution_count": 9,
      "outputs": []
    },
    {
      "cell_type": "code",
      "source": [
        "diseases"
      ],
      "metadata": {
        "colab": {
          "base_uri": "https://localhost:8080/"
        },
        "id": "yvdjJe_5t2MF",
        "outputId": "06889443-41ef-4561-f7e7-dab1a9a7d964"
      },
      "execution_count": 10,
      "outputs": [
        {
          "output_type": "execute_result",
          "data": {
            "text/plain": [
              "['Corn_(maize)___Cercospora_leaf_spot Gray_leaf_spot',\n",
              " 'Corn_(maize)___healthy',\n",
              " 'Corn_(maize)___Northern_Leaf_Blight',\n",
              " 'Corn_(maize)___Common_rust_']"
            ]
          },
          "metadata": {},
          "execution_count": 10
        }
      ]
    },
    {
      "cell_type": "code",
      "source": [
        "path = []\n",
        "labels  = []\n",
        "for dis in diseases:\n",
        "  for i in os.listdir(os.path.join(trn_path, dis)):\n",
        "    path.append(trn_path+'/'+dis+'/'+i)\n",
        "    labels.append(dis)\n",
        "df = pd.DataFrame(zip(path, labels)) "
      ],
      "metadata": {
        "id": "LzbeXOhKuZTw"
      },
      "execution_count": 24,
      "outputs": []
    },
    {
      "cell_type": "code",
      "source": [
        "df.columns = ['path', 'label']"
      ],
      "metadata": {
        "id": "Nx3klAGFwfoN"
      },
      "execution_count": 25,
      "outputs": []
    },
    {
      "cell_type": "code",
      "source": [
        "# plt.imshow(cv2.imread('/content/New Plant Diseases Dataset(Augmented)/New Plant Diseases Dataset(Augmented)/train/Apple___Black_rot/34eb19d8-32a9-4c9b-829f-d0ed705c5f03___JR_FrgE.S 3064_90deg.JPG'))"
      ],
      "metadata": {
        "id": "UJMdGCO_wBZz"
      },
      "execution_count": 26,
      "outputs": []
    },
    {
      "cell_type": "code",
      "source": [
        "valid_path = '/content/New Plant Diseases Dataset(Augmented)/New Plant Diseases Dataset(Augmented)/valid'"
      ],
      "metadata": {
        "id": "q3H3TpG5x3cL"
      },
      "execution_count": 27,
      "outputs": []
    },
    {
      "cell_type": "code",
      "source": [],
      "metadata": {
        "id": "GuwlB0zVx8s4"
      },
      "execution_count": 27,
      "outputs": []
    },
    {
      "cell_type": "code",
      "source": [
        "path = []\n",
        "labels  = []\n",
        "for dis in diseases:\n",
        "  for i in os.listdir(os.path.join(valid_path, dis)):\n",
        "    path.append(valid_path+'/'+dis+'/'+i)\n",
        "    labels.append(dis)\n",
        "df_test = pd.DataFrame(zip(path, labels)) "
      ],
      "metadata": {
        "id": "7xX0hNY5x8pw"
      },
      "execution_count": 28,
      "outputs": []
    },
    {
      "cell_type": "code",
      "source": [
        "df_test.columns = ['path', 'label']"
      ],
      "metadata": {
        "id": "DRcV1JGgyQRu"
      },
      "execution_count": 29,
      "outputs": []
    },
    {
      "cell_type": "code",
      "source": [
        "df_test.head()"
      ],
      "metadata": {
        "colab": {
          "base_uri": "https://localhost:8080/",
          "height": 206
        },
        "id": "NLZYThQ7x8nJ",
        "outputId": "5e265ef3-1a34-4f4d-9745-eb26c2c660e7"
      },
      "execution_count": 30,
      "outputs": [
        {
          "output_type": "execute_result",
          "data": {
            "text/plain": [
              "                                                path  \\\n",
              "0  /content/New Plant Diseases Dataset(Augmented)...   \n",
              "1  /content/New Plant Diseases Dataset(Augmented)...   \n",
              "2  /content/New Plant Diseases Dataset(Augmented)...   \n",
              "3  /content/New Plant Diseases Dataset(Augmented)...   \n",
              "4  /content/New Plant Diseases Dataset(Augmented)...   \n",
              "\n",
              "                                               label  \n",
              "0  Corn_(maize)___Cercospora_leaf_spot Gray_leaf_...  \n",
              "1  Corn_(maize)___Cercospora_leaf_spot Gray_leaf_...  \n",
              "2  Corn_(maize)___Cercospora_leaf_spot Gray_leaf_...  \n",
              "3  Corn_(maize)___Cercospora_leaf_spot Gray_leaf_...  \n",
              "4  Corn_(maize)___Cercospora_leaf_spot Gray_leaf_...  "
            ],
            "text/html": [
              "\n",
              "  <div id=\"df-893b2e1d-281f-4ac6-ab33-fd3d5a16e84c\">\n",
              "    <div class=\"colab-df-container\">\n",
              "      <div>\n",
              "<style scoped>\n",
              "    .dataframe tbody tr th:only-of-type {\n",
              "        vertical-align: middle;\n",
              "    }\n",
              "\n",
              "    .dataframe tbody tr th {\n",
              "        vertical-align: top;\n",
              "    }\n",
              "\n",
              "    .dataframe thead th {\n",
              "        text-align: right;\n",
              "    }\n",
              "</style>\n",
              "<table border=\"1\" class=\"dataframe\">\n",
              "  <thead>\n",
              "    <tr style=\"text-align: right;\">\n",
              "      <th></th>\n",
              "      <th>path</th>\n",
              "      <th>label</th>\n",
              "    </tr>\n",
              "  </thead>\n",
              "  <tbody>\n",
              "    <tr>\n",
              "      <th>0</th>\n",
              "      <td>/content/New Plant Diseases Dataset(Augmented)...</td>\n",
              "      <td>Corn_(maize)___Cercospora_leaf_spot Gray_leaf_...</td>\n",
              "    </tr>\n",
              "    <tr>\n",
              "      <th>1</th>\n",
              "      <td>/content/New Plant Diseases Dataset(Augmented)...</td>\n",
              "      <td>Corn_(maize)___Cercospora_leaf_spot Gray_leaf_...</td>\n",
              "    </tr>\n",
              "    <tr>\n",
              "      <th>2</th>\n",
              "      <td>/content/New Plant Diseases Dataset(Augmented)...</td>\n",
              "      <td>Corn_(maize)___Cercospora_leaf_spot Gray_leaf_...</td>\n",
              "    </tr>\n",
              "    <tr>\n",
              "      <th>3</th>\n",
              "      <td>/content/New Plant Diseases Dataset(Augmented)...</td>\n",
              "      <td>Corn_(maize)___Cercospora_leaf_spot Gray_leaf_...</td>\n",
              "    </tr>\n",
              "    <tr>\n",
              "      <th>4</th>\n",
              "      <td>/content/New Plant Diseases Dataset(Augmented)...</td>\n",
              "      <td>Corn_(maize)___Cercospora_leaf_spot Gray_leaf_...</td>\n",
              "    </tr>\n",
              "  </tbody>\n",
              "</table>\n",
              "</div>\n",
              "      <button class=\"colab-df-convert\" onclick=\"convertToInteractive('df-893b2e1d-281f-4ac6-ab33-fd3d5a16e84c')\"\n",
              "              title=\"Convert this dataframe to an interactive table.\"\n",
              "              style=\"display:none;\">\n",
              "        \n",
              "  <svg xmlns=\"http://www.w3.org/2000/svg\" height=\"24px\"viewBox=\"0 0 24 24\"\n",
              "       width=\"24px\">\n",
              "    <path d=\"M0 0h24v24H0V0z\" fill=\"none\"/>\n",
              "    <path d=\"M18.56 5.44l.94 2.06.94-2.06 2.06-.94-2.06-.94-.94-2.06-.94 2.06-2.06.94zm-11 1L8.5 8.5l.94-2.06 2.06-.94-2.06-.94L8.5 2.5l-.94 2.06-2.06.94zm10 10l.94 2.06.94-2.06 2.06-.94-2.06-.94-.94-2.06-.94 2.06-2.06.94z\"/><path d=\"M17.41 7.96l-1.37-1.37c-.4-.4-.92-.59-1.43-.59-.52 0-1.04.2-1.43.59L10.3 9.45l-7.72 7.72c-.78.78-.78 2.05 0 2.83L4 21.41c.39.39.9.59 1.41.59.51 0 1.02-.2 1.41-.59l7.78-7.78 2.81-2.81c.8-.78.8-2.07 0-2.86zM5.41 20L4 18.59l7.72-7.72 1.47 1.35L5.41 20z\"/>\n",
              "  </svg>\n",
              "      </button>\n",
              "      \n",
              "  <style>\n",
              "    .colab-df-container {\n",
              "      display:flex;\n",
              "      flex-wrap:wrap;\n",
              "      gap: 12px;\n",
              "    }\n",
              "\n",
              "    .colab-df-convert {\n",
              "      background-color: #E8F0FE;\n",
              "      border: none;\n",
              "      border-radius: 50%;\n",
              "      cursor: pointer;\n",
              "      display: none;\n",
              "      fill: #1967D2;\n",
              "      height: 32px;\n",
              "      padding: 0 0 0 0;\n",
              "      width: 32px;\n",
              "    }\n",
              "\n",
              "    .colab-df-convert:hover {\n",
              "      background-color: #E2EBFA;\n",
              "      box-shadow: 0px 1px 2px rgba(60, 64, 67, 0.3), 0px 1px 3px 1px rgba(60, 64, 67, 0.15);\n",
              "      fill: #174EA6;\n",
              "    }\n",
              "\n",
              "    [theme=dark] .colab-df-convert {\n",
              "      background-color: #3B4455;\n",
              "      fill: #D2E3FC;\n",
              "    }\n",
              "\n",
              "    [theme=dark] .colab-df-convert:hover {\n",
              "      background-color: #434B5C;\n",
              "      box-shadow: 0px 1px 3px 1px rgba(0, 0, 0, 0.15);\n",
              "      filter: drop-shadow(0px 1px 2px rgba(0, 0, 0, 0.3));\n",
              "      fill: #FFFFFF;\n",
              "    }\n",
              "  </style>\n",
              "\n",
              "      <script>\n",
              "        const buttonEl =\n",
              "          document.querySelector('#df-893b2e1d-281f-4ac6-ab33-fd3d5a16e84c button.colab-df-convert');\n",
              "        buttonEl.style.display =\n",
              "          google.colab.kernel.accessAllowed ? 'block' : 'none';\n",
              "\n",
              "        async function convertToInteractive(key) {\n",
              "          const element = document.querySelector('#df-893b2e1d-281f-4ac6-ab33-fd3d5a16e84c');\n",
              "          const dataTable =\n",
              "            await google.colab.kernel.invokeFunction('convertToInteractive',\n",
              "                                                     [key], {});\n",
              "          if (!dataTable) return;\n",
              "\n",
              "          const docLinkHtml = 'Like what you see? Visit the ' +\n",
              "            '<a target=\"_blank\" href=https://colab.research.google.com/notebooks/data_table.ipynb>data table notebook</a>'\n",
              "            + ' to learn more about interactive tables.';\n",
              "          element.innerHTML = '';\n",
              "          dataTable['output_type'] = 'display_data';\n",
              "          await google.colab.output.renderOutput(dataTable, element);\n",
              "          const docLink = document.createElement('div');\n",
              "          docLink.innerHTML = docLinkHtml;\n",
              "          element.appendChild(docLink);\n",
              "        }\n",
              "      </script>\n",
              "    </div>\n",
              "  </div>\n",
              "  "
            ]
          },
          "metadata": {},
          "execution_count": 30
        }
      ]
    },
    {
      "cell_type": "code",
      "source": [
        "df.head()"
      ],
      "metadata": {
        "colab": {
          "base_uri": "https://localhost:8080/",
          "height": 206
        },
        "id": "2e4X2qGQwU0b",
        "outputId": "953e9fd9-961f-4622-aec1-4d8f0a03dab4"
      },
      "execution_count": 31,
      "outputs": [
        {
          "output_type": "execute_result",
          "data": {
            "text/plain": [
              "                                                path  \\\n",
              "0  /content/New Plant Diseases Dataset(Augmented)...   \n",
              "1  /content/New Plant Diseases Dataset(Augmented)...   \n",
              "2  /content/New Plant Diseases Dataset(Augmented)...   \n",
              "3  /content/New Plant Diseases Dataset(Augmented)...   \n",
              "4  /content/New Plant Diseases Dataset(Augmented)...   \n",
              "\n",
              "                                               label  \n",
              "0  Corn_(maize)___Cercospora_leaf_spot Gray_leaf_...  \n",
              "1  Corn_(maize)___Cercospora_leaf_spot Gray_leaf_...  \n",
              "2  Corn_(maize)___Cercospora_leaf_spot Gray_leaf_...  \n",
              "3  Corn_(maize)___Cercospora_leaf_spot Gray_leaf_...  \n",
              "4  Corn_(maize)___Cercospora_leaf_spot Gray_leaf_...  "
            ],
            "text/html": [
              "\n",
              "  <div id=\"df-ac4c386d-2bfe-467d-a853-c534973271ce\">\n",
              "    <div class=\"colab-df-container\">\n",
              "      <div>\n",
              "<style scoped>\n",
              "    .dataframe tbody tr th:only-of-type {\n",
              "        vertical-align: middle;\n",
              "    }\n",
              "\n",
              "    .dataframe tbody tr th {\n",
              "        vertical-align: top;\n",
              "    }\n",
              "\n",
              "    .dataframe thead th {\n",
              "        text-align: right;\n",
              "    }\n",
              "</style>\n",
              "<table border=\"1\" class=\"dataframe\">\n",
              "  <thead>\n",
              "    <tr style=\"text-align: right;\">\n",
              "      <th></th>\n",
              "      <th>path</th>\n",
              "      <th>label</th>\n",
              "    </tr>\n",
              "  </thead>\n",
              "  <tbody>\n",
              "    <tr>\n",
              "      <th>0</th>\n",
              "      <td>/content/New Plant Diseases Dataset(Augmented)...</td>\n",
              "      <td>Corn_(maize)___Cercospora_leaf_spot Gray_leaf_...</td>\n",
              "    </tr>\n",
              "    <tr>\n",
              "      <th>1</th>\n",
              "      <td>/content/New Plant Diseases Dataset(Augmented)...</td>\n",
              "      <td>Corn_(maize)___Cercospora_leaf_spot Gray_leaf_...</td>\n",
              "    </tr>\n",
              "    <tr>\n",
              "      <th>2</th>\n",
              "      <td>/content/New Plant Diseases Dataset(Augmented)...</td>\n",
              "      <td>Corn_(maize)___Cercospora_leaf_spot Gray_leaf_...</td>\n",
              "    </tr>\n",
              "    <tr>\n",
              "      <th>3</th>\n",
              "      <td>/content/New Plant Diseases Dataset(Augmented)...</td>\n",
              "      <td>Corn_(maize)___Cercospora_leaf_spot Gray_leaf_...</td>\n",
              "    </tr>\n",
              "    <tr>\n",
              "      <th>4</th>\n",
              "      <td>/content/New Plant Diseases Dataset(Augmented)...</td>\n",
              "      <td>Corn_(maize)___Cercospora_leaf_spot Gray_leaf_...</td>\n",
              "    </tr>\n",
              "  </tbody>\n",
              "</table>\n",
              "</div>\n",
              "      <button class=\"colab-df-convert\" onclick=\"convertToInteractive('df-ac4c386d-2bfe-467d-a853-c534973271ce')\"\n",
              "              title=\"Convert this dataframe to an interactive table.\"\n",
              "              style=\"display:none;\">\n",
              "        \n",
              "  <svg xmlns=\"http://www.w3.org/2000/svg\" height=\"24px\"viewBox=\"0 0 24 24\"\n",
              "       width=\"24px\">\n",
              "    <path d=\"M0 0h24v24H0V0z\" fill=\"none\"/>\n",
              "    <path d=\"M18.56 5.44l.94 2.06.94-2.06 2.06-.94-2.06-.94-.94-2.06-.94 2.06-2.06.94zm-11 1L8.5 8.5l.94-2.06 2.06-.94-2.06-.94L8.5 2.5l-.94 2.06-2.06.94zm10 10l.94 2.06.94-2.06 2.06-.94-2.06-.94-.94-2.06-.94 2.06-2.06.94z\"/><path d=\"M17.41 7.96l-1.37-1.37c-.4-.4-.92-.59-1.43-.59-.52 0-1.04.2-1.43.59L10.3 9.45l-7.72 7.72c-.78.78-.78 2.05 0 2.83L4 21.41c.39.39.9.59 1.41.59.51 0 1.02-.2 1.41-.59l7.78-7.78 2.81-2.81c.8-.78.8-2.07 0-2.86zM5.41 20L4 18.59l7.72-7.72 1.47 1.35L5.41 20z\"/>\n",
              "  </svg>\n",
              "      </button>\n",
              "      \n",
              "  <style>\n",
              "    .colab-df-container {\n",
              "      display:flex;\n",
              "      flex-wrap:wrap;\n",
              "      gap: 12px;\n",
              "    }\n",
              "\n",
              "    .colab-df-convert {\n",
              "      background-color: #E8F0FE;\n",
              "      border: none;\n",
              "      border-radius: 50%;\n",
              "      cursor: pointer;\n",
              "      display: none;\n",
              "      fill: #1967D2;\n",
              "      height: 32px;\n",
              "      padding: 0 0 0 0;\n",
              "      width: 32px;\n",
              "    }\n",
              "\n",
              "    .colab-df-convert:hover {\n",
              "      background-color: #E2EBFA;\n",
              "      box-shadow: 0px 1px 2px rgba(60, 64, 67, 0.3), 0px 1px 3px 1px rgba(60, 64, 67, 0.15);\n",
              "      fill: #174EA6;\n",
              "    }\n",
              "\n",
              "    [theme=dark] .colab-df-convert {\n",
              "      background-color: #3B4455;\n",
              "      fill: #D2E3FC;\n",
              "    }\n",
              "\n",
              "    [theme=dark] .colab-df-convert:hover {\n",
              "      background-color: #434B5C;\n",
              "      box-shadow: 0px 1px 3px 1px rgba(0, 0, 0, 0.15);\n",
              "      filter: drop-shadow(0px 1px 2px rgba(0, 0, 0, 0.3));\n",
              "      fill: #FFFFFF;\n",
              "    }\n",
              "  </style>\n",
              "\n",
              "      <script>\n",
              "        const buttonEl =\n",
              "          document.querySelector('#df-ac4c386d-2bfe-467d-a853-c534973271ce button.colab-df-convert');\n",
              "        buttonEl.style.display =\n",
              "          google.colab.kernel.accessAllowed ? 'block' : 'none';\n",
              "\n",
              "        async function convertToInteractive(key) {\n",
              "          const element = document.querySelector('#df-ac4c386d-2bfe-467d-a853-c534973271ce');\n",
              "          const dataTable =\n",
              "            await google.colab.kernel.invokeFunction('convertToInteractive',\n",
              "                                                     [key], {});\n",
              "          if (!dataTable) return;\n",
              "\n",
              "          const docLinkHtml = 'Like what you see? Visit the ' +\n",
              "            '<a target=\"_blank\" href=https://colab.research.google.com/notebooks/data_table.ipynb>data table notebook</a>'\n",
              "            + ' to learn more about interactive tables.';\n",
              "          element.innerHTML = '';\n",
              "          dataTable['output_type'] = 'display_data';\n",
              "          await google.colab.output.renderOutput(dataTable, element);\n",
              "          const docLink = document.createElement('div');\n",
              "          docLink.innerHTML = docLinkHtml;\n",
              "          element.appendChild(docLink);\n",
              "        }\n",
              "      </script>\n",
              "    </div>\n",
              "  </div>\n",
              "  "
            ]
          },
          "metadata": {},
          "execution_count": 31
        }
      ]
    },
    {
      "cell_type": "code",
      "source": [
        "df.label.value_counts()"
      ],
      "metadata": {
        "colab": {
          "base_uri": "https://localhost:8080/"
        },
        "id": "822cq_u5wyzX",
        "outputId": "98d0e1ac-019f-417d-fa2c-3015609c1c27"
      },
      "execution_count": 32,
      "outputs": [
        {
          "output_type": "execute_result",
          "data": {
            "text/plain": [
              "Corn_(maize)___Northern_Leaf_Blight                   1908\n",
              "Corn_(maize)___Common_rust_                           1907\n",
              "Corn_(maize)___healthy                                1859\n",
              "Corn_(maize)___Cercospora_leaf_spot Gray_leaf_spot    1642\n",
              "Name: label, dtype: int64"
            ]
          },
          "metadata": {},
          "execution_count": 32
        }
      ]
    },
    {
      "cell_type": "code",
      "source": [
        "#import pytorch libraries\n",
        "import torchvision\n",
        "import torch\n",
        "from torch.utils.data import DataLoader, Dataset\n",
        "import torchvision.transforms as T\n",
        "import numpy as np\n",
        "from sklearn.preprocessing import LabelEncoder\n",
        "import torch.nn as nn\n",
        "from torchvision.models import vgg16\n",
        "from sklearn.model_selection import train_test_split\n",
        "import torch.nn.functional as Fun"
      ],
      "metadata": {
        "id": "rT_3D1Ndw4nx"
      },
      "execution_count": 33,
      "outputs": []
    },
    {
      "cell_type": "code",
      "source": [
        "lb = LabelEncoder()\n",
        "df_test.label =  lb.fit_transform(df_test.label)\n",
        "df.label =  lb.fit_transform(df.label)\n",
        "dict(zip(lb.classes_, lb.transform(lb.classes_)))"
      ],
      "metadata": {
        "colab": {
          "base_uri": "https://localhost:8080/"
        },
        "id": "39fcB61LxQ2P",
        "outputId": "5d6adf10-b37d-4653-8595-79481d0207af"
      },
      "execution_count": 34,
      "outputs": [
        {
          "output_type": "execute_result",
          "data": {
            "text/plain": [
              "{'Corn_(maize)___Cercospora_leaf_spot Gray_leaf_spot': 0,\n",
              " 'Corn_(maize)___Common_rust_': 1,\n",
              " 'Corn_(maize)___Northern_Leaf_Blight': 2,\n",
              " 'Corn_(maize)___healthy': 3}"
            ]
          },
          "metadata": {},
          "execution_count": 34
        }
      ]
    },
    {
      "cell_type": "code",
      "source": [
        "Maize_classes = {'Corn_(maize)___Cercospora_leaf_spot Gray_leaf_spot': 0,\n",
        " 'Corn_(maize)___Common_rust_': 1,\n",
        " 'Corn_(maize)___Northern_Leaf_Blight': 2,\n",
        " 'Corn_(maize)___healthy': 3}"
      ],
      "metadata": {
        "id": "dOJuEuz8xx8v"
      },
      "execution_count": 35,
      "outputs": []
    },
    {
      "cell_type": "code",
      "source": [
        "device = 'cuda' if torch.cuda.is_available() else 'cpu'\n",
        "print(device)"
      ],
      "metadata": {
        "colab": {
          "base_uri": "https://localhost:8080/"
        },
        "id": "ghYRsQg8yx6c",
        "outputId": "7a34ad52-2449-40de-a9cd-c4ed87170b18"
      },
      "execution_count": 36,
      "outputs": [
        {
          "output_type": "stream",
          "name": "stdout",
          "text": [
            "cuda\n"
          ]
        }
      ]
    },
    {
      "cell_type": "code",
      "source": [
        "class MaizeDataset(Dataset):\n",
        "    def __init__(self, df):\n",
        "        self.fpath = df.path\n",
        "        self.label = df.label\n",
        "        self.transforms = T.Compose(\n",
        "        [T.ToTensor(),\n",
        "        T.Normalize(mean=[0.485,\n",
        "           0.456, 0.406],std=[0.229, 0.224, 0.225])]\n",
        "        )\n",
        "    def __len__(self):\n",
        "        return len(self.fpath)\n",
        "    \n",
        "    def __getitem__(self,ix):\n",
        "        f = self.fpath[ix]\n",
        "        label = self.label[ix]\n",
        "        im = cv2.imread(f)\n",
        "        im = cv2.resize(im, (224,224))\n",
        "        # im = cv2.cvtColor(im, cv2.COLOR_BGR2RGB)\n",
        "        im = self.transforms(im)\n",
        "        \n",
        "        return torch.tensor(im,dtype=torch.float).to(device), torch.tensor(label, dtype=torch.float).long().to(device)\n",
        "        "
      ],
      "metadata": {
        "id": "PDnJJsJczFlA"
      },
      "execution_count": 38,
      "outputs": []
    },
    {
      "cell_type": "code",
      "source": [
        "def get_model():\n",
        "    model = torchvision.models.vgg16(pretrained=True)\n",
        "    for param in model.features.parameters():\n",
        "                   param.requires_grad = False\n",
        "    model.avgpool = model.avgpool = nn.AdaptiveAvgPool2d(output_size=(1,1))\n",
        "    model.classifier = nn.Sequential(nn.Flatten(),\n",
        "                                   nn.Linear(512, 128),\n",
        "                                   nn.ReLU(),\n",
        "                                   nn.Dropout(0.2),\n",
        "                                   nn.Linear(128, 4),\n",
        "                                   nn.Softmax())\n",
        "    model = model.to(device)\n",
        "    loss_fn = nn.CrossEntropyLoss()\n",
        "    optimizer = torch.optim.Adam(model.parameters(), lr=1e-3)\n",
        "    return model, loss_fn, optimizer"
      ],
      "metadata": {
        "id": "Zs-p5XnlzkZg"
      },
      "execution_count": 40,
      "outputs": []
    },
    {
      "cell_type": "code",
      "source": [
        "model, loss_fn, optimizer = get_model()\n",
        "from torchsummary import summary"
      ],
      "metadata": {
        "colab": {
          "base_uri": "https://localhost:8080/",
          "height": 158,
          "referenced_widgets": [
            "ac799e597bb4437681da03eb663339ef",
            "782553ffdb2a4485a08e3c3784694b14",
            "c6b788a63d354a8a89e3769fd53e7ffc",
            "74bdcbff19534194befb56543a06b381",
            "cad538a94a444ba6be0dc84ba9639f5a",
            "bd7da46450ff4751ae931325ec574812",
            "2f0a19ae2fef4c02a55d8449fb90cbab",
            "4b69c97dbab34f0ab843671f69021434",
            "b345211d9b584e36a46dd4e15fb72208",
            "6d3fff16bfe84431afdf1e3aad5e54e4",
            "8b3b2ace9a8444bf9524acfb83397c11"
          ]
        },
        "id": "sUJLVDaVzpLj",
        "outputId": "4153d242-12cc-41ec-f531-f45bb216a449"
      },
      "execution_count": 41,
      "outputs": [
        {
          "output_type": "stream",
          "name": "stderr",
          "text": [
            "/usr/local/lib/python3.8/dist-packages/torchvision/models/_utils.py:208: UserWarning: The parameter 'pretrained' is deprecated since 0.13 and may be removed in the future, please use 'weights' instead.\n",
            "  warnings.warn(\n",
            "/usr/local/lib/python3.8/dist-packages/torchvision/models/_utils.py:223: UserWarning: Arguments other than a weight enum or `None` for 'weights' are deprecated since 0.13 and may be removed in the future. The current behavior is equivalent to passing `weights=VGG16_Weights.IMAGENET1K_V1`. You can also use `weights=VGG16_Weights.DEFAULT` to get the most up-to-date weights.\n",
            "  warnings.warn(msg)\n",
            "Downloading: \"https://download.pytorch.org/models/vgg16-397923af.pth\" to /root/.cache/torch/hub/checkpoints/vgg16-397923af.pth\n"
          ]
        },
        {
          "output_type": "display_data",
          "data": {
            "text/plain": [
              "  0%|          | 0.00/528M [00:00<?, ?B/s]"
            ],
            "application/vnd.jupyter.widget-view+json": {
              "version_major": 2,
              "version_minor": 0,
              "model_id": "ac799e597bb4437681da03eb663339ef"
            }
          },
          "metadata": {}
        }
      ]
    },
    {
      "cell_type": "code",
      "source": [
        "model"
      ],
      "metadata": {
        "colab": {
          "base_uri": "https://localhost:8080/"
        },
        "id": "YFnMnYw_zsnH",
        "outputId": "8df60987-429e-4a0e-fde5-7aec2433d726"
      },
      "execution_count": 42,
      "outputs": [
        {
          "output_type": "execute_result",
          "data": {
            "text/plain": [
              "VGG(\n",
              "  (features): Sequential(\n",
              "    (0): Conv2d(3, 64, kernel_size=(3, 3), stride=(1, 1), padding=(1, 1))\n",
              "    (1): ReLU(inplace=True)\n",
              "    (2): Conv2d(64, 64, kernel_size=(3, 3), stride=(1, 1), padding=(1, 1))\n",
              "    (3): ReLU(inplace=True)\n",
              "    (4): MaxPool2d(kernel_size=2, stride=2, padding=0, dilation=1, ceil_mode=False)\n",
              "    (5): Conv2d(64, 128, kernel_size=(3, 3), stride=(1, 1), padding=(1, 1))\n",
              "    (6): ReLU(inplace=True)\n",
              "    (7): Conv2d(128, 128, kernel_size=(3, 3), stride=(1, 1), padding=(1, 1))\n",
              "    (8): ReLU(inplace=True)\n",
              "    (9): MaxPool2d(kernel_size=2, stride=2, padding=0, dilation=1, ceil_mode=False)\n",
              "    (10): Conv2d(128, 256, kernel_size=(3, 3), stride=(1, 1), padding=(1, 1))\n",
              "    (11): ReLU(inplace=True)\n",
              "    (12): Conv2d(256, 256, kernel_size=(3, 3), stride=(1, 1), padding=(1, 1))\n",
              "    (13): ReLU(inplace=True)\n",
              "    (14): Conv2d(256, 256, kernel_size=(3, 3), stride=(1, 1), padding=(1, 1))\n",
              "    (15): ReLU(inplace=True)\n",
              "    (16): MaxPool2d(kernel_size=2, stride=2, padding=0, dilation=1, ceil_mode=False)\n",
              "    (17): Conv2d(256, 512, kernel_size=(3, 3), stride=(1, 1), padding=(1, 1))\n",
              "    (18): ReLU(inplace=True)\n",
              "    (19): Conv2d(512, 512, kernel_size=(3, 3), stride=(1, 1), padding=(1, 1))\n",
              "    (20): ReLU(inplace=True)\n",
              "    (21): Conv2d(512, 512, kernel_size=(3, 3), stride=(1, 1), padding=(1, 1))\n",
              "    (22): ReLU(inplace=True)\n",
              "    (23): MaxPool2d(kernel_size=2, stride=2, padding=0, dilation=1, ceil_mode=False)\n",
              "    (24): Conv2d(512, 512, kernel_size=(3, 3), stride=(1, 1), padding=(1, 1))\n",
              "    (25): ReLU(inplace=True)\n",
              "    (26): Conv2d(512, 512, kernel_size=(3, 3), stride=(1, 1), padding=(1, 1))\n",
              "    (27): ReLU(inplace=True)\n",
              "    (28): Conv2d(512, 512, kernel_size=(3, 3), stride=(1, 1), padding=(1, 1))\n",
              "    (29): ReLU(inplace=True)\n",
              "    (30): MaxPool2d(kernel_size=2, stride=2, padding=0, dilation=1, ceil_mode=False)\n",
              "  )\n",
              "  (avgpool): AdaptiveAvgPool2d(output_size=(1, 1))\n",
              "  (classifier): Sequential(\n",
              "    (0): Flatten(start_dim=1, end_dim=-1)\n",
              "    (1): Linear(in_features=512, out_features=128, bias=True)\n",
              "    (2): ReLU()\n",
              "    (3): Dropout(p=0.2, inplace=False)\n",
              "    (4): Linear(in_features=128, out_features=4, bias=True)\n",
              "    (5): Softmax(dim=None)\n",
              "  )\n",
              ")"
            ]
          },
          "metadata": {},
          "execution_count": 42
        }
      ]
    },
    {
      "cell_type": "code",
      "source": [
        "def get_data():\n",
        "    train = MaizeDataset(df)\n",
        "    test = MaizeDataset(df_test)\n",
        "    trn_dl = DataLoader(train, batch_size=16,shuffle=True, drop_last=True)\n",
        "    test_dl = DataLoader(test, batch_size=16, shuffle=True, drop_last=True)\n",
        "    return trn_dl, test_dl"
      ],
      "metadata": {
        "id": "5EP6Cztd0fzv"
      },
      "execution_count": 43,
      "outputs": []
    },
    {
      "cell_type": "code",
      "source": [
        "def train_batch(x, y, model, loss_fn, opt):\n",
        "    model.train()\n",
        "    prediction = model(x)\n",
        "    batch_loss = loss_fn(prediction, y)\n",
        "    batch_loss.backward()\n",
        "    optimizer.step()\n",
        "    optimizer.zero_grad()\n",
        "    return batch_loss.item()"
      ],
      "metadata": {
        "id": "8Ts1NtgC0kOv"
      },
      "execution_count": 44,
      "outputs": []
    },
    {
      "cell_type": "code",
      "source": [
        "@torch.no_grad()\n",
        "def accuracy(x, y, model):\n",
        "    model.eval()\n",
        "    pred = model(x)\n",
        "    _, is_correct = torch.max(pred.data,1)\n",
        "    acc_all = (is_correct==y).detach().cpu().numpy()\n",
        "    return acc_all"
      ],
      "metadata": {
        "id": "TXBQpoN-0nuQ"
      },
      "execution_count": 45,
      "outputs": []
    },
    {
      "cell_type": "code",
      "source": [
        "@torch.no_grad()\n",
        "def val_loss_trn(x, y, model, loss_fn):\n",
        "  prediction = model(x)\n",
        "  val_loss = loss_fn(prediction, y)\n",
        "  return val_loss.item()"
      ],
      "metadata": {
        "id": "rzEXpUIe0qtW"
      },
      "execution_count": 46,
      "outputs": []
    },
    {
      "cell_type": "code",
      "source": [
        "trn_ldr, test_ldr = get_data()\n"
      ],
      "metadata": {
        "id": "ZF9SN0Hj0tmg"
      },
      "execution_count": 47,
      "outputs": []
    },
    {
      "cell_type": "code",
      "source": [
        "train_loss = []\n",
        "train_accuracies= []\n",
        "val_loss = [] \n",
        "val_accuracies = []\n",
        "\n",
        "for i in range(20):\n",
        "    print(f'Epoch: _________*****{i}*****_______')\n",
        "    train_epoch_losses, train_epoch_accuracies = [], []\n",
        "    val_epoch_accuracies, val_epoch_losses = [], []\n",
        "\n",
        "\n",
        "\n",
        "    for ix, batch in (enumerate(iter(trn_ldr))):\n",
        "        \n",
        "        x, y = batch\n",
        "        # x = x.permute(0, 3,1,2)\n",
        "        train_epoch_losses.append(train_batch(x, y, model, loss_fn, optimizer))\n",
        "    train_epoch_loss = np.array(train_epoch_losses).mean()\n",
        "    print(f'Epoch: _________*****{i} Training Loss : {train_epoch_loss} *****_______')\n",
        "\n",
        "\n",
        "\n",
        "    for ix, batch in (enumerate(iter(trn_ldr))):\n",
        "        x, y = batch\n",
        "        # x = x.permute(0, 3,1,2)\n",
        "        train_epoch_accuracies.append(sum(accuracy(x, y, model)) / len(y))\n",
        "    train_epoch_accuracy = np.array(train_epoch_accuracies).mean()\n",
        "    print(f'Epoch: _________*****{i} Training Accuracy: {train_epoch_accuracy} *****_______')\n",
        "\n",
        "\n",
        "    for ix, batch in (enumerate(iter(test_ldr))):\n",
        "        x, y = batch\n",
        "        # x = x.permute(0, 3,1,2)\n",
        "        val_epoch_losses.append(val_loss_trn(x, y, model, loss_fn))\n",
        "    val_epoch_loss = np.array(val_epoch_losses).mean()\n",
        "    print(f'Epoch: _________*****{i} Validation Loss : {val_epoch_loss} *****_______')\n",
        "\n",
        "    for ix, batch in (enumerate(iter(test_ldr))):\n",
        "        x, y = batch\n",
        "        # x = x.permute(0, 3,1,2)\n",
        "        val_epoch_accuracies.append(sum(accuracy(x, y, model)) / len(y))\n",
        "    val_epoch_accuracy = np.array(val_epoch_accuracies).mean()\n",
        "    print(f'Epoch: _________*****{i} Validation Accuracy. {val_epoch_accuracy} *****_______')\n",
        "    print('\\n')\n",
        "\n",
        "    train_loss.append(train_epoch_loss)\n",
        "    train_accuracies.append(train_epoch_accuracy)\n",
        "    val_accuracies.append(val_epoch_accuracy)\n",
        "    val_loss.append(val_epoch_loss)"
      ],
      "metadata": {
        "colab": {
          "base_uri": "https://localhost:8080/"
        },
        "id": "ktjZdrK80wJf",
        "outputId": "46692dcd-c378-489c-cfee-815db8915b81"
      },
      "execution_count": 48,
      "outputs": [
        {
          "output_type": "stream",
          "name": "stdout",
          "text": [
            "Epoch: _________*****0*****_______\n"
          ]
        },
        {
          "output_type": "stream",
          "name": "stderr",
          "text": [
            "<ipython-input-38-954524b6ec1e>:21: UserWarning: To copy construct from a tensor, it is recommended to use sourceTensor.clone().detach() or sourceTensor.clone().detach().requires_grad_(True), rather than torch.tensor(sourceTensor).\n",
            "  return torch.tensor(im,dtype=torch.float).to(device), torch.tensor(label, dtype=torch.float).long().to(device)\n",
            "/usr/local/lib/python3.8/dist-packages/torch/nn/modules/container.py:204: UserWarning: Implicit dimension choice for softmax has been deprecated. Change the call to include dim=X as an argument.\n",
            "  input = module(input)\n"
          ]
        },
        {
          "output_type": "stream",
          "name": "stdout",
          "text": [
            "Epoch: _________*****0 Training Loss : 0.8447174444240345 *****_______\n",
            "Epoch: _________*****0 Training Accuracy: 0.9678610503282276 *****_______\n",
            "Epoch: _________*****0 Validation Loss : 0.7911681417833295 *****_______\n",
            "Epoch: _________*****0 Validation Accuracy. 0.9594298245614035 *****_______\n",
            "\n",
            "\n",
            "Epoch: _________*****1*****_______\n",
            "Epoch: _________*****1 Training Loss : 0.7834815982916684 *****_______\n",
            "Epoch: _________*****1 Training Accuracy: 0.9704595185995624 *****_______\n",
            "Epoch: _________*****1 Validation Loss : 0.7880699718207643 *****_______\n",
            "Epoch: _________*****1 Validation Accuracy. 0.9583333333333334 *****_______\n",
            "\n",
            "\n",
            "Epoch: _________*****2*****_______\n",
            "Epoch: _________*****2 Training Loss : 0.7782854469130285 *****_______\n",
            "Epoch: _________*****2 Training Accuracy: 0.9725109409190372 *****_______\n",
            "Epoch: _________*****2 Validation Loss : 0.7831068525188848 *****_______\n",
            "Epoch: _________*****2 Validation Accuracy. 0.9605263157894737 *****_______\n",
            "\n",
            "\n",
            "Epoch: _________*****3*****_______\n",
            "Epoch: _________*****3 Training Loss : 0.7736692013834446 *****_______\n",
            "Epoch: _________*****3 Training Accuracy: 0.9768873085339168 *****_______\n",
            "Epoch: _________*****3 Validation Loss : 0.7834818588014234 *****_______\n",
            "Epoch: _________*****3 Validation Accuracy. 0.9610745614035088 *****_______\n",
            "\n",
            "\n",
            "Epoch: _________*****4*****_______\n",
            "Epoch: _________*****4 Training Loss : 0.7706871932653682 *****_______\n",
            "Epoch: _________*****4 Training Accuracy: 0.9712800875273523 *****_______\n",
            "Epoch: _________*****4 Validation Loss : 0.7823365288868285 *****_______\n",
            "Epoch: _________*****4 Validation Accuracy. 0.9616228070175439 *****_______\n",
            "\n",
            "\n",
            "Epoch: _________*****5*****_______\n",
            "Epoch: _________*****5 Training Loss : 0.7705983540422285 *****_______\n",
            "Epoch: _________*****5 Training Accuracy: 0.9701859956236324 *****_______\n",
            "Epoch: _________*****5 Validation Loss : 0.7849919801218468 *****_______\n",
            "Epoch: _________*****5 Validation Accuracy. 0.9572368421052632 *****_______\n",
            "\n",
            "\n",
            "Epoch: _________*****6*****_______\n",
            "Epoch: _________*****6 Training Loss : 0.7671672422724166 *****_______\n",
            "Epoch: _________*****6 Training Accuracy: 0.9823577680525164 *****_______\n",
            "Epoch: _________*****6 Validation Loss : 0.7788497314118502 *****_______\n",
            "Epoch: _________*****6 Validation Accuracy. 0.9627192982456141 *****_______\n",
            "\n",
            "\n",
            "Epoch: _________*****7*****_______\n",
            "Epoch: _________*****7 Training Loss : 0.7677531488875592 *****_______\n",
            "Epoch: _________*****7 Training Accuracy: 0.9827680525164114 *****_______\n",
            "Epoch: _________*****7 Validation Loss : 0.7815296174141398 *****_______\n",
            "Epoch: _________*****7 Validation Accuracy. 0.9610745614035088 *****_______\n",
            "\n",
            "\n",
            "Epoch: _________*****8*****_______\n",
            "Epoch: _________*****8 Training Loss : 0.7639726260819634 *****_______\n",
            "Epoch: _________*****8 Training Accuracy: 0.9830415754923414 *****_______\n",
            "Epoch: _________*****8 Validation Loss : 0.7790947342128084 *****_______\n",
            "Epoch: _________*****8 Validation Accuracy. 0.9638157894736842 *****_______\n",
            "\n",
            "\n",
            "Epoch: _________*****9*****_______\n",
            "Epoch: _________*****9 Training Loss : 0.7629940679349837 *****_______\n",
            "Epoch: _________*****9 Training Accuracy: 0.9867341356673961 *****_______\n",
            "Epoch: _________*****9 Validation Loss : 0.7789075599427808 *****_______\n",
            "Epoch: _________*****9 Validation Accuracy. 0.9638157894736842 *****_______\n",
            "\n",
            "\n",
            "Epoch: _________*****10*****_______\n",
            "Epoch: _________*****10 Training Loss : 0.7627838032250853 *****_______\n",
            "Epoch: _________*****10 Training Accuracy: 0.986870897155361 *****_______\n",
            "Epoch: _________*****10 Validation Loss : 0.7766307885186714 *****_______\n",
            "Epoch: _________*****10 Validation Accuracy. 0.9660087719298246 *****_______\n",
            "\n",
            "\n",
            "Epoch: _________*****11*****_______\n",
            "Epoch: _________*****11 Training Loss : 0.7613859613562569 *****_______\n",
            "Epoch: _________*****11 Training Accuracy: 0.9859135667396062 *****_______\n",
            "Epoch: _________*****11 Validation Loss : 0.7787718412123228 *****_______\n",
            "Epoch: _________*****11 Validation Accuracy. 0.9660087719298246 *****_______\n",
            "\n",
            "\n",
            "Epoch: _________*****12*****_______\n",
            "Epoch: _________*****12 Training Loss : 0.758905134654932 *****_______\n",
            "Epoch: _________*****12 Training Accuracy: 0.9886487964989059 *****_______\n",
            "Epoch: _________*****12 Validation Loss : 0.7778225018267046 *****_______\n",
            "Epoch: _________*****12 Validation Accuracy. 0.9654605263157895 *****_______\n",
            "\n",
            "\n",
            "Epoch: _________*****13*****_______\n",
            "Epoch: _________*****13 Training Loss : 0.7590333465935104 *****_______\n",
            "Epoch: _________*****13 Training Accuracy: 0.9861870897155361 *****_______\n",
            "Epoch: _________*****13 Validation Loss : 0.7787544392702872 *****_______\n",
            "Epoch: _________*****13 Validation Accuracy. 0.962171052631579 *****_______\n",
            "\n",
            "\n",
            "Epoch: _________*****14*****_______\n",
            "Epoch: _________*****14 Training Loss : 0.7576975369870793 *****_______\n",
            "Epoch: _________*****14 Training Accuracy: 0.9848194748358862 *****_______\n",
            "Epoch: _________*****14 Validation Loss : 0.7784423373247448 *****_______\n",
            "Epoch: _________*****14 Validation Accuracy. 0.9665570175438597 *****_______\n",
            "\n",
            "\n",
            "Epoch: _________*****15*****_______\n",
            "Epoch: _________*****15 Training Loss : 0.7577077541622604 *****_______\n",
            "Epoch: _________*****15 Training Accuracy: 0.9896061269146609 *****_______\n",
            "Epoch: _________*****15 Validation Loss : 0.7771625780222708 *****_______\n",
            "Epoch: _________*****15 Validation Accuracy. 0.9660087719298246 *****_______\n",
            "\n",
            "\n",
            "Epoch: _________*****16*****_______\n",
            "Epoch: _________*****16 Training Loss : 0.7557874567138287 *****_______\n",
            "Epoch: _________*****16 Training Accuracy: 0.988101750547046 *****_______\n",
            "Epoch: _________*****16 Validation Loss : 0.7779081845492647 *****_______\n",
            "Epoch: _________*****16 Validation Accuracy. 0.9660087719298246 *****_______\n",
            "\n",
            "\n",
            "Epoch: _________*****17*****_______\n",
            "Epoch: _________*****17 Training Loss : 0.7570059373811767 *****_______\n",
            "Epoch: _________*****17 Training Accuracy: 0.9915207877461707 *****_______\n",
            "Epoch: _________*****17 Validation Loss : 0.7760380909108279 *****_______\n",
            "Epoch: _________*****17 Validation Accuracy. 0.9660087719298246 *****_______\n",
            "\n",
            "\n",
            "Epoch: _________*****18*****_______\n",
            "Epoch: _________*****18 Training Loss : 0.7556291354302505 *****_______\n",
            "Epoch: _________*****18 Training Accuracy: 0.9922045951859956 *****_______\n",
            "Epoch: _________*****18 Validation Loss : 0.7760991558694003 *****_______\n",
            "Epoch: _________*****18 Validation Accuracy. 0.9665570175438597 *****_______\n",
            "\n",
            "\n",
            "Epoch: _________*****19*****_______\n",
            "Epoch: _________*****19 Training Loss : 0.7548593920482327 *****_______\n",
            "Epoch: _________*****19 Training Accuracy: 0.9822210065645515 *****_______\n",
            "Epoch: _________*****19 Validation Loss : 0.7845181488154227 *****_______\n",
            "Epoch: _________*****19 Validation Accuracy. 0.9583333333333334 *****_______\n",
            "\n",
            "\n"
          ]
        }
      ]
    },
    {
      "cell_type": "code",
      "source": [
        "torch.save(model.to('cpu').state_dict(), '/content/maize.pth')"
      ],
      "metadata": {
        "id": "tvw4nHr77LvZ"
      },
      "execution_count": 49,
      "outputs": []
    },
    {
      "cell_type": "code",
      "source": [
        "transforms = T.Compose(\n",
        "        [T.ToTensor(),\n",
        "        T.Normalize(mean=[0.485,\n",
        "           0.456, 0.406],std=[0.229, 0.224, 0.225])]\n",
        "        )\n",
        "\n",
        "    \n",
        "def read_transform(img):\n",
        "        f = img\n",
        "        im = cv2.imread(f)\n",
        "        im = cv2.resize(im, (224,224))\n",
        "        im = transforms(im)\n",
        "        return torch.tensor(im,dtype=torch.float).to(device)\n",
        "\n",
        "def get_model(no_classes):\n",
        "    model = torchvision.models.vgg16(pretrained=True)\n",
        "    for param in model.features.parameters():\n",
        "                   param.requires_grad = False\n",
        "    model.avgpool = model.avgpool = nn.AdaptiveAvgPool2d(output_size=(1,1))\n",
        "    model.classifier = nn.Sequential(nn.Flatten(),\n",
        "                                   nn.Linear(512, 128),\n",
        "                                   nn.ReLU(),\n",
        "                                   nn.Dropout(0.2),\n",
        "                                   nn.Linear(128, no_classes),\n",
        "                                   nn.Sigmoid())\n",
        "\n",
        "    return model.to(device)\n",
        "\n",
        "def load_model(model_path, classes):\n",
        "  model = get_model(classes)\n",
        "  state_dict = torch.load(model_path)\n",
        "  return model,state_dict"
      ],
      "metadata": {
        "id": "bO_Lg0ReGth-"
      },
      "execution_count": 50,
      "outputs": []
    },
    {
      "cell_type": "code",
      "source": [
        "def predict(image, crop):\n",
        "  img = read_transform(image)\n",
        "  img = img.to(device)\n",
        "  model, state_dict = load_model('/content/maize.pth', 4)\n",
        "  model.load_state_dict(state_dict)\n",
        "  output = model(img.unsqueeze_(0))\n",
        "  pred, conf = output.max(-1)\n",
        "  \n",
        "  return conf.item(), pred"
      ],
      "metadata": {
        "id": "pVwy65IoFyIK"
      },
      "execution_count": 51,
      "outputs": []
    },
    {
      "cell_type": "code",
      "source": [
        "predict('/content/Cercospora_leaf_spot Gray_leaf_spot.png', 'rice')"
      ],
      "metadata": {
        "colab": {
          "base_uri": "https://localhost:8080/"
        },
        "id": "xMFpzzkPHTsY",
        "outputId": "6390b423-ebc1-437c-af8d-3e2b19fdcf5e"
      },
      "execution_count": 52,
      "outputs": [
        {
          "output_type": "stream",
          "name": "stderr",
          "text": [
            "<ipython-input-50-8f7dfe928870>:13: UserWarning: To copy construct from a tensor, it is recommended to use sourceTensor.clone().detach() or sourceTensor.clone().detach().requires_grad_(True), rather than torch.tensor(sourceTensor).\n",
            "  return torch.tensor(im,dtype=torch.float).to(device)\n"
          ]
        },
        {
          "output_type": "execute_result",
          "data": {
            "text/plain": [
              "(0, tensor([1.0000], device='cuda:0', grad_fn=<MaxBackward0>))"
            ]
          },
          "metadata": {},
          "execution_count": 52
        }
      ]
    },
    {
      "cell_type": "code",
      "source": [
        "predict('/content/common rust.jpeg', 'rice')"
      ],
      "metadata": {
        "id": "j_kqglMeIGDr",
        "colab": {
          "base_uri": "https://localhost:8080/"
        },
        "outputId": "f320d03f-23fc-466a-9330-bd2ea7b8d788"
      },
      "execution_count": 54,
      "outputs": [
        {
          "output_type": "stream",
          "name": "stderr",
          "text": [
            "<ipython-input-50-8f7dfe928870>:13: UserWarning: To copy construct from a tensor, it is recommended to use sourceTensor.clone().detach() or sourceTensor.clone().detach().requires_grad_(True), rather than torch.tensor(sourceTensor).\n",
            "  return torch.tensor(im,dtype=torch.float).to(device)\n"
          ]
        },
        {
          "output_type": "execute_result",
          "data": {
            "text/plain": [
              "(1, tensor([0.9906], device='cuda:0', grad_fn=<MaxBackward0>))"
            ]
          },
          "metadata": {},
          "execution_count": 54
        }
      ]
    },
    {
      "cell_type": "code",
      "source": [
        "predict('/content/healthy maize.jpeg', 'rice')"
      ],
      "metadata": {
        "colab": {
          "base_uri": "https://localhost:8080/"
        },
        "id": "KfYPFIcFXkt6",
        "outputId": "e6345820-ae85-4b52-ad85-0b151352913f"
      },
      "execution_count": 55,
      "outputs": [
        {
          "output_type": "stream",
          "name": "stderr",
          "text": [
            "<ipython-input-50-8f7dfe928870>:13: UserWarning: To copy construct from a tensor, it is recommended to use sourceTensor.clone().detach() or sourceTensor.clone().detach().requires_grad_(True), rather than torch.tensor(sourceTensor).\n",
            "  return torch.tensor(im,dtype=torch.float).to(device)\n"
          ]
        },
        {
          "output_type": "execute_result",
          "data": {
            "text/plain": [
              "(3, tensor([1.], device='cuda:0', grad_fn=<MaxBackward0>))"
            ]
          },
          "metadata": {},
          "execution_count": 55
        }
      ]
    },
    {
      "cell_type": "code",
      "source": [],
      "metadata": {
        "id": "Rh6CQdnqYIEG"
      },
      "execution_count": null,
      "outputs": []
    }
  ]
}