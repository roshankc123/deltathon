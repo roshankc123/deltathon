{
  "nbformat": 4,
  "nbformat_minor": 0,
  "metadata": {
    "colab": {
      "provenance": []
    },
    "kernelspec": {
      "name": "python3",
      "display_name": "Python 3"
    },
    "language_info": {
      "name": "python"
    },
    "accelerator": "GPU",
    "gpuClass": "standard",
    "widgets": {
      "application/vnd.jupyter.widget-state+json": {
        "957a1e648e1e4442b98535176be8ec7f": {
          "model_module": "@jupyter-widgets/controls",
          "model_name": "HBoxModel",
          "model_module_version": "1.5.0",
          "state": {
            "_dom_classes": [],
            "_model_module": "@jupyter-widgets/controls",
            "_model_module_version": "1.5.0",
            "_model_name": "HBoxModel",
            "_view_count": null,
            "_view_module": "@jupyter-widgets/controls",
            "_view_module_version": "1.5.0",
            "_view_name": "HBoxView",
            "box_style": "",
            "children": [
              "IPY_MODEL_e78f5de7fc9b4267b423054950a9f84e",
              "IPY_MODEL_ced460bbef234a34a75a3611fc9c323b",
              "IPY_MODEL_7d90b313889449feb6f80d291041868d"
            ],
            "layout": "IPY_MODEL_c78d78eaca0c47a4bec376db2a5f4ab7"
          }
        },
        "e78f5de7fc9b4267b423054950a9f84e": {
          "model_module": "@jupyter-widgets/controls",
          "model_name": "HTMLModel",
          "model_module_version": "1.5.0",
          "state": {
            "_dom_classes": [],
            "_model_module": "@jupyter-widgets/controls",
            "_model_module_version": "1.5.0",
            "_model_name": "HTMLModel",
            "_view_count": null,
            "_view_module": "@jupyter-widgets/controls",
            "_view_module_version": "1.5.0",
            "_view_name": "HTMLView",
            "description": "",
            "description_tooltip": null,
            "layout": "IPY_MODEL_c175fb815d1242ad98bfccb97ab3a60d",
            "placeholder": "​",
            "style": "IPY_MODEL_0adb9d9d50004e21aef10f4d30b66241",
            "value": "100%"
          }
        },
        "ced460bbef234a34a75a3611fc9c323b": {
          "model_module": "@jupyter-widgets/controls",
          "model_name": "FloatProgressModel",
          "model_module_version": "1.5.0",
          "state": {
            "_dom_classes": [],
            "_model_module": "@jupyter-widgets/controls",
            "_model_module_version": "1.5.0",
            "_model_name": "FloatProgressModel",
            "_view_count": null,
            "_view_module": "@jupyter-widgets/controls",
            "_view_module_version": "1.5.0",
            "_view_name": "ProgressView",
            "bar_style": "success",
            "description": "",
            "description_tooltip": null,
            "layout": "IPY_MODEL_2ee9d0deafc94f3baa869e40412160e8",
            "max": 553433881,
            "min": 0,
            "orientation": "horizontal",
            "style": "IPY_MODEL_a55ba05cba744d81b7bd9f79acbb4888",
            "value": 553433881
          }
        },
        "7d90b313889449feb6f80d291041868d": {
          "model_module": "@jupyter-widgets/controls",
          "model_name": "HTMLModel",
          "model_module_version": "1.5.0",
          "state": {
            "_dom_classes": [],
            "_model_module": "@jupyter-widgets/controls",
            "_model_module_version": "1.5.0",
            "_model_name": "HTMLModel",
            "_view_count": null,
            "_view_module": "@jupyter-widgets/controls",
            "_view_module_version": "1.5.0",
            "_view_name": "HTMLView",
            "description": "",
            "description_tooltip": null,
            "layout": "IPY_MODEL_52fb52715f2b4ca1b5c80130eeba7e8a",
            "placeholder": "​",
            "style": "IPY_MODEL_e769a650e6ab4d4ba78c96fd29ddf1a3",
            "value": " 528M/528M [00:02&lt;00:00, 228MB/s]"
          }
        },
        "c78d78eaca0c47a4bec376db2a5f4ab7": {
          "model_module": "@jupyter-widgets/base",
          "model_name": "LayoutModel",
          "model_module_version": "1.2.0",
          "state": {
            "_model_module": "@jupyter-widgets/base",
            "_model_module_version": "1.2.0",
            "_model_name": "LayoutModel",
            "_view_count": null,
            "_view_module": "@jupyter-widgets/base",
            "_view_module_version": "1.2.0",
            "_view_name": "LayoutView",
            "align_content": null,
            "align_items": null,
            "align_self": null,
            "border": null,
            "bottom": null,
            "display": null,
            "flex": null,
            "flex_flow": null,
            "grid_area": null,
            "grid_auto_columns": null,
            "grid_auto_flow": null,
            "grid_auto_rows": null,
            "grid_column": null,
            "grid_gap": null,
            "grid_row": null,
            "grid_template_areas": null,
            "grid_template_columns": null,
            "grid_template_rows": null,
            "height": null,
            "justify_content": null,
            "justify_items": null,
            "left": null,
            "margin": null,
            "max_height": null,
            "max_width": null,
            "min_height": null,
            "min_width": null,
            "object_fit": null,
            "object_position": null,
            "order": null,
            "overflow": null,
            "overflow_x": null,
            "overflow_y": null,
            "padding": null,
            "right": null,
            "top": null,
            "visibility": null,
            "width": null
          }
        },
        "c175fb815d1242ad98bfccb97ab3a60d": {
          "model_module": "@jupyter-widgets/base",
          "model_name": "LayoutModel",
          "model_module_version": "1.2.0",
          "state": {
            "_model_module": "@jupyter-widgets/base",
            "_model_module_version": "1.2.0",
            "_model_name": "LayoutModel",
            "_view_count": null,
            "_view_module": "@jupyter-widgets/base",
            "_view_module_version": "1.2.0",
            "_view_name": "LayoutView",
            "align_content": null,
            "align_items": null,
            "align_self": null,
            "border": null,
            "bottom": null,
            "display": null,
            "flex": null,
            "flex_flow": null,
            "grid_area": null,
            "grid_auto_columns": null,
            "grid_auto_flow": null,
            "grid_auto_rows": null,
            "grid_column": null,
            "grid_gap": null,
            "grid_row": null,
            "grid_template_areas": null,
            "grid_template_columns": null,
            "grid_template_rows": null,
            "height": null,
            "justify_content": null,
            "justify_items": null,
            "left": null,
            "margin": null,
            "max_height": null,
            "max_width": null,
            "min_height": null,
            "min_width": null,
            "object_fit": null,
            "object_position": null,
            "order": null,
            "overflow": null,
            "overflow_x": null,
            "overflow_y": null,
            "padding": null,
            "right": null,
            "top": null,
            "visibility": null,
            "width": null
          }
        },
        "0adb9d9d50004e21aef10f4d30b66241": {
          "model_module": "@jupyter-widgets/controls",
          "model_name": "DescriptionStyleModel",
          "model_module_version": "1.5.0",
          "state": {
            "_model_module": "@jupyter-widgets/controls",
            "_model_module_version": "1.5.0",
            "_model_name": "DescriptionStyleModel",
            "_view_count": null,
            "_view_module": "@jupyter-widgets/base",
            "_view_module_version": "1.2.0",
            "_view_name": "StyleView",
            "description_width": ""
          }
        },
        "2ee9d0deafc94f3baa869e40412160e8": {
          "model_module": "@jupyter-widgets/base",
          "model_name": "LayoutModel",
          "model_module_version": "1.2.0",
          "state": {
            "_model_module": "@jupyter-widgets/base",
            "_model_module_version": "1.2.0",
            "_model_name": "LayoutModel",
            "_view_count": null,
            "_view_module": "@jupyter-widgets/base",
            "_view_module_version": "1.2.0",
            "_view_name": "LayoutView",
            "align_content": null,
            "align_items": null,
            "align_self": null,
            "border": null,
            "bottom": null,
            "display": null,
            "flex": null,
            "flex_flow": null,
            "grid_area": null,
            "grid_auto_columns": null,
            "grid_auto_flow": null,
            "grid_auto_rows": null,
            "grid_column": null,
            "grid_gap": null,
            "grid_row": null,
            "grid_template_areas": null,
            "grid_template_columns": null,
            "grid_template_rows": null,
            "height": null,
            "justify_content": null,
            "justify_items": null,
            "left": null,
            "margin": null,
            "max_height": null,
            "max_width": null,
            "min_height": null,
            "min_width": null,
            "object_fit": null,
            "object_position": null,
            "order": null,
            "overflow": null,
            "overflow_x": null,
            "overflow_y": null,
            "padding": null,
            "right": null,
            "top": null,
            "visibility": null,
            "width": null
          }
        },
        "a55ba05cba744d81b7bd9f79acbb4888": {
          "model_module": "@jupyter-widgets/controls",
          "model_name": "ProgressStyleModel",
          "model_module_version": "1.5.0",
          "state": {
            "_model_module": "@jupyter-widgets/controls",
            "_model_module_version": "1.5.0",
            "_model_name": "ProgressStyleModel",
            "_view_count": null,
            "_view_module": "@jupyter-widgets/base",
            "_view_module_version": "1.2.0",
            "_view_name": "StyleView",
            "bar_color": null,
            "description_width": ""
          }
        },
        "52fb52715f2b4ca1b5c80130eeba7e8a": {
          "model_module": "@jupyter-widgets/base",
          "model_name": "LayoutModel",
          "model_module_version": "1.2.0",
          "state": {
            "_model_module": "@jupyter-widgets/base",
            "_model_module_version": "1.2.0",
            "_model_name": "LayoutModel",
            "_view_count": null,
            "_view_module": "@jupyter-widgets/base",
            "_view_module_version": "1.2.0",
            "_view_name": "LayoutView",
            "align_content": null,
            "align_items": null,
            "align_self": null,
            "border": null,
            "bottom": null,
            "display": null,
            "flex": null,
            "flex_flow": null,
            "grid_area": null,
            "grid_auto_columns": null,
            "grid_auto_flow": null,
            "grid_auto_rows": null,
            "grid_column": null,
            "grid_gap": null,
            "grid_row": null,
            "grid_template_areas": null,
            "grid_template_columns": null,
            "grid_template_rows": null,
            "height": null,
            "justify_content": null,
            "justify_items": null,
            "left": null,
            "margin": null,
            "max_height": null,
            "max_width": null,
            "min_height": null,
            "min_width": null,
            "object_fit": null,
            "object_position": null,
            "order": null,
            "overflow": null,
            "overflow_x": null,
            "overflow_y": null,
            "padding": null,
            "right": null,
            "top": null,
            "visibility": null,
            "width": null
          }
        },
        "e769a650e6ab4d4ba78c96fd29ddf1a3": {
          "model_module": "@jupyter-widgets/controls",
          "model_name": "DescriptionStyleModel",
          "model_module_version": "1.5.0",
          "state": {
            "_model_module": "@jupyter-widgets/controls",
            "_model_module_version": "1.5.0",
            "_model_name": "DescriptionStyleModel",
            "_view_count": null,
            "_view_module": "@jupyter-widgets/base",
            "_view_module_version": "1.2.0",
            "_view_name": "StyleView",
            "description_width": ""
          }
        }
      }
    }
  },
  "cells": [
    {
      "cell_type": "code",
      "execution_count": 1,
      "metadata": {
        "colab": {
          "base_uri": "https://localhost:8080/"
        },
        "id": "QpetB9MVpIpy",
        "outputId": "a4db7340-9d91-4968-d626-c0e106368ce9"
      },
      "outputs": [
        {
          "output_type": "stream",
          "name": "stdout",
          "text": [
            "Looking in indexes: https://pypi.org/simple, https://us-python.pkg.dev/colab-wheels/public/simple/\n",
            "Requirement already satisfied: kaggle in /usr/local/lib/python3.8/dist-packages (1.5.12)\n",
            "Requirement already satisfied: python-dateutil in /usr/local/lib/python3.8/dist-packages (from kaggle) (2.8.2)\n",
            "Requirement already satisfied: certifi in /usr/local/lib/python3.8/dist-packages (from kaggle) (2022.12.7)\n",
            "Requirement already satisfied: requests in /usr/local/lib/python3.8/dist-packages (from kaggle) (2.25.1)\n",
            "Requirement already satisfied: python-slugify in /usr/local/lib/python3.8/dist-packages (from kaggle) (7.0.0)\n",
            "Requirement already satisfied: tqdm in /usr/local/lib/python3.8/dist-packages (from kaggle) (4.64.1)\n",
            "Requirement already satisfied: six>=1.10 in /usr/local/lib/python3.8/dist-packages (from kaggle) (1.15.0)\n",
            "Requirement already satisfied: urllib3 in /usr/local/lib/python3.8/dist-packages (from kaggle) (1.24.3)\n",
            "Requirement already satisfied: text-unidecode>=1.3 in /usr/local/lib/python3.8/dist-packages (from python-slugify->kaggle) (1.3)\n",
            "Requirement already satisfied: chardet<5,>=3.0.2 in /usr/local/lib/python3.8/dist-packages (from requests->kaggle) (4.0.0)\n",
            "Requirement already satisfied: idna<3,>=2.5 in /usr/local/lib/python3.8/dist-packages (from requests->kaggle) (2.10)\n"
          ]
        }
      ],
      "source": [
        "!pip install kaggle"
      ]
    },
    {
      "cell_type": "code",
      "source": [
        "\n",
        "from google.colab import files\n",
        "files.upload()"
      ],
      "metadata": {
        "id": "LuevozmHpQWP"
      },
      "execution_count": null,
      "outputs": []
    },
    {
      "cell_type": "code",
      "source": [
        "!mkdir ~/.kaggle\n",
        "!cp kaggle.json ~/.kaggle\n",
        "!chmod 600 ~/.kaggle/kaggle.json"
      ],
      "metadata": {
        "id": "72aw8ZmspY6r"
      },
      "execution_count": 4,
      "outputs": []
    },
    {
      "cell_type": "code",
      "source": [
        "!kaggle datasets download -d vipoooool/new-plant-diseases-dataset"
      ],
      "metadata": {
        "colab": {
          "base_uri": "https://localhost:8080/"
        },
        "id": "7OdFpz9xrKN5",
        "outputId": "3117bc2d-17f8-4505-80ea-df948057aa1f"
      },
      "execution_count": 5,
      "outputs": [
        {
          "output_type": "stream",
          "name": "stdout",
          "text": [
            "Downloading new-plant-diseases-dataset.zip to /content\n",
            "100% 2.70G/2.70G [01:59<00:00, 24.3MB/s]\n",
            "100% 2.70G/2.70G [01:59<00:00, 24.2MB/s]\n"
          ]
        }
      ]
    },
    {
      "cell_type": "code",
      "source": [
        "%%capture\n",
        "!unzip new-plant-diseases-dataset.zip"
      ],
      "metadata": {
        "id": "-9tSpGbQsgo6"
      },
      "execution_count": 6,
      "outputs": []
    },
    {
      "cell_type": "code",
      "source": [
        "#import of the libraries\n",
        "import os\n",
        "import numpy as np\n",
        "import matplotlib.pyplot as plt\n",
        "import pandas as pd\n",
        "import glob\n",
        "import cv2"
      ],
      "metadata": {
        "id": "5xyJpDBhtnay"
      },
      "execution_count": 7,
      "outputs": []
    },
    {
      "cell_type": "code",
      "source": [
        "plants = ['Apple', 'Maize', 'Potato']"
      ],
      "metadata": {
        "id": "PSJzPYJKt36i"
      },
      "execution_count": 8,
      "outputs": []
    },
    {
      "cell_type": "code",
      "source": [
        "diseases = []"
      ],
      "metadata": {
        "id": "Xz1Z5KhbuTdh"
      },
      "execution_count": 9,
      "outputs": []
    },
    {
      "cell_type": "code",
      "source": [
        "trn_path = '/content/New Plant Diseases Dataset(Augmented)/New Plant Diseases Dataset(Augmented)/train'\n",
        "for i in os.listdir(trn_path):\n",
        "  if i.split('__')[0] == 'Apple':\n",
        "    diseases.append(i)"
      ],
      "metadata": {
        "id": "0xNfav2SsoGl"
      },
      "execution_count": 10,
      "outputs": []
    },
    {
      "cell_type": "code",
      "source": [
        "diseases"
      ],
      "metadata": {
        "colab": {
          "base_uri": "https://localhost:8080/"
        },
        "id": "yvdjJe_5t2MF",
        "outputId": "32bfcaf4-b667-4d1f-d865-255e935dd7fb"
      },
      "execution_count": 11,
      "outputs": [
        {
          "output_type": "execute_result",
          "data": {
            "text/plain": [
              "['Apple___Cedar_apple_rust',\n",
              " 'Apple___healthy',\n",
              " 'Apple___Black_rot',\n",
              " 'Apple___Apple_scab']"
            ]
          },
          "metadata": {},
          "execution_count": 11
        }
      ]
    },
    {
      "cell_type": "code",
      "source": [
        "path = []\n",
        "labels  = []\n",
        "for dis in diseases:\n",
        "  for i in os.listdir(os.path.join(trn_path, dis)):\n",
        "    path.append(trn_path+'/'+dis+'/'+i)\n",
        "    labels.append(dis)\n",
        "df = pd.DataFrame(zip(path, labels)) "
      ],
      "metadata": {
        "id": "LzbeXOhKuZTw"
      },
      "execution_count": 12,
      "outputs": []
    },
    {
      "cell_type": "code",
      "source": [
        "df.columns = ['path', 'label']"
      ],
      "metadata": {
        "id": "Nx3klAGFwfoN"
      },
      "execution_count": 13,
      "outputs": []
    },
    {
      "cell_type": "code",
      "source": [
        "plt.imshow(cv2.imread('/content/New Plant Diseases Dataset(Augmented)/New Plant Diseases Dataset(Augmented)/train/Apple___Black_rot/34eb19d8-32a9-4c9b-829f-d0ed705c5f03___JR_FrgE.S 3064_90deg.JPG'))"
      ],
      "metadata": {
        "colab": {
          "base_uri": "https://localhost:8080/",
          "height": 287
        },
        "id": "UJMdGCO_wBZz",
        "outputId": "05cde1cb-1681-4875-c54c-43789db600b9"
      },
      "execution_count": 14,
      "outputs": [
        {
          "output_type": "execute_result",
          "data": {
            "text/plain": [
              "<matplotlib.image.AxesImage at 0x7f843071d100>"
            ]
          },
          "metadata": {},
          "execution_count": 14
        },
        {
          "output_type": "display_data",
          "data": {
            "text/plain": [
              "<Figure size 432x288 with 1 Axes>"
            ],
            "image/png": "[encoded data removed]"
          },
          "metadata": {
            "needs_background": "light"
          }
        }
      ]
    },
    {
      "cell_type": "code",
      "source": [
        "valid_path = '/content/New Plant Diseases Dataset(Augmented)/New Plant Diseases Dataset(Augmented)/valid'"
      ],
      "metadata": {
        "id": "q3H3TpG5x3cL"
      },
      "execution_count": 15,
      "outputs": []
    },
    {
      "cell_type": "code",
      "source": [
        "for i in os.listdir(valid_path):\n",
        "  if i.split('__')[0] == 'Apple':\n",
        "    diseases.append(i)"
      ],
      "metadata": {
        "id": "GuwlB0zVx8s4"
      },
      "execution_count": 16,
      "outputs": []
    },
    {
      "cell_type": "code",
      "source": [
        "path = []\n",
        "labels  = []\n",
        "for dis in diseases:\n",
        "  for i in os.listdir(os.path.join(valid_path, dis)):\n",
        "    path.append(valid_path+'/'+dis+'/'+i)\n",
        "    labels.append(dis)\n",
        "df_test = pd.DataFrame(zip(path, labels)) "
      ],
      "metadata": {
        "id": "7xX0hNY5x8pw"
      },
      "execution_count": 17,
      "outputs": []
    },
    {
      "cell_type": "code",
      "source": [
        "df_test.columns = ['path', 'label']"
      ],
      "metadata": {
        "id": "DRcV1JGgyQRu"
      },
      "execution_count": 18,
      "outputs": []
    },
    {
      "cell_type": "code",
      "source": [
        "df_test.head()"
      ],
      "metadata": {
        "colab": {
          "base_uri": "https://localhost:8080/",
          "height": 206
        },
        "id": "NLZYThQ7x8nJ",
        "outputId": "bc96a941-fdad-49a6-9b1c-f0019ca5be44"
      },
      "execution_count": 19,
      "outputs": [
        {
          "output_type": "execute_result",
          "data": {
            "text/plain": [
              "                                                path                     label\n",
              "0  /content/New Plant Diseases Dataset(Augmented)...  Apple___Cedar_apple_rust\n",
              "1  /content/New Plant Diseases Dataset(Augmented)...  Apple___Cedar_apple_rust\n",
              "2  /content/New Plant Diseases Dataset(Augmented)...  Apple___Cedar_apple_rust\n",
              "3  /content/New Plant Diseases Dataset(Augmented)...  Apple___Cedar_apple_rust\n",
              "4  /content/New Plant Diseases Dataset(Augmented)...  Apple___Cedar_apple_rust"
            ],
            "text/html": [
              "\n",
              "  <div id=\"df-579e16f2-5855-4e36-9759-73380be5ec86\">\n",
              "    <div class=\"colab-df-container\">\n",
              "      <div>\n",
              "<style scoped>\n",
              "    .dataframe tbody tr th:only-of-type {\n",
              "        vertical-align: middle;\n",
              "    }\n",
              "\n",
              "    .dataframe tbody tr th {\n",
              "        vertical-align: top;\n",
              "    }\n",
              "\n",
              "    .dataframe thead th {\n",
              "        text-align: right;\n",
              "    }\n",
              "</style>\n",
              "<table border=\"1\" class=\"dataframe\">\n",
              "  <thead>\n",
              "    <tr style=\"text-align: right;\">\n",
              "      <th></th>\n",
              "      <th>path</th>\n",
              "      <th>label</th>\n",
              "    </tr>\n",
              "  </thead>\n",
              "  <tbody>\n",
              "    <tr>\n",
              "      <th>0</th>\n",
              "      <td>/content/New Plant Diseases Dataset(Augmented)...</td>\n",
              "      <td>Apple___Cedar_apple_rust</td>\n",
              "    </tr>\n",
              "    <tr>\n",
              "      <th>1</th>\n",
              "      <td>/content/New Plant Diseases Dataset(Augmented)...</td>\n",
              "      <td>Apple___Cedar_apple_rust</td>\n",
              "    </tr>\n",
              "    <tr>\n",
              "      <th>2</th>\n",
              "      <td>/content/New Plant Diseases Dataset(Augmented)...</td>\n",
              "      <td>Apple___Cedar_apple_rust</td>\n",
              "    </tr>\n",
              "    <tr>\n",
              "      <th>3</th>\n",
              "      <td>/content/New Plant Diseases Dataset(Augmented)...</td>\n",
              "      <td>Apple___Cedar_apple_rust</td>\n",
              "    </tr>\n",
              "    <tr>\n",
              "      <th>4</th>\n",
              "      <td>/content/New Plant Diseases Dataset(Augmented)...</td>\n",
              "      <td>Apple___Cedar_apple_rust</td>\n",
              "    </tr>\n",
              "  </tbody>\n",
              "</table>\n",
              "</div>\n",
              "      <button class=\"colab-df-convert\" onclick=\"convertToInteractive('df-579e16f2-5855-4e36-9759-73380be5ec86')\"\n",
              "              title=\"Convert this dataframe to an interactive table.\"\n",
              "              style=\"display:none;\">\n",
              "        \n",
              "  <svg xmlns=\"http://www.w3.org/2000/svg\" height=\"24px\"viewBox=\"0 0 24 24\"\n",
              "       width=\"24px\">\n",
              "    <path d=\"M0 0h24v24H0V0z\" fill=\"none\"/>\n",
              "    <path d=\"M18.56 5.44l.94 2.06.94-2.06 2.06-.94-2.06-.94-.94-2.06-.94 2.06-2.06.94zm-11 1L8.5 8.5l.94-2.06 2.06-.94-2.06-.94L8.5 2.5l-.94 2.06-2.06.94zm10 10l.94 2.06.94-2.06 2.06-.94-2.06-.94-.94-2.06-.94 2.06-2.06.94z\"/><path d=\"M17.41 7.96l-1.37-1.37c-.4-.4-.92-.59-1.43-.59-.52 0-1.04.2-1.43.59L10.3 9.45l-7.72 7.72c-.78.78-.78 2.05 0 2.83L4 21.41c.39.39.9.59 1.41.59.51 0 1.02-.2 1.41-.59l7.78-7.78 2.81-2.81c.8-.78.8-2.07 0-2.86zM5.41 20L4 18.59l7.72-7.72 1.47 1.35L5.41 20z\"/>\n",
              "  </svg>\n",
              "      </button>\n",
              "      \n",
              "  <style>\n",
              "    .colab-df-container {\n",
              "      display:flex;\n",
              "      flex-wrap:wrap;\n",
              "      gap: 12px;\n",
              "    }\n",
              "\n",
              "    .colab-df-convert {\n",
              "      background-color: #E8F0FE;\n",
              "      border: none;\n",
              "      border-radius: 50%;\n",
              "      cursor: pointer;\n",
              "      display: none;\n",
              "      fill: #1967D2;\n",
              "      height: 32px;\n",
              "      padding: 0 0 0 0;\n",
              "      width: 32px;\n",
              "    }\n",
              "\n",
              "    .colab-df-convert:hover {\n",
              "      background-color: #E2EBFA;\n",
              "      box-shadow: 0px 1px 2px rgba(60, 64, 67, 0.3), 0px 1px 3px 1px rgba(60, 64, 67, 0.15);\n",
              "      fill: #174EA6;\n",
              "    }\n",
              "\n",
              "    [theme=dark] .colab-df-convert {\n",
              "      background-color: #3B4455;\n",
              "      fill: #D2E3FC;\n",
              "    }\n",
              "\n",
              "    [theme=dark] .colab-df-convert:hover {\n",
              "      background-color: #434B5C;\n",
              "      box-shadow: 0px 1px 3px 1px rgba(0, 0, 0, 0.15);\n",
              "      filter: drop-shadow(0px 1px 2px rgba(0, 0, 0, 0.3));\n",
              "      fill: #FFFFFF;\n",
              "    }\n",
              "  </style>\n",
              "\n",
              "      <script>\n",
              "        const buttonEl =\n",
              "          document.querySelector('#df-579e16f2-5855-4e36-9759-73380be5ec86 button.colab-df-convert');\n",
              "        buttonEl.style.display =\n",
              "          google.colab.kernel.accessAllowed ? 'block' : 'none';\n",
              "\n",
              "        async function convertToInteractive(key) {\n",
              "          const element = document.querySelector('#df-579e16f2-5855-4e36-9759-73380be5ec86');\n",
              "          const dataTable =\n",
              "            await google.colab.kernel.invokeFunction('convertToInteractive',\n",
              "                                                     [key], {});\n",
              "          if (!dataTable) return;\n",
              "\n",
              "          const docLinkHtml = 'Like what you see? Visit the ' +\n",
              "            '<a target=\"_blank\" href=https://colab.research.google.com/notebooks/data_table.ipynb>data table notebook</a>'\n",
              "            + ' to learn more about interactive tables.';\n",
              "          element.innerHTML = '';\n",
              "          dataTable['output_type'] = 'display_data';\n",
              "          await google.colab.output.renderOutput(dataTable, element);\n",
              "          const docLink = document.createElement('div');\n",
              "          docLink.innerHTML = docLinkHtml;\n",
              "          element.appendChild(docLink);\n",
              "        }\n",
              "      </script>\n",
              "    </div>\n",
              "  </div>\n",
              "  "
            ]
          },
          "metadata": {},
          "execution_count": 19
        }
      ]
    },
    {
      "cell_type": "code",
      "source": [
        "df.head()"
      ],
      "metadata": {
        "colab": {
          "base_uri": "https://localhost:8080/",
          "height": 206
        },
        "id": "2e4X2qGQwU0b",
        "outputId": "51c27c9a-f22e-4bac-b496-1f07da600a6c"
      },
      "execution_count": 20,
      "outputs": [
        {
          "output_type": "execute_result",
          "data": {
            "text/plain": [
              "                                                path                     label\n",
              "0  /content/New Plant Diseases Dataset(Augmented)...  Apple___Cedar_apple_rust\n",
              "1  /content/New Plant Diseases Dataset(Augmented)...  Apple___Cedar_apple_rust\n",
              "2  /content/New Plant Diseases Dataset(Augmented)...  Apple___Cedar_apple_rust\n",
              "3  /content/New Plant Diseases Dataset(Augmented)...  Apple___Cedar_apple_rust\n",
              "4  /content/New Plant Diseases Dataset(Augmented)...  Apple___Cedar_apple_rust"
            ],
            "text/html": [
              "\n",
              "  <div id=\"df-1b308667-3c56-468c-87b2-f00cd3a12e45\">\n",
              "    <div class=\"colab-df-container\">\n",
              "      <div>\n",
              "<style scoped>\n",
              "    .dataframe tbody tr th:only-of-type {\n",
              "        vertical-align: middle;\n",
              "    }\n",
              "\n",
              "    .dataframe tbody tr th {\n",
              "        vertical-align: top;\n",
              "    }\n",
              "\n",
              "    .dataframe thead th {\n",
              "        text-align: right;\n",
              "    }\n",
              "</style>\n",
              "<table border=\"1\" class=\"dataframe\">\n",
              "  <thead>\n",
              "    <tr style=\"text-align: right;\">\n",
              "      <th></th>\n",
              "      <th>path</th>\n",
              "      <th>label</th>\n",
              "    </tr>\n",
              "  </thead>\n",
              "  <tbody>\n",
              "    <tr>\n",
              "      <th>0</th>\n",
              "      <td>/content/New Plant Diseases Dataset(Augmented)...</td>\n",
              "      <td>Apple___Cedar_apple_rust</td>\n",
              "    </tr>\n",
              "    <tr>\n",
              "      <th>1</th>\n",
              "      <td>/content/New Plant Diseases Dataset(Augmented)...</td>\n",
              "      <td>Apple___Cedar_apple_rust</td>\n",
              "    </tr>\n",
              "    <tr>\n",
              "      <th>2</th>\n",
              "      <td>/content/New Plant Diseases Dataset(Augmented)...</td>\n",
              "      <td>Apple___Cedar_apple_rust</td>\n",
              "    </tr>\n",
              "    <tr>\n",
              "      <th>3</th>\n",
              "      <td>/content/New Plant Diseases Dataset(Augmented)...</td>\n",
              "      <td>Apple___Cedar_apple_rust</td>\n",
              "    </tr>\n",
              "    <tr>\n",
              "      <th>4</th>\n",
              "      <td>/content/New Plant Diseases Dataset(Augmented)...</td>\n",
              "      <td>Apple___Cedar_apple_rust</td>\n",
              "    </tr>\n",
              "  </tbody>\n",
              "</table>\n",
              "</div>\n",
              "      <button class=\"colab-df-convert\" onclick=\"convertToInteractive('df-1b308667-3c56-468c-87b2-f00cd3a12e45')\"\n",
              "              title=\"Convert this dataframe to an interactive table.\"\n",
              "              style=\"display:none;\">\n",
              "        \n",
              "  <svg xmlns=\"http://www.w3.org/2000/svg\" height=\"24px\"viewBox=\"0 0 24 24\"\n",
              "       width=\"24px\">\n",
              "    <path d=\"M0 0h24v24H0V0z\" fill=\"none\"/>\n",
              "    <path d=\"M18.56 5.44l.94 2.06.94-2.06 2.06-.94-2.06-.94-.94-2.06-.94 2.06-2.06.94zm-11 1L8.5 8.5l.94-2.06 2.06-.94-2.06-.94L8.5 2.5l-.94 2.06-2.06.94zm10 10l.94 2.06.94-2.06 2.06-.94-2.06-.94-.94-2.06-.94 2.06-2.06.94z\"/><path d=\"M17.41 7.96l-1.37-1.37c-.4-.4-.92-.59-1.43-.59-.52 0-1.04.2-1.43.59L10.3 9.45l-7.72 7.72c-.78.78-.78 2.05 0 2.83L4 21.41c.39.39.9.59 1.41.59.51 0 1.02-.2 1.41-.59l7.78-7.78 2.81-2.81c.8-.78.8-2.07 0-2.86zM5.41 20L4 18.59l7.72-7.72 1.47 1.35L5.41 20z\"/>\n",
              "  </svg>\n",
              "      </button>\n",
              "      \n",
              "  <style>\n",
              "    .colab-df-container {\n",
              "      display:flex;\n",
              "      flex-wrap:wrap;\n",
              "      gap: 12px;\n",
              "    }\n",
              "\n",
              "    .colab-df-convert {\n",
              "      background-color: #E8F0FE;\n",
              "      border: none;\n",
              "      border-radius: 50%;\n",
              "      cursor: pointer;\n",
              "      display: none;\n",
              "      fill: #1967D2;\n",
              "      height: 32px;\n",
              "      padding: 0 0 0 0;\n",
              "      width: 32px;\n",
              "    }\n",
              "\n",
              "    .colab-df-convert:hover {\n",
              "      background-color: #E2EBFA;\n",
              "      box-shadow: 0px 1px 2px rgba(60, 64, 67, 0.3), 0px 1px 3px 1px rgba(60, 64, 67, 0.15);\n",
              "      fill: #174EA6;\n",
              "    }\n",
              "\n",
              "    [theme=dark] .colab-df-convert {\n",
              "      background-color: #3B4455;\n",
              "      fill: #D2E3FC;\n",
              "    }\n",
              "\n",
              "    [theme=dark] .colab-df-convert:hover {\n",
              "      background-color: #434B5C;\n",
              "      box-shadow: 0px 1px 3px 1px rgba(0, 0, 0, 0.15);\n",
              "      filter: drop-shadow(0px 1px 2px rgba(0, 0, 0, 0.3));\n",
              "      fill: #FFFFFF;\n",
              "    }\n",
              "  </style>\n",
              "\n",
              "      <script>\n",
              "        const buttonEl =\n",
              "          document.querySelector('#df-1b308667-3c56-468c-87b2-f00cd3a12e45 button.colab-df-convert');\n",
              "        buttonEl.style.display =\n",
              "          google.colab.kernel.accessAllowed ? 'block' : 'none';\n",
              "\n",
              "        async function convertToInteractive(key) {\n",
              "          const element = document.querySelector('#df-1b308667-3c56-468c-87b2-f00cd3a12e45');\n",
              "          const dataTable =\n",
              "            await google.colab.kernel.invokeFunction('convertToInteractive',\n",
              "                                                     [key], {});\n",
              "          if (!dataTable) return;\n",
              "\n",
              "          const docLinkHtml = 'Like what you see? Visit the ' +\n",
              "            '<a target=\"_blank\" href=https://colab.research.google.com/notebooks/data_table.ipynb>data table notebook</a>'\n",
              "            + ' to learn more about interactive tables.';\n",
              "          element.innerHTML = '';\n",
              "          dataTable['output_type'] = 'display_data';\n",
              "          await google.colab.output.renderOutput(dataTable, element);\n",
              "          const docLink = document.createElement('div');\n",
              "          docLink.innerHTML = docLinkHtml;\n",
              "          element.appendChild(docLink);\n",
              "        }\n",
              "      </script>\n",
              "    </div>\n",
              "  </div>\n",
              "  "
            ]
          },
          "metadata": {},
          "execution_count": 20
        }
      ]
    },
    {
      "cell_type": "code",
      "source": [
        "df.label.value_counts()"
      ],
      "metadata": {
        "colab": {
          "base_uri": "https://localhost:8080/"
        },
        "id": "822cq_u5wyzX",
        "outputId": "d533485b-d1b6-4a20-bc14-ccd7a9519aa4"
      },
      "execution_count": 21,
      "outputs": [
        {
          "output_type": "execute_result",
          "data": {
            "text/plain": [
              "Apple___Apple_scab          2016\n",
              "Apple___healthy             2008\n",
              "Apple___Black_rot           1987\n",
              "Apple___Cedar_apple_rust    1760\n",
              "Name: label, dtype: int64"
            ]
          },
          "metadata": {},
          "execution_count": 21
        }
      ]
    },
    {
      "cell_type": "code",
      "source": [
        "#import pytorch libraries\n",
        "import torchvision\n",
        "import torch\n",
        "from torch.utils.data import DataLoader, Dataset\n",
        "import torchvision.transforms as T\n",
        "import numpy as np\n",
        "from sklearn.preprocessing import LabelEncoder\n",
        "import torch.nn as nn\n",
        "from torchvision.models import vgg16\n",
        "from sklearn.model_selection import train_test_split\n",
        "import torch.nn.functional as Fun"
      ],
      "metadata": {
        "id": "rT_3D1Ndw4nx"
      },
      "execution_count": 22,
      "outputs": []
    },
    {
      "cell_type": "code",
      "source": [
        "lb = LabelEncoder()\n",
        "df_test.label =  lb.fit_transform(df_test.label)\n",
        "df.label =  lb.fit_transform(df.label)\n",
        "dict(zip(lb.classes_, lb.transform(lb.classes_)))"
      ],
      "metadata": {
        "colab": {
          "base_uri": "https://localhost:8080/"
        },
        "id": "39fcB61LxQ2P",
        "outputId": "f3c220a1-d1de-45d1-90ad-a4c1c34d859c"
      },
      "execution_count": 23,
      "outputs": [
        {
          "output_type": "execute_result",
          "data": {
            "text/plain": [
              "{'Apple___Apple_scab': 0,\n",
              " 'Apple___Black_rot': 1,\n",
              " 'Apple___Cedar_apple_rust': 2,\n",
              " 'Apple___healthy': 3}"
            ]
          },
          "metadata": {},
          "execution_count": 23
        }
      ]
    },
    {
      "cell_type": "code",
      "source": [
        "apple_classes = {'Apple___Apple_scab': 0,\n",
        " 'Apple___Black_rot': 1,\n",
        " 'Apple___Cedar_apple_rust': 2,\n",
        " 'Apple___healthy': 3}"
      ],
      "metadata": {
        "id": "dOJuEuz8xx8v"
      },
      "execution_count": 24,
      "outputs": []
    },
    {
      "cell_type": "code",
      "source": [
        "device = 'cuda' if torch.cuda.is_available() else 'cpu'\n",
        "print(device)"
      ],
      "metadata": {
        "colab": {
          "base_uri": "https://localhost:8080/"
        },
        "id": "ghYRsQg8yx6c",
        "outputId": "309afcfa-5883-4a6a-cbde-fa2d6fd31491"
      },
      "execution_count": 25,
      "outputs": [
        {
          "output_type": "stream",
          "name": "stdout",
          "text": [
            "cuda\n"
          ]
        }
      ]
    },
    {
      "cell_type": "code",
      "source": [
        "class AppleDataset(Dataset):\n",
        "    def __init__(self, df):\n",
        "        self.fpath = df.path\n",
        "        self.label = df.label\n",
        "        self.transforms = T.Compose(\n",
        "        [T.ToTensor(),\n",
        "        T.Normalize(mean=[0.485,\n",
        "           0.456, 0.406],std=[0.229, 0.224, 0.225])]\n",
        "        )\n",
        "    def __len__(self):\n",
        "        return len(self.fpath)\n",
        "    \n",
        "    def __getitem__(self,ix):\n",
        "        f = self.fpath[ix]\n",
        "        label = self.label[ix]\n",
        "        im = cv2.imread(f)\n",
        "        im = cv2.resize(im, (224,224))\n",
        "        # im = cv2.cvtColor(im, cv2.COLOR_BGR2RGB)\n",
        "        im = self.transforms(im)\n",
        "        \n",
        "        return torch.tensor(im,dtype=torch.float).to(device), torch.tensor(label, dtype=torch.float).long().to(device)\n",
        "        "
      ],
      "metadata": {
        "id": "PDnJJsJczFlA"
      },
      "execution_count": 27,
      "outputs": []
    },
    {
      "cell_type": "code",
      "source": [
        "def get_model():\n",
        "    model = torchvision.models.vgg16(pretrained=True)\n",
        "    for param in model.features.parameters():\n",
        "                   param.requires_grad = False\n",
        "    model.avgpool = model.avgpool = nn.AdaptiveAvgPool2d(output_size=(1,1))\n",
        "    model.classifier = nn.Sequential(nn.Flatten(),\n",
        "                                   nn.Linear(512, 128),\n",
        "                                   nn.ReLU(),\n",
        "                                   nn.Dropout(0.2),\n",
        "                                   nn.Linear(128, 4),\n",
        "                                   nn.Softmax())\n",
        "    model = model.to(device)\n",
        "    loss_fn = nn.CrossEntropyLoss()\n",
        "    optimizer = torch.optim.Adam(model.parameters(), lr=1e-3)\n",
        "    return model, loss_fn, optimizer"
      ],
      "metadata": {
        "id": "Zs-p5XnlzkZg"
      },
      "execution_count": 28,
      "outputs": []
    },
    {
      "cell_type": "code",
      "source": [
        "model, loss_fn, optimizer = get_model()\n",
        "from torchsummary import summary"
      ],
      "metadata": {
        "colab": {
          "base_uri": "https://localhost:8080/",
          "height": 158,
          "referenced_widgets": [
            "957a1e648e1e4442b98535176be8ec7f",
            "e78f5de7fc9b4267b423054950a9f84e",
            "ced460bbef234a34a75a3611fc9c323b",
            "7d90b313889449feb6f80d291041868d",
            "c78d78eaca0c47a4bec376db2a5f4ab7",
            "c175fb815d1242ad98bfccb97ab3a60d",
            "0adb9d9d50004e21aef10f4d30b66241",
            "2ee9d0deafc94f3baa869e40412160e8",
            "a55ba05cba744d81b7bd9f79acbb4888",
            "52fb52715f2b4ca1b5c80130eeba7e8a",
            "e769a650e6ab4d4ba78c96fd29ddf1a3"
          ]
        },
        "id": "sUJLVDaVzpLj",
        "outputId": "20785ec7-0d13-4abe-baf9-89921e716ce7"
      },
      "execution_count": 29,
      "outputs": [
        {
          "output_type": "stream",
          "name": "stderr",
          "text": [
            "/usr/local/lib/python3.8/dist-packages/torchvision/models/_utils.py:208: UserWarning: The parameter 'pretrained' is deprecated since 0.13 and may be removed in the future, please use 'weights' instead.\n",
            "  warnings.warn(\n",
            "/usr/local/lib/python3.8/dist-packages/torchvision/models/_utils.py:223: UserWarning: Arguments other than a weight enum or `None` for 'weights' are deprecated since 0.13 and may be removed in the future. The current behavior is equivalent to passing `weights=VGG16_Weights.IMAGENET1K_V1`. You can also use `weights=VGG16_Weights.DEFAULT` to get the most up-to-date weights.\n",
            "  warnings.warn(msg)\n",
            "Downloading: \"https://download.pytorch.org/models/vgg16-397923af.pth\" to /root/.cache/torch/hub/checkpoints/vgg16-397923af.pth\n"
          ]
        },
        {
          "output_type": "display_data",
          "data": {
            "text/plain": [
              "  0%|          | 0.00/528M [00:00<?, ?B/s]"
            ],
            "application/vnd.jupyter.widget-view+json": {
              "version_major": 2,
              "version_minor": 0,
              "model_id": "957a1e648e1e4442b98535176be8ec7f"
            }
          },
          "metadata": {}
        }
      ]
    },
    {
      "cell_type": "code",
      "source": [
        "model"
      ],
      "metadata": {
        "colab": {
          "base_uri": "https://localhost:8080/"
        },
        "id": "YFnMnYw_zsnH",
        "outputId": "8f45fb2c-0b17-49de-9027-c2077e9cc018"
      },
      "execution_count": 30,
      "outputs": [
        {
          "output_type": "execute_result",
          "data": {
            "text/plain": [
              "VGG(\n",
              "  (features): Sequential(\n",
              "    (0): Conv2d(3, 64, kernel_size=(3, 3), stride=(1, 1), padding=(1, 1))\n",
              "    (1): ReLU(inplace=True)\n",
              "    (2): Conv2d(64, 64, kernel_size=(3, 3), stride=(1, 1), padding=(1, 1))\n",
              "    (3): ReLU(inplace=True)\n",
              "    (4): MaxPool2d(kernel_size=2, stride=2, padding=0, dilation=1, ceil_mode=False)\n",
              "    (5): Conv2d(64, 128, kernel_size=(3, 3), stride=(1, 1), padding=(1, 1))\n",
              "    (6): ReLU(inplace=True)\n",
              "    (7): Conv2d(128, 128, kernel_size=(3, 3), stride=(1, 1), padding=(1, 1))\n",
              "    (8): ReLU(inplace=True)\n",
              "    (9): MaxPool2d(kernel_size=2, stride=2, padding=0, dilation=1, ceil_mode=False)\n",
              "    (10): Conv2d(128, 256, kernel_size=(3, 3), stride=(1, 1), padding=(1, 1))\n",
              "    (11): ReLU(inplace=True)\n",
              "    (12): Conv2d(256, 256, kernel_size=(3, 3), stride=(1, 1), padding=(1, 1))\n",
              "    (13): ReLU(inplace=True)\n",
              "    (14): Conv2d(256, 256, kernel_size=(3, 3), stride=(1, 1), padding=(1, 1))\n",
              "    (15): ReLU(inplace=True)\n",
              "    (16): MaxPool2d(kernel_size=2, stride=2, padding=0, dilation=1, ceil_mode=False)\n",
              "    (17): Conv2d(256, 512, kernel_size=(3, 3), stride=(1, 1), padding=(1, 1))\n",
              "    (18): ReLU(inplace=True)\n",
              "    (19): Conv2d(512, 512, kernel_size=(3, 3), stride=(1, 1), padding=(1, 1))\n",
              "    (20): ReLU(inplace=True)\n",
              "    (21): Conv2d(512, 512, kernel_size=(3, 3), stride=(1, 1), padding=(1, 1))\n",
              "    (22): ReLU(inplace=True)\n",
              "    (23): MaxPool2d(kernel_size=2, stride=2, padding=0, dilation=1, ceil_mode=False)\n",
              "    (24): Conv2d(512, 512, kernel_size=(3, 3), stride=(1, 1), padding=(1, 1))\n",
              "    (25): ReLU(inplace=True)\n",
              "    (26): Conv2d(512, 512, kernel_size=(3, 3), stride=(1, 1), padding=(1, 1))\n",
              "    (27): ReLU(inplace=True)\n",
              "    (28): Conv2d(512, 512, kernel_size=(3, 3), stride=(1, 1), padding=(1, 1))\n",
              "    (29): ReLU(inplace=True)\n",
              "    (30): MaxPool2d(kernel_size=2, stride=2, padding=0, dilation=1, ceil_mode=False)\n",
              "  )\n",
              "  (avgpool): AdaptiveAvgPool2d(output_size=(1, 1))\n",
              "  (classifier): Sequential(\n",
              "    (0): Flatten(start_dim=1, end_dim=-1)\n",
              "    (1): Linear(in_features=512, out_features=128, bias=True)\n",
              "    (2): ReLU()\n",
              "    (3): Dropout(p=0.2, inplace=False)\n",
              "    (4): Linear(in_features=128, out_features=4, bias=True)\n",
              "    (5): Softmax(dim=None)\n",
              "  )\n",
              ")"
            ]
          },
          "metadata": {},
          "execution_count": 30
        }
      ]
    },
    {
      "cell_type": "code",
      "source": [
        "def get_data():\n",
        "    train = AppleDataset(df)\n",
        "    test = AppleDataset(df_test)\n",
        "    trn_dl = DataLoader(train, batch_size=16,shuffle=True, drop_last=True)\n",
        "    test_dl = DataLoader(test, batch_size=16, shuffle=True, drop_last=True)\n",
        "    return trn_dl, test_dl"
      ],
      "metadata": {
        "id": "5EP6Cztd0fzv"
      },
      "execution_count": 31,
      "outputs": []
    },
    {
      "cell_type": "code",
      "source": [
        "def train_batch(x, y, model, loss_fn, opt):\n",
        "    model.train()\n",
        "    prediction = model(x)\n",
        "    batch_loss = loss_fn(prediction, y)\n",
        "    batch_loss.backward()\n",
        "    optimizer.step()\n",
        "    optimizer.zero_grad()\n",
        "    return batch_loss.item()"
      ],
      "metadata": {
        "id": "8Ts1NtgC0kOv"
      },
      "execution_count": 32,
      "outputs": []
    },
    {
      "cell_type": "code",
      "source": [
        "@torch.no_grad()\n",
        "def accuracy(x, y, model):\n",
        "    model.eval()\n",
        "    pred = model(x)\n",
        "    _, is_correct = torch.max(pred.data,1)\n",
        "    acc_all = (is_correct==y).detach().cpu().numpy()\n",
        "    return acc_all"
      ],
      "metadata": {
        "id": "TXBQpoN-0nuQ"
      },
      "execution_count": 33,
      "outputs": []
    },
    {
      "cell_type": "code",
      "source": [
        "@torch.no_grad()\n",
        "def val_loss_trn(x, y, model, loss_fn):\n",
        "  prediction = model(x)\n",
        "  val_loss = loss_fn(prediction, y)\n",
        "  return val_loss.item()"
      ],
      "metadata": {
        "id": "rzEXpUIe0qtW"
      },
      "execution_count": 34,
      "outputs": []
    },
    {
      "cell_type": "code",
      "source": [
        "trn_ldr, test_ldr = get_data()\n"
      ],
      "metadata": {
        "id": "ZF9SN0Hj0tmg"
      },
      "execution_count": 35,
      "outputs": []
    },
    {
      "cell_type": "code",
      "source": [
        "train_loss = []\n",
        "train_accuracies= []\n",
        "val_loss = [] \n",
        "val_accuracies = []\n",
        "\n",
        "for i in range(20):\n",
        "    print(f'Epoch: _________*****{i}*****_______')\n",
        "    train_epoch_losses, train_epoch_accuracies = [], []\n",
        "    val_epoch_accuracies, val_epoch_losses = [], []\n",
        "\n",
        "\n",
        "\n",
        "    for ix, batch in (enumerate(iter(trn_ldr))):\n",
        "        \n",
        "        x, y = batch\n",
        "        # x = x.permute(0, 3,1,2)\n",
        "        train_epoch_losses.append(train_batch(x, y, model, loss_fn, optimizer))\n",
        "    train_epoch_loss = np.array(train_epoch_losses).mean()\n",
        "    print(f'Epoch: _________*****{i} Training Loss : {train_epoch_loss} *****_______')\n",
        "\n",
        "\n",
        "\n",
        "    for ix, batch in (enumerate(iter(trn_ldr))):\n",
        "        x, y = batch\n",
        "        # x = x.permute(0, 3,1,2)\n",
        "        train_epoch_accuracies.append(sum(accuracy(x, y, model)) / len(y))\n",
        "    train_epoch_accuracy = np.array(train_epoch_accuracies).mean()\n",
        "    print(f'Epoch: _________*****{i} Training Accuracy: {train_epoch_accuracy} *****_______')\n",
        "\n",
        "\n",
        "    for ix, batch in (enumerate(iter(test_ldr))):\n",
        "        x, y = batch\n",
        "        # x = x.permute(0, 3,1,2)\n",
        "        val_epoch_losses.append(val_loss_trn(x, y, model, loss_fn))\n",
        "    val_epoch_loss = np.array(val_epoch_losses).mean()\n",
        "    print(f'Epoch: _________*****{i} Validation Loss : {val_epoch_loss} *****_______')\n",
        "\n",
        "    for ix, batch in (enumerate(iter(test_ldr))):\n",
        "        x, y = batch\n",
        "        # x = x.permute(0, 3,1,2)\n",
        "        val_epoch_accuracies.append(sum(accuracy(x, y, model)) / len(y))\n",
        "    val_epoch_accuracy = np.array(val_epoch_accuracies).mean()\n",
        "    print(f'Epoch: _________*****{i} Validation Accuracy. {val_epoch_accuracy} *****_______')\n",
        "    print('\\n')\n",
        "\n",
        "    train_loss.append(train_epoch_loss)\n",
        "    train_accuracies.append(train_epoch_accuracy)\n",
        "    val_accuracies.append(val_epoch_accuracy)\n",
        "    val_loss.append(val_epoch_loss)"
      ],
      "metadata": {
        "colab": {
          "base_uri": "https://localhost:8080/"
        },
        "id": "ktjZdrK80wJf",
        "outputId": "99afbbb2-cc53-4624-caa0-8f07935672f2"
      },
      "execution_count": 36,
      "outputs": [
        {
          "metadata": {
            "tags": null
          },
          "name": "stdout",
          "output_type": "stream",
          "text": [
            "Epoch: _________*****0*****_______\n"
          ]
        },
        {
          "metadata": {
            "tags": null
          },
          "name": "stderr",
          "output_type": "stream",
          "text": [
            "<ipython-input-27-5f806dc5cb14>:21: UserWarning: To copy construct from a tensor, it is recommended to use sourceTensor.clone().detach() or sourceTensor.clone().detach().requires_grad_(True), rather than torch.tensor(sourceTensor).\n",
            "  return torch.tensor(im,dtype=torch.float).to(device), torch.tensor(label, dtype=torch.float).long().to(device)\n",
            "/usr/local/lib/python3.8/dist-packages/torch/nn/modules/container.py:204: UserWarning: Implicit dimension choice for softmax has been deprecated. Change the call to include dim=X as an argument.\n",
            "  input = module(input)\n"
          ]
        },
        {
          "output_type": "stream",
          "name": "stdout",
          "text": [
            "Epoch: _________*****0 Training Loss : 0.8741188636760122 *****_______\n",
            "Epoch: _________*****0 Training Accuracy: 0.9853092783505155 *****_______\n",
            "Epoch: _________*****0 Validation Loss : 0.778508445940727 *****_______\n",
            "Epoch: _________*****0 Validation Accuracy. 0.9772727272727273 *****_______\n",
            "\n",
            "\n",
            "Epoch: _________*****1*****_______\n",
            "Epoch: _________*****1 Training Loss : 0.7710884025416423 *****_______\n",
            "Epoch: _________*****1 Training Accuracy: 0.9903350515463918 *****_______\n",
            "Epoch: _________*****1 Validation Loss : 0.7674583487274232 *****_______\n",
            "Epoch: _________*****1 Validation Accuracy. 0.9834710743801653 *****_______\n",
            "\n",
            "\n",
            "Epoch: _________*****2*****_______\n",
            "Epoch: _________*****2 Training Loss : 0.7621258337473132 *****_______\n",
            "Epoch: _________*****2 Training Accuracy: 0.9929123711340206 *****_______\n",
            "Epoch: _________*****2 Validation Loss : 0.764987978068265 *****_______\n",
            "Epoch: _________*****2 Validation Accuracy. 0.9819214876033058 *****_______\n",
            "\n",
            "\n",
            "Epoch: _________*****3*****_______\n",
            "Epoch: _________*****3 Training Loss : 0.7569549742433214 *****_______\n",
            "Epoch: _________*****3 Training Accuracy: 0.9927835051546392 *****_______\n",
            "Epoch: _________*****3 Validation Loss : 0.7627792900258844 *****_______\n",
            "Epoch: _________*****3 Validation Accuracy. 0.984504132231405 *****_______\n",
            "\n",
            "\n",
            "Epoch: _________*****4*****_______\n",
            "Epoch: _________*****4 Training Loss : 0.7558345852438937 *****_______\n",
            "Epoch: _________*****4 Training Accuracy: 0.9960051546391753 *****_______\n",
            "Epoch: _________*****4 Validation Loss : 0.7566052273777891 *****_______\n",
            "Epoch: _________*****4 Validation Accuracy. 0.9901859504132231 *****_______\n",
            "\n",
            "\n",
            "Epoch: _________*****5*****_______\n",
            "Epoch: _________*****5 Training Loss : 0.751959392336226 *****_______\n",
            "Epoch: _________*****5 Training Accuracy: 0.9947164948453608 *****_______\n",
            "Epoch: _________*****5 Validation Loss : 0.7580268745087395 *****_______\n",
            "Epoch: _________*****5 Validation Accuracy. 0.9860537190082644 *****_______\n",
            "\n",
            "\n",
            "Epoch: _________*****6*****_______\n",
            "Epoch: _________*****6 Training Loss : 0.7519794938490563 *****_______\n",
            "Epoch: _________*****6 Training Accuracy: 0.997680412371134 *****_______\n",
            "Epoch: _________*****6 Validation Loss : 0.7562776853230374 *****_______\n",
            "Epoch: _________*****6 Validation Accuracy. 0.9896694214876033 *****_______\n",
            "\n",
            "\n",
            "Epoch: _________*****7*****_______\n",
            "Epoch: _________*****7 Training Loss : 0.750061831769255 *****_______\n",
            "Epoch: _________*****7 Training Accuracy: 0.9963917525773196 *****_______\n",
            "Epoch: _________*****7 Validation Loss : 0.7580679733891132 *****_______\n",
            "Epoch: _________*****7 Validation Accuracy. 0.9860537190082644 *****_______\n",
            "\n",
            "\n",
            "Epoch: _________*****8*****_______\n",
            "Epoch: _________*****8 Training Loss : 0.7493433245678538 *****_______\n",
            "Epoch: _________*****8 Training Accuracy: 0.997680412371134 *****_______\n",
            "Epoch: _________*****8 Validation Loss : 0.7545506806413004 *****_______\n",
            "Epoch: _________*****8 Validation Accuracy. 0.9896694214876033 *****_______\n",
            "\n",
            "\n",
            "Epoch: _________*****9*****_______\n",
            "Epoch: _________*****9 Training Loss : 0.7483435566892329 *****_______\n",
            "Epoch: _________*****9 Training Accuracy: 0.9979381443298969 *****_______\n",
            "Epoch: _________*****9 Validation Loss : 0.7549447951730618 *****_______\n",
            "Epoch: _________*****9 Validation Accuracy. 0.9891528925619835 *****_______\n",
            "\n",
            "\n",
            "Epoch: _________*****10*****_______\n",
            "Epoch: _________*****10 Training Loss : 0.7489069249212127 *****_______\n",
            "Epoch: _________*****10 Training Accuracy: 0.9987113402061856 *****_______\n",
            "Epoch: _________*****10 Validation Loss : 0.7548544574374995 *****_______\n",
            "Epoch: _________*****10 Validation Accuracy. 0.9894111570247934 *****_______\n",
            "\n",
            "\n",
            "Epoch: _________*****11*****_______\n",
            "Epoch: _________*****11 Training Loss : 0.7479799930582341 *****_______\n",
            "Epoch: _________*****11 Training Accuracy: 0.9983247422680412 *****_______\n",
            "Epoch: _________*****11 Validation Loss : 0.7556816837019171 *****_______\n",
            "Epoch: _________*****11 Validation Accuracy. 0.9901859504132231 *****_______\n",
            "\n",
            "\n",
            "Epoch: _________*****12*****_______\n",
            "Epoch: _________*****12 Training Loss : 0.7471195946034697 *****_______\n",
            "Epoch: _________*****12 Training Accuracy: 0.9979381443298969 *****_______\n",
            "Epoch: _________*****12 Validation Loss : 0.7588034417511018 *****_______\n",
            "Epoch: _________*****12 Validation Accuracy. 0.9855371900826446 *****_______\n",
            "\n",
            "\n",
            "Epoch: _________*****13*****_______\n",
            "Epoch: _________*****13 Training Loss : 0.7471177807788258 *****_______\n",
            "Epoch: _________*****13 Training Accuracy: 0.9992268041237113 *****_______\n",
            "Epoch: _________*****13 Validation Loss : 0.7523846089347335 *****_______\n",
            "Epoch: _________*****13 Validation Accuracy. 0.9917355371900827 *****_______\n",
            "\n",
            "\n",
            "Epoch: _________*****14*****_______\n",
            "Epoch: _________*****14 Training Loss : 0.747122348092266 *****_______\n",
            "Epoch: _________*****14 Training Accuracy: 0.9985824742268041 *****_______\n",
            "Epoch: _________*****14 Validation Loss : 0.7565596761289707 *****_______\n",
            "Epoch: _________*****14 Validation Accuracy. 0.9865702479338843 *****_______\n",
            "\n",
            "\n",
            "Epoch: _________*****15*****_______\n",
            "Epoch: _________*****15 Training Loss : 0.7467911013622874 *****_______\n",
            "Epoch: _________*****15 Training Accuracy: 0.9992268041237113 *****_______\n",
            "Epoch: _________*****15 Validation Loss : 0.7520602796195952 *****_______\n",
            "Epoch: _________*****15 Validation Accuracy. 0.9917355371900827 *****_______\n",
            "\n",
            "\n",
            "Epoch: _________*****16*****_______\n",
            "Epoch: _________*****16 Training Loss : 0.7470574965182039 *****_______\n",
            "Epoch: _________*****16 Training Accuracy: 0.9989690721649485 *****_______\n",
            "Epoch: _________*****16 Validation Loss : 0.7567420707753867 *****_______\n",
            "Epoch: _________*****16 Validation Accuracy. 0.9870867768595041 *****_______\n",
            "\n",
            "\n",
            "Epoch: _________*****17*****_______\n",
            "Epoch: _________*****17 Training Loss : 0.7461586190253189 *****_______\n",
            "Epoch: _________*****17 Training Accuracy: 0.998840206185567 *****_______\n",
            "Epoch: _________*****17 Validation Loss : 0.7576337476407201 *****_______\n",
            "Epoch: _________*****17 Validation Accuracy. 0.984504132231405 *****_______\n",
            "\n",
            "\n",
            "Epoch: _________*****18*****_______\n",
            "Epoch: _________*****18 Training Loss : 0.7468954147751798 *****_______\n",
            "Epoch: _________*****18 Training Accuracy: 0.9989690721649485 *****_______\n",
            "Epoch: _________*****18 Validation Loss : 0.7555579343610559 *****_______\n",
            "Epoch: _________*****18 Validation Accuracy. 0.9881198347107438 *****_______\n",
            "\n",
            "\n",
            "Epoch: _________*****19*****_______\n",
            "Epoch: _________*****19 Training Loss : 0.7461378348242377 *****_______\n",
            "Epoch: _________*****19 Training Accuracy: 0.9993556701030928 *****_______\n",
            "Epoch: _________*****19 Validation Loss : 0.7540234967696765 *****_______\n",
            "Epoch: _________*****19 Validation Accuracy. 0.9899276859504132 *****_______\n",
            "\n",
            "\n"
          ]
        }
      ]
    },
    {
      "cell_type": "code",
      "source": [
        "torch.save(model.to('cpu').state_dict(), '/content/apple.pth')"
      ],
      "metadata": {
        "id": "tvw4nHr77LvZ"
      },
      "execution_count": 38,
      "outputs": []
    },
    {
      "cell_type": "code",
      "source": [
        "transforms = T.Compose(\n",
        "        [T.ToTensor(),\n",
        "        T.Normalize(mean=[0.485,\n",
        "           0.456, 0.406],std=[0.229, 0.224, 0.225])]\n",
        "        )\n",
        "\n",
        "    \n",
        "def read_transform(img):\n",
        "        f = img\n",
        "        im = cv2.imread(f)\n",
        "        im = cv2.resize(im, (224,224))\n",
        "        im = transforms(im)\n",
        "        return torch.tensor(im,dtype=torch.float).to(device)\n",
        "\n",
        "def get_model(no_classes):\n",
        "    model = torchvision.models.vgg16(pretrained=True)\n",
        "    for param in model.features.parameters():\n",
        "                   param.requires_grad = False\n",
        "    model.avgpool = model.avgpool = nn.AdaptiveAvgPool2d(output_size=(1,1))\n",
        "    model.classifier = nn.Sequential(nn.Flatten(),\n",
        "                                   nn.Linear(512, 128),\n",
        "                                   nn.ReLU(),\n",
        "                                   nn.Dropout(0.2),\n",
        "                                   nn.Linear(128, no_classes),\n",
        "                                   nn.Sigmoid())\n",
        "\n",
        "    return model.to(device)\n",
        "\n",
        "def load_model(model_path, classes):\n",
        "  model = get_model(classes)\n",
        "  state_dict = torch.load(model_path)\n",
        "  return model,state_dict"
      ],
      "metadata": {
        "id": "bO_Lg0ReGth-"
      },
      "execution_count": 39,
      "outputs": []
    },
    {
      "cell_type": "code",
      "source": [
        "def predict(image, crop):\n",
        "  img = read_transform(image)\n",
        "  img = img.to(device)\n",
        "  model, state_dict = load_model('/content/apple.pth', 4)\n",
        "  model.load_state_dict(state_dict)\n",
        "  output = model(img.unsqueeze_(0))\n",
        "  pred, conf = output.max(-1)\n",
        "  \n",
        "  return conf.item(), pred"
      ],
      "metadata": {
        "id": "pVwy65IoFyIK"
      },
      "execution_count": 42,
      "outputs": []
    },
    {
      "cell_type": "code",
      "source": [
        "predict('/content/apple_black_rot.png', 'rice')"
      ],
      "metadata": {
        "colab": {
          "base_uri": "https://localhost:8080/"
        },
        "id": "xMFpzzkPHTsY",
        "outputId": "094867de-950d-440c-89b7-e73c02fab62d"
      },
      "execution_count": 44,
      "outputs": [
        {
          "output_type": "stream",
          "name": "stderr",
          "text": [
            "<ipython-input-39-8f7dfe928870>:13: UserWarning: To copy construct from a tensor, it is recommended to use sourceTensor.clone().detach() or sourceTensor.clone().detach().requires_grad_(True), rather than torch.tensor(sourceTensor).\n",
            "  return torch.tensor(im,dtype=torch.float).to(device)\n"
          ]
        },
        {
          "output_type": "execute_result",
          "data": {
            "text/plain": [
              "(1, tensor([1.0000], device='cuda:0', grad_fn=<MaxBackward0>))"
            ]
          },
          "metadata": {},
          "execution_count": 44
        }
      ]
    },
    {
      "cell_type": "code",
      "source": [],
      "metadata": {
        "id": "j_kqglMeIGDr"
      },
      "execution_count": null,
      "outputs": []
    }
  ]
}