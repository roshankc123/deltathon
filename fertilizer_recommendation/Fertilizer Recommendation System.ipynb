{
 "cells": [
  {
   "cell_type": "code",
   "execution_count": 5,
   "id": "b7a083a2",
   "metadata": {},
   "outputs": [],
   "source": [
    "# Importing Libraries\n",
    "import numpy as np\n",
    "import pandas as pd\n",
    "from sklearn.metrics import accuracy_score\n",
    "from sklearn.ensemble import RandomForestClassifier\n",
    "from sklearn.model_selection import GridSearchCV\n",
    "import pickle\n",
    "import sklearn"
   ]
  },
  {
   "cell_type": "code",
   "execution_count": 10,
   "id": "1fb0984f",
   "metadata": {},
   "outputs": [],
   "source": [
    "dataset = pd.read_csv('Fertilizer Prediction.csv')"
   ]
  },
  {
   "cell_type": "code",
   "execution_count": 11,
   "id": "308a3cd3",
   "metadata": {},
   "outputs": [
    {
     "data": {
      "text/html": [
       "<div>\n",
       "<style scoped>\n",
       "    .dataframe tbody tr th:only-of-type {\n",
       "        vertical-align: middle;\n",
       "    }\n",
       "\n",
       "    .dataframe tbody tr th {\n",
       "        vertical-align: top;\n",
       "    }\n",
       "\n",
       "    .dataframe thead th {\n",
       "        text-align: right;\n",
       "    }\n",
       "</style>\n",
       "<table border=\"1\" class=\"dataframe\">\n",
       "  <thead>\n",
       "    <tr style=\"text-align: right;\">\n",
       "      <th></th>\n",
       "      <th>Temparature</th>\n",
       "      <th>Humidity</th>\n",
       "      <th>Moisture</th>\n",
       "      <th>Soil Type</th>\n",
       "      <th>Crop Type</th>\n",
       "      <th>Nitrogen</th>\n",
       "      <th>Potassium</th>\n",
       "      <th>Phosphorous</th>\n",
       "      <th>Fertilizer Name</th>\n",
       "    </tr>\n",
       "  </thead>\n",
       "  <tbody>\n",
       "    <tr>\n",
       "      <th>0</th>\n",
       "      <td>26</td>\n",
       "      <td>52</td>\n",
       "      <td>38</td>\n",
       "      <td>Sandy</td>\n",
       "      <td>Maize</td>\n",
       "      <td>37</td>\n",
       "      <td>0</td>\n",
       "      <td>0</td>\n",
       "      <td>Urea</td>\n",
       "    </tr>\n",
       "    <tr>\n",
       "      <th>1</th>\n",
       "      <td>29</td>\n",
       "      <td>52</td>\n",
       "      <td>45</td>\n",
       "      <td>Loamy</td>\n",
       "      <td>Sugarcane</td>\n",
       "      <td>12</td>\n",
       "      <td>0</td>\n",
       "      <td>36</td>\n",
       "      <td>DAP</td>\n",
       "    </tr>\n",
       "    <tr>\n",
       "      <th>2</th>\n",
       "      <td>34</td>\n",
       "      <td>65</td>\n",
       "      <td>62</td>\n",
       "      <td>Black</td>\n",
       "      <td>Cotton</td>\n",
       "      <td>7</td>\n",
       "      <td>9</td>\n",
       "      <td>30</td>\n",
       "      <td>14-35-14</td>\n",
       "    </tr>\n",
       "    <tr>\n",
       "      <th>3</th>\n",
       "      <td>32</td>\n",
       "      <td>62</td>\n",
       "      <td>34</td>\n",
       "      <td>Red</td>\n",
       "      <td>Tobacco</td>\n",
       "      <td>22</td>\n",
       "      <td>0</td>\n",
       "      <td>20</td>\n",
       "      <td>28-28</td>\n",
       "    </tr>\n",
       "    <tr>\n",
       "      <th>4</th>\n",
       "      <td>28</td>\n",
       "      <td>54</td>\n",
       "      <td>46</td>\n",
       "      <td>Clayey</td>\n",
       "      <td>Paddy</td>\n",
       "      <td>35</td>\n",
       "      <td>0</td>\n",
       "      <td>0</td>\n",
       "      <td>Urea</td>\n",
       "    </tr>\n",
       "  </tbody>\n",
       "</table>\n",
       "</div>"
      ],
      "text/plain": [
       "   Temparature  Humidity   Moisture Soil Type  Crop Type  Nitrogen  Potassium  \\\n",
       "0           26         52        38     Sandy      Maize        37          0   \n",
       "1           29         52        45     Loamy  Sugarcane        12          0   \n",
       "2           34         65        62     Black     Cotton         7          9   \n",
       "3           32         62        34       Red    Tobacco        22          0   \n",
       "4           28         54        46    Clayey      Paddy        35          0   \n",
       "\n",
       "   Phosphorous Fertilizer Name  \n",
       "0            0            Urea  \n",
       "1           36             DAP  \n",
       "2           30        14-35-14  \n",
       "3           20           28-28  \n",
       "4            0            Urea  "
      ]
     },
     "execution_count": 11,
     "metadata": {},
     "output_type": "execute_result"
    }
   ],
   "source": [
    "dataset.head()"
   ]
  },
  {
   "cell_type": "code",
   "execution_count": 12,
   "id": "345cdeda",
   "metadata": {},
   "outputs": [],
   "source": [
    "dataset_copy = pd.read_csv('Fertilizer Prediction.csv')"
   ]
  },
  {
   "cell_type": "code",
   "execution_count": 13,
   "id": "c8d2d7ce",
   "metadata": {},
   "outputs": [
    {
     "data": {
      "text/plain": [
       "(99, 9)"
      ]
     },
     "execution_count": 13,
     "metadata": {},
     "output_type": "execute_result"
    }
   ],
   "source": [
    "dataset.shape"
   ]
  },
  {
   "cell_type": "code",
   "execution_count": 14,
   "id": "3c3168b1",
   "metadata": {},
   "outputs": [
    {
     "data": {
      "text/plain": [
       "array(['Sandy', 'Loamy', 'Black', 'Red', 'Clayey'], dtype=object)"
      ]
     },
     "execution_count": 14,
     "metadata": {},
     "output_type": "execute_result"
    }
   ],
   "source": [
    "dataset['Soil Type'].unique()"
   ]
  },
  {
   "cell_type": "code",
   "execution_count": 15,
   "id": "a55e2406",
   "metadata": {},
   "outputs": [
    {
     "data": {
      "text/plain": [
       "Temparature        0\n",
       "Humidity           0\n",
       "Moisture           0\n",
       "Soil Type          0\n",
       "Crop Type          0\n",
       "Nitrogen           0\n",
       "Potassium          0\n",
       "Phosphorous        0\n",
       "Fertilizer Name    0\n",
       "dtype: int64"
      ]
     },
     "execution_count": 15,
     "metadata": {},
     "output_type": "execute_result"
    }
   ],
   "source": [
    "dataset.isnull().sum()"
   ]
  },
  {
   "cell_type": "code",
   "execution_count": 16,
   "id": "dbea6ce0",
   "metadata": {},
   "outputs": [
    {
     "name": "stdout",
     "output_type": "stream",
     "text": [
      "<class 'pandas.core.frame.DataFrame'>\n",
      "RangeIndex: 99 entries, 0 to 98\n",
      "Data columns (total 9 columns):\n",
      " #   Column           Non-Null Count  Dtype \n",
      "---  ------           --------------  ----- \n",
      " 0   Temparature      99 non-null     int64 \n",
      " 1   Humidity         99 non-null     int64 \n",
      " 2   Moisture         99 non-null     int64 \n",
      " 3   Soil Type        99 non-null     object\n",
      " 4   Crop Type        99 non-null     object\n",
      " 5   Nitrogen         99 non-null     int64 \n",
      " 6   Potassium        99 non-null     int64 \n",
      " 7   Phosphorous      99 non-null     int64 \n",
      " 8   Fertilizer Name  99 non-null     object\n",
      "dtypes: int64(6), object(3)\n",
      "memory usage: 7.1+ KB\n"
     ]
    }
   ],
   "source": [
    "dataset.info()"
   ]
  },
  {
   "cell_type": "code",
   "execution_count": 17,
   "id": "6676f156",
   "metadata": {},
   "outputs": [],
   "source": [
    "# categorical column\n",
    "categorical_column = [col for col in dataset.columns if dataset[col].dtype== 'O']"
   ]
  },
  {
   "cell_type": "code",
   "execution_count": 18,
   "id": "f57bbd41",
   "metadata": {},
   "outputs": [
    {
     "data": {
      "text/plain": [
       "['Soil Type', 'Crop Type', 'Fertilizer Name']"
      ]
     },
     "execution_count": 18,
     "metadata": {},
     "output_type": "execute_result"
    }
   ],
   "source": [
    "categorical_column"
   ]
  },
  {
   "cell_type": "code",
   "execution_count": 19,
   "id": "65cff3b0",
   "metadata": {},
   "outputs": [
    {
     "data": {
      "text/plain": [
       "Loamy     21\n",
       "Sandy     20\n",
       "Clayey    20\n",
       "Black     19\n",
       "Red       19\n",
       "Name: Soil Type, dtype: int64"
      ]
     },
     "execution_count": 19,
     "metadata": {},
     "output_type": "execute_result"
    }
   ],
   "source": [
    "dataset['Soil Type'].value_counts()"
   ]
  },
  {
   "cell_type": "code",
   "execution_count": 20,
   "id": "d71a9aee",
   "metadata": {},
   "outputs": [
    {
     "name": "stdout",
     "output_type": "stream",
     "text": [
      "Soil Type\n",
      "['Sandy' 'Loamy' 'Black' 'Red' 'Clayey']\n",
      "Crop Type\n",
      "['Maize' 'Sugarcane' 'Cotton' 'Tobacco' 'Paddy' 'Barley' 'Wheat' 'Millets'\n",
      " 'Oil seeds' 'Pulses' 'Ground Nuts']\n",
      "Fertilizer Name\n",
      "['Urea' 'DAP' '14-35-14' '28-28' '17-17-17' '20-20' '10-26-26']\n"
     ]
    }
   ],
   "source": [
    "for i in categorical_column:\n",
    "    print(i)\n",
    "    print(dataset[i].unique())\n",
    "    "
   ]
  },
  {
   "cell_type": "code",
   "execution_count": 21,
   "id": "e063d519",
   "metadata": {},
   "outputs": [],
   "source": [
    "def encode1(column_name):\n",
    "    dict_lable = dict()\n",
    "    labels_list = [lable for lable in dataset[column_name].unique()]   \n",
    "    for i, label in enumerate(labels_list):\n",
    "        dict_lable[label] = i\n",
    "    return dict_lable"
   ]
  },
  {
   "cell_type": "code",
   "execution_count": 22,
   "id": "05897fc6",
   "metadata": {},
   "outputs": [],
   "source": [
    "soil_type_dict =encode1('Soil Type')"
   ]
  },
  {
   "cell_type": "code",
   "execution_count": 23,
   "id": "f508c84e",
   "metadata": {},
   "outputs": [
    {
     "data": {
      "text/plain": [
       "{'Sandy': 0, 'Loamy': 1, 'Black': 2, 'Red': 3, 'Clayey': 4}"
      ]
     },
     "execution_count": 23,
     "metadata": {},
     "output_type": "execute_result"
    }
   ],
   "source": [
    "soil_type_dict"
   ]
  },
  {
   "cell_type": "code",
   "execution_count": 24,
   "id": "cc75803d",
   "metadata": {},
   "outputs": [],
   "source": [
    "dataset['Soil Type'] = dataset['Soil Type'].replace(soil_type_dict)"
   ]
  },
  {
   "cell_type": "code",
   "execution_count": 25,
   "id": "b2847c2a",
   "metadata": {},
   "outputs": [],
   "source": [
    "crop_type_dict = encode1('Crop Type')"
   ]
  },
  {
   "cell_type": "code",
   "execution_count": 26,
   "id": "0dffd573",
   "metadata": {},
   "outputs": [
    {
     "data": {
      "text/plain": [
       "{'Maize': 0,\n",
       " 'Sugarcane': 1,\n",
       " 'Cotton': 2,\n",
       " 'Tobacco': 3,\n",
       " 'Paddy': 4,\n",
       " 'Barley': 5,\n",
       " 'Wheat': 6,\n",
       " 'Millets': 7,\n",
       " 'Oil seeds': 8,\n",
       " 'Pulses': 9,\n",
       " 'Ground Nuts': 10}"
      ]
     },
     "execution_count": 26,
     "metadata": {},
     "output_type": "execute_result"
    }
   ],
   "source": [
    "crop_type_dict"
   ]
  },
  {
   "cell_type": "code",
   "execution_count": 27,
   "id": "8477cdff",
   "metadata": {},
   "outputs": [],
   "source": [
    "dataset['Crop Type'] = dataset['Crop Type'].replace(crop_type_dict)"
   ]
  },
  {
   "cell_type": "code",
   "execution_count": 28,
   "id": "c05ac260",
   "metadata": {},
   "outputs": [],
   "source": [
    "fertilizer_dict = encode1('Fertilizer Name')"
   ]
  },
  {
   "cell_type": "code",
   "execution_count": 29,
   "id": "2506a6d2",
   "metadata": {},
   "outputs": [
    {
     "data": {
      "text/plain": [
       "{'Urea': 0,\n",
       " 'DAP': 1,\n",
       " '14-35-14': 2,\n",
       " '28-28': 3,\n",
       " '17-17-17': 4,\n",
       " '20-20': 5,\n",
       " '10-26-26': 6}"
      ]
     },
     "execution_count": 29,
     "metadata": {},
     "output_type": "execute_result"
    }
   ],
   "source": [
    "fertilizer_dict"
   ]
  },
  {
   "cell_type": "code",
   "execution_count": 30,
   "id": "82011d87",
   "metadata": {},
   "outputs": [],
   "source": [
    "dataset['Fertilizer Name'] = dataset['Fertilizer Name'].replace(fertilizer_dict)"
   ]
  },
  {
   "cell_type": "code",
   "execution_count": 31,
   "id": "470c6b63",
   "metadata": {},
   "outputs": [
    {
     "data": {
      "text/plain": [
       "Index(['Temparature', 'Humidity ', 'Moisture', 'Soil Type', 'Crop Type',\n",
       "       'Nitrogen', 'Potassium', 'Phosphorous', 'Fertilizer Name'],\n",
       "      dtype='object')"
      ]
     },
     "execution_count": 31,
     "metadata": {},
     "output_type": "execute_result"
    }
   ],
   "source": [
    "dataset.columns"
   ]
  },
  {
   "cell_type": "code",
   "execution_count": 32,
   "id": "b74ccec9",
   "metadata": {},
   "outputs": [
    {
     "data": {
      "text/html": [
       "<div>\n",
       "<style scoped>\n",
       "    .dataframe tbody tr th:only-of-type {\n",
       "        vertical-align: middle;\n",
       "    }\n",
       "\n",
       "    .dataframe tbody tr th {\n",
       "        vertical-align: top;\n",
       "    }\n",
       "\n",
       "    .dataframe thead th {\n",
       "        text-align: right;\n",
       "    }\n",
       "</style>\n",
       "<table border=\"1\" class=\"dataframe\">\n",
       "  <thead>\n",
       "    <tr style=\"text-align: right;\">\n",
       "      <th></th>\n",
       "      <th>Temparature</th>\n",
       "      <th>Humidity</th>\n",
       "      <th>Moisture</th>\n",
       "      <th>Soil Type</th>\n",
       "      <th>Crop Type</th>\n",
       "      <th>Nitrogen</th>\n",
       "      <th>Potassium</th>\n",
       "      <th>Phosphorous</th>\n",
       "      <th>Fertilizer Name</th>\n",
       "    </tr>\n",
       "  </thead>\n",
       "  <tbody>\n",
       "    <tr>\n",
       "      <th>0</th>\n",
       "      <td>26</td>\n",
       "      <td>52</td>\n",
       "      <td>38</td>\n",
       "      <td>0</td>\n",
       "      <td>0</td>\n",
       "      <td>37</td>\n",
       "      <td>0</td>\n",
       "      <td>0</td>\n",
       "      <td>0</td>\n",
       "    </tr>\n",
       "    <tr>\n",
       "      <th>1</th>\n",
       "      <td>29</td>\n",
       "      <td>52</td>\n",
       "      <td>45</td>\n",
       "      <td>1</td>\n",
       "      <td>1</td>\n",
       "      <td>12</td>\n",
       "      <td>0</td>\n",
       "      <td>36</td>\n",
       "      <td>1</td>\n",
       "    </tr>\n",
       "    <tr>\n",
       "      <th>2</th>\n",
       "      <td>34</td>\n",
       "      <td>65</td>\n",
       "      <td>62</td>\n",
       "      <td>2</td>\n",
       "      <td>2</td>\n",
       "      <td>7</td>\n",
       "      <td>9</td>\n",
       "      <td>30</td>\n",
       "      <td>2</td>\n",
       "    </tr>\n",
       "    <tr>\n",
       "      <th>3</th>\n",
       "      <td>32</td>\n",
       "      <td>62</td>\n",
       "      <td>34</td>\n",
       "      <td>3</td>\n",
       "      <td>3</td>\n",
       "      <td>22</td>\n",
       "      <td>0</td>\n",
       "      <td>20</td>\n",
       "      <td>3</td>\n",
       "    </tr>\n",
       "    <tr>\n",
       "      <th>4</th>\n",
       "      <td>28</td>\n",
       "      <td>54</td>\n",
       "      <td>46</td>\n",
       "      <td>4</td>\n",
       "      <td>4</td>\n",
       "      <td>35</td>\n",
       "      <td>0</td>\n",
       "      <td>0</td>\n",
       "      <td>0</td>\n",
       "    </tr>\n",
       "  </tbody>\n",
       "</table>\n",
       "</div>"
      ],
      "text/plain": [
       "   Temparature  Humidity   Moisture  Soil Type  Crop Type  Nitrogen  \\\n",
       "0           26         52        38          0          0        37   \n",
       "1           29         52        45          1          1        12   \n",
       "2           34         65        62          2          2         7   \n",
       "3           32         62        34          3          3        22   \n",
       "4           28         54        46          4          4        35   \n",
       "\n",
       "   Potassium  Phosphorous  Fertilizer Name  \n",
       "0          0            0                0  \n",
       "1          0           36                1  \n",
       "2          9           30                2  \n",
       "3          0           20                3  \n",
       "4          0            0                0  "
      ]
     },
     "execution_count": 32,
     "metadata": {},
     "output_type": "execute_result"
    }
   ],
   "source": [
    "dataset.head()"
   ]
  },
  {
   "cell_type": "code",
   "execution_count": 33,
   "id": "38cf4a77",
   "metadata": {},
   "outputs": [],
   "source": [
    "##seperating dependent independent features\n",
    "X = dataset.drop('Fertilizer Name', axis = 1)\n",
    "y = dataset['Fertilizer Name']"
   ]
  },
  {
   "cell_type": "code",
   "execution_count": 34,
   "id": "7bc806d5",
   "metadata": {},
   "outputs": [],
   "source": [
    "## Normalization"
   ]
  },
  {
   "cell_type": "code",
   "execution_count": 35,
   "id": "6dc45617",
   "metadata": {},
   "outputs": [],
   "source": [
    "from sklearn.model_selection import train_test_split\n"
   ]
  },
  {
   "cell_type": "code",
   "execution_count": 36,
   "id": "12fd5760",
   "metadata": {},
   "outputs": [],
   "source": [
    "X_train, X_test, y_train, y_test = train_test_split(\n",
    "...     X, y, test_size=0.33, random_state=42)"
   ]
  },
  {
   "cell_type": "code",
   "execution_count": 37,
   "id": "e323c462",
   "metadata": {},
   "outputs": [],
   "source": [
    "from sklearn.preprocessing import StandardScaler"
   ]
  },
  {
   "cell_type": "code",
   "execution_count": 38,
   "id": "0f2b38bc",
   "metadata": {},
   "outputs": [],
   "source": [
    "scaler = StandardScaler()"
   ]
  },
  {
   "cell_type": "code",
   "execution_count": 39,
   "id": "5b37f161",
   "metadata": {},
   "outputs": [],
   "source": [
    "scaled_X_train = scaler.fit_transform(X_train)"
   ]
  },
  {
   "cell_type": "code",
   "execution_count": 40,
   "id": "5b037897",
   "metadata": {},
   "outputs": [],
   "source": [
    "scaled_X_test = scaler.transform(X_test)"
   ]
  },
  {
   "cell_type": "code",
   "execution_count": 41,
   "id": "598395c3",
   "metadata": {},
   "outputs": [],
   "source": [
    "pickle.dump(scaler, open('standard_scaler.pkl', \"wb\"))"
   ]
  },
  {
   "cell_type": "code",
   "execution_count": null,
   "id": "6c299828",
   "metadata": {},
   "outputs": [],
   "source": []
  }
 ],
 "metadata": {
  "kernelspec": {
   "display_name": "Python 3 (ipykernel)",
   "language": "python",
   "name": "python3"
  },
  "language_info": {
   "codemirror_mode": {
    "name": "ipython",
    "version": 3
   },
   "file_extension": ".py",
   "mimetype": "text/x-python",
   "name": "python",
   "nbconvert_exporter": "python",
   "pygments_lexer": "ipython3",
   "version": "3.9.12"
  }
 },
 "nbformat": 4,
 "nbformat_minor": 5
}
