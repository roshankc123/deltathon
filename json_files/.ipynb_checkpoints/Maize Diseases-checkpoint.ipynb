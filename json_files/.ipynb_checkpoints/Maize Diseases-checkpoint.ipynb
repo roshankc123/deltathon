{
 "cells": [
  {
   "cell_type": "code",
   "execution_count": 12,
   "id": "f114b7dc",
   "metadata": {},
   "outputs": [
    {
     "data": {
      "text/plain": [
       "{'Maize': {'Cercospora_leaf_spot': {'Information': 'Cercospora leaf spot or fruit spot is a fungus that requires moisture and is wind borne. The disease survives in dormant lesions from previous season fruit',\n",
       "   'Image': '',\n",
       "   'Treatment': {'1': 'Cultural control methods: Crop rotation, sanitation, and proper field management practices can help to reduce the incidence of Cercospora leaf spot. This includes removing and destroying all crop debris, keeping the field clean and free of weeds, and planting disease-free seed.',\n",
       "    '2': 'Chemical control methods: Applying fungicides at the right time can help to control Cercospora leaf spot. Fungicides should be applied when the first symptoms of the disease appear and should be repeated at regular intervals according to the product label instructions.',\n",
       "    '3': 'Biological control methods: some studies have shown that the use of certain bacteria and fungi can help to control Cercospora leaf spot by suppressing the growth of the pathogen.'}},\n",
       "  '___Common_rust_': {'information': 'Common rust (CR) caused by Puccina sorghi is one of the destructive fungal foliar diseases of maize and has been reported to cause moderate to high yield losses',\n",
       "   'Image': '',\n",
       "   'Treatment': {'1': 'Cultural control methods: Crop rotation, sanitation, and proper field management practices can help to reduce the incidence of common rust in maize. This includes removing and destroying all crop debris, keeping the field clean and free of weeds, and planting disease-free seed.',\n",
       "    '2': 'Chemical control methods: Applying fungicides at the right time can help to control common rust. Fungicides should be applied when the first symptoms of the disease appear and should be repeated at regular intervals according to the product label instructions.',\n",
       "    '3': 'Genetic resistance: Maize hybrids with genetic resistance to common rust are available. This can be an effective way to control the disease, especially in areas where the disease is prevalent. '}},\n",
       "  '___Northern_Leaf_Blight': {'information': 'Northern leaf spot of maize is caused by the fungus Helminthosporium carbonum, which overwinters on corn residues in the soil. ',\n",
       "   'Treatment': {'1': 'Cultural control methods: Crop rotation, sanitation, and proper field management practices can help to reduce the incidence of Northern leaf blight in maize. This includes removing and destroying all crop debris, keeping the field clean and free of weeds, and planting disease-free seed.',\n",
       "    '2': 'Chemical control methods: Applying fungicides at the right time can help to control Northern leaf blight. Fungicides should be applied when the first symptoms of the disease appear and should be repeated at regular intervals according to the product label instructions.',\n",
       "    '3': 'Genetic resistance: Maize hybrids with genetic resistance to Northern leaf blight are available. This can be an effective way to control the disease, especially in areas where the disease is prevalent.'}}}}"
      ]
     },
     "execution_count": 12,
     "metadata": {},
     "output_type": "execute_result"
    }
   ],
   "source": [
    "{\n",
    "    \"Maize\":{\n",
    "        \"Cercospora_leaf_spot\":{\n",
    "            \"Information\":\"Cercospora leaf spot or fruit spot is a fungus that requires moisture and is wind borne. The disease survives in dormant lesions from previous season fruit\",\n",
    "            \"Image\":\"\",\n",
    "            \"Treatment\":{\n",
    "                '1':\"Cultural control methods: Crop rotation, sanitation, and proper field management practices can help to reduce the incidence of Cercospora leaf spot. This includes removing and destroying all crop debris, keeping the field clean and free of weeds, and planting disease-free seed.\",\n",
    "\n",
    "'2':\"Chemical control methods: Applying fungicides at the right time can help to control Cercospora leaf spot. Fungicides should be applied when the first symptoms of the disease appear and should be repeated at regular intervals according to the product label instructions.\",\n",
    "\n",
    "'3':\"Biological control methods: some studies have shown that the use of certain bacteria and fungi can help to control Cercospora leaf spot by suppressing the growth of the pathogen.\"\n",
    "                \n",
    "            }\n",
    "            \n",
    "        },\n",
    "        \"___Common_rust_\":\n",
    "        {\n",
    "            \"information\":\"Common rust (CR) caused by Puccina sorghi is one of the destructive fungal foliar diseases of maize and has been reported to cause moderate to high yield losses\",\n",
    "            \"Image\":\"\",\n",
    "            \"Treatment\":{\n",
    "           '1':\"Cultural control methods: Crop rotation, sanitation, and proper field management practices can help to reduce the incidence of common rust in maize. This includes removing and destroying all crop debris, keeping the field clean and free of weeds, and planting disease-free seed.\",\n",
    "\n",
    "'2':\"Chemical control methods: Applying fungicides at the right time can help to control common rust. Fungicides should be applied when the first symptoms of the disease appear and should be repeated at regular intervals according to the product label instructions.\",\n",
    "\n",
    "'3':\"Genetic resistance: Maize hybrids with genetic resistance to common rust are available. This can be an effective way to control the disease, especially in areas where the disease is prevalent. \"\n",
    "            \n",
    "        }\n",
    "        },\n",
    "        \n",
    "    '___Northern_Leaf_Blight':{\n",
    "        \n",
    "        \n",
    "        \"information\":\"Northern leaf spot of maize is caused by the fungus Helminthosporium carbonum, which overwinters on corn residues in the soil. \",\n",
    "        \"Treatment\":{\n",
    "        '1': \"Cultural control methods: Crop rotation, sanitation, and proper field management practices can help to reduce the incidence of Northern leaf blight in maize. This includes removing and destroying all crop debris, keeping the field clean and free of weeds, and planting disease-free seed.\",\n",
    "\n",
    "'2':\"Chemical control methods: Applying fungicides at the right time can help to control Northern leaf blight. Fungicides should be applied when the first symptoms of the disease appear and should be repeated at regular intervals according to the product label instructions.\",\n",
    "\n",
    "'3':\"Genetic resistance: Maize hybrids with genetic resistance to Northern leaf blight are available. This can be an effective way to control the disease, especially in areas where the disease is prevalent.\"\n",
    "        \n",
    "    }\n",
    "    }\n",
    "}\n",
    "}"
   ]
  },
  {
   "cell_type": "code",
   "execution_count": 13,
   "id": "b68d701e",
   "metadata": {},
   "outputs": [
    {
     "data": {
      "text/plain": [
       "{'Apple': {' Apple_scab': {'Information': 'Apple scab is the most common disease that is found in apple and crabapple trees in Minnesota. Scab is caused by a fungus that infects both the leaves and fruit. ',\n",
       "   'Image': '',\n",
       "   'Treatment': {'1': 'Cultural control methods: Raking and removing fallen leaves from around the tree, avoiding overhead irrigation, and planting scab-resistant varieties of apple can help to reduce the incidence of apple scab.',\n",
       "    '2': 'Chemical control methods: Applying fungicides at the right time can help to control apple scab. Fungicides should be applied when the first symptoms of the disease appear and should be repeated at regular intervals according to the product label instructions.',\n",
       "    '3': 'Biological control methods: Some studies have shown that the use of certain bacteria and fungi can help to control apple scab by suppressing the growth of the pathogen.'}},\n",
       "  'Cedar_apple_rust': {'Information': 'Cedar-apple rust and similar rusts are incited by several species of the fungal genus Gymnosporangium. ',\n",
       "   'Treatment': {'1': ' Cultural control methods: Raking and removing fallen leaves from around the tree, avoiding overhead irrigation, and planting rust-resistant varieties of apple can help to reduce the incidence of cedar apple rust.',\n",
       "    '2': 'Chemical control methods: Applying fungicides at the right time can help to control cedar apple rust. Fungicides should be applied when the first symptoms of the disease appear and should be repeated at regular intervals according to the product label instructions.',\n",
       "    '3': 'Genetic resistance: Planting apple varieties that are resistant to cedar apple rust can be an effective way to control the disease.'}},\n",
       "  'Black_rot': {'Information': 'Black rot is an important disease of apple caused by the fungus Botryosphaeria obtusa. Black rot fungus infects a wide variety of hardwood trees, including apple and pear. ',\n",
       "   'Treatment': {'1': 'Cultural control methods: Sanitation, pruning, and removing infected fruit and wood from the tree can help to reduce the incidence of apple black rot.',\n",
       "    '2': 'Chemical control methods: Applying fungicides at the right time can help to control apple black rot. Fungicides should be applied when the first symptoms of the disease appear and should be repeated at regular intervals according to the product label instructions.',\n",
       "    '3': 'Genetic resistance: Planting apple varieties that are resistant to apple black rot can be an effective way to control the disease.'}}}}"
      ]
     },
     "execution_count": 13,
     "metadata": {},
     "output_type": "execute_result"
    }
   ],
   "source": [
    "{\n",
    "    \"Apple\":{\n",
    "        \" Apple_scab\":{\n",
    "            \"Information\":\"Apple scab is the most common disease that is found in apple and crabapple trees in Minnesota. Scab is caused by a fungus that infects both the leaves and fruit. \",\n",
    "            \"Image\":\"\",\n",
    "            \"Treatment\":{\n",
    "                '1':\"Cultural control methods: Raking and removing fallen leaves from around the tree, avoiding overhead irrigation, and planting scab-resistant varieties of apple can help to reduce the incidence of apple scab.\",\n",
    "\n",
    "'2':\"Chemical control methods: Applying fungicides at the right time can help to control apple scab. Fungicides should be applied when the first symptoms of the disease appear and should be repeated at regular intervals according to the product label instructions.\",\n",
    "\n",
    "'3':\"Biological control methods: Some studies have shown that the use of certain bacteria and fungi can help to control apple scab by suppressing the growth of the pathogen.\"\n",
    "            }\n",
    "            \n",
    "        },\n",
    "        \"Cedar_apple_rust\":\n",
    "        {\n",
    "            \"Information\":\"Cedar-apple rust and similar rusts are incited by several species of the fungal genus Gymnosporangium. \",\n",
    "            \"Treatment\":{\n",
    "          '1':\" Cultural control methods: Raking and removing fallen leaves from around the tree, avoiding overhead irrigation, and planting rust-resistant varieties of apple can help to reduce the incidence of cedar apple rust.\",\n",
    "\n",
    "'2':\"Chemical control methods: Applying fungicides at the right time can help to control cedar apple rust. Fungicides should be applied when the first symptoms of the disease appear and should be repeated at regular intervals according to the product label instructions.\",\n",
    "\n",
    "'3':\"Genetic resistance: Planting apple varieties that are resistant to cedar apple rust can be an effective way to control the disease.\"\n",
    "        }\n",
    "        },\n",
    "        \n",
    "    'Black_rot':{\n",
    "        \"Information\":\"Black rot is an important disease of apple caused by the fungus Botryosphaeria obtusa. Black rot fungus infects a wide variety of hardwood trees, including apple and pear. \",\n",
    "        \"Treatment\":{\n",
    "        '1':\"Cultural control methods: Sanitation, pruning, and removing infected fruit and wood from the tree can help to reduce the incidence of apple black rot.\",\n",
    "\n",
    "'2':\"Chemical control methods: Applying fungicides at the right time can help to control apple black rot. Fungicides should be applied when the first symptoms of the disease appear and should be repeated at regular intervals according to the product label instructions.\",\n",
    "\n",
    "'3':\"Genetic resistance: Planting apple varieties that are resistant to apple black rot can be an effective way to control the disease.\"\n",
    "        \n",
    "    }\n",
    "    }\n",
    "}\n",
    "}"
   ]
  },
  {
   "cell_type": "code",
   "execution_count": 19,
   "id": "f4155319",
   "metadata": {},
   "outputs": [
    {
     "data": {
      "text/plain": [
       "{'Potato': {'Potato___Early_blight': {'Information': 'Early blight of potato is caused by the fungus, Alternaria solani, which can cause disease in potato, tomato, other members of the potato family, and some mustards.',\n",
       "   'Image': '',\n",
       "   'Treatment': {'1': ' Use of resistant varieties: Growing potato varieties that are resistant to early blight can significantly reduce the risk of infection.',\n",
       "    '2': ' Crop rotation: Avoid planting potatoes in the same area of the field for several years in a row to reduce the buildup of the fungal spores in the soil.',\n",
       "    '3': 'Foliar fungicides: Applying fungicides to the foliage of potato plants can help to control early blight by preventing the fungus from infecting the leaves.'}},\n",
       "  'Late_blight': {'Information': 'late blight, also called potato blight, disease of potato and tomato plants that is caused by the water mold Phytophthora infestans.',\n",
       "   'Image': '',\n",
       "   'Treatment': {'1': ' Use of resistant varieties: Just like early blight, using potato varieties that are resistant to late blight can help to reduce the risk of infection.',\n",
       "    '2': ' Foliar fungicides: Applying fungicides to the foliage of potato plants can help to control late blight by preventing the fungus from infecting the leaves.',\n",
       "    '3': ' Proper irrigation: Late blight thrives in wet conditions, so proper irrigation can help to reduce the risk of infection by keeping the foliage dry.'}}}}"
      ]
     },
     "execution_count": 19,
     "metadata": {},
     "output_type": "execute_result"
    }
   ],
   "source": [
    "{\n",
    "    \"Potato\":{\n",
    "        \"Potato___Early_blight\":{\n",
    "            \"Information\":\"Early blight of potato is caused by the fungus, Alternaria solani, which can cause disease in potato, tomato, other members of the potato family, and some mustards.\",\n",
    "            \"Image\":\"\",\n",
    "            \"Treatment\":{\n",
    "                \"1\":\" Use of resistant varieties: Growing potato varieties that are resistant to early blight can significantly reduce the risk of infection.\",\n",
    "                \"2\":\" Crop rotation: Avoid planting potatoes in the same area of the field for several years in a row to reduce the buildup of the fungal spores in the soil.\",\n",
    "                \"3\":\"Foliar fungicides: Applying fungicides to the foliage of potato plants can help to control early blight by preventing the fungus from infecting the leaves.\"\n",
    "                \n",
    "            }\n",
    "        },\n",
    "        \n",
    "        \"Late_blight\":{\n",
    "            \n",
    "            \"Information\":\"late blight, also called potato blight, disease of potato and tomato plants that is caused by the water mold Phytophthora infestans.\",\n",
    "            \"Image\":\"\",\n",
    "            \"Treatment\":{\n",
    "                \"1\":\" Use of resistant varieties: Just like early blight, using potato varieties that are resistant to late blight can help to reduce the risk of infection.\",\n",
    "\"2\":\" Foliar fungicides: Applying fungicides to the foliage of potato plants can help to control late blight by preventing the fungus from infecting the leaves.\",\n",
    "\"3\":\" Proper irrigation: Late blight thrives in wet conditions, so proper irrigation can help to reduce the risk of infection by keeping the foliage dry.\"\n",
    "\n",
    "\n",
    "                \n",
    "                \n",
    "            }\n",
    "            \n",
    "        }\n",
    "        \n",
    "    }\n",
    "}"
   ]
  },
  {
   "cell_type": "code",
   "execution_count": null,
   "id": "adba90df",
   "metadata": {},
   "outputs": [],
   "source": []
  }
 ],
 "metadata": {
  "kernelspec": {
   "display_name": "Python 3 (ipykernel)",
   "language": "python",
   "name": "python3"
  },
  "language_info": {
   "codemirror_mode": {
    "name": "ipython",
    "version": 3
   },
   "file_extension": ".py",
   "mimetype": "text/x-python",
   "name": "python",
   "nbconvert_exporter": "python",
   "pygments_lexer": "ipython3",
   "version": "3.9.12"
  }
 },
 "nbformat": 4,
 "nbformat_minor": 5
}
